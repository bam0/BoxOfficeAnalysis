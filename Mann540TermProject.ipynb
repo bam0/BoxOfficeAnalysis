{
 "cells": [
  {
   "cell_type": "markdown",
   "id": "7b1ee98f",
   "metadata": {},
   "source": [
    "# DSC 540\n",
    "# Term Project\n",
    "# Brian Mann"
   ]
  },
  {
   "cell_type": "code",
   "execution_count": 177,
   "id": "70135c9e",
   "metadata": {},
   "outputs": [],
   "source": [
    "# hide warnings\n",
    "import warnings\n",
    "warnings.filterwarnings('ignore')"
   ]
  },
  {
   "cell_type": "code",
   "execution_count": 571,
   "id": "e1e4e81b",
   "metadata": {},
   "outputs": [],
   "source": [
    "### Imported modules ###\n",
    "import pandas as pd\n",
    "import numpy as np\n",
    "import matplotlib.pyplot as plt\n",
    "import seaborn as sns\n",
    "from bs4 import BeautifulSoup\n",
    "import html5lib\n",
    "import re\n",
    "import requests\n",
    "from imdb import Cinemagoer\n",
    "import sqlite3"
   ]
  },
  {
   "cell_type": "code",
   "execution_count": 179,
   "id": "d8db4865",
   "metadata": {},
   "outputs": [],
   "source": [
    "### Sources ###\n",
    "\n",
    "# Flat file\n",
    "flat_file_url = 'https://www.kaggle.com/datasets/andrezaza/clapper-massive-rotten-tomatoes-movies-and-reviews?select=rotten_tomatoes_movies.csv'\n",
    "# Website\n",
    "website_url = 'https://www.boxofficemojo.com/chart/top_lifetime_gross/'\n",
    "# API\n",
    "api_url = 'https://github.com/cinemagoer/cinemagoer'"
   ]
  },
  {
   "cell_type": "markdown",
   "id": "6dad3535",
   "metadata": {},
   "source": [
    "## Milestone 2 - Flat File\n",
    "\n",
    "### Reading in the Data"
   ]
  },
  {
   "cell_type": "code",
   "execution_count": 384,
   "id": "786412c1",
   "metadata": {},
   "outputs": [
    {
     "data": {
      "text/html": [
       "<div>\n",
       "<style scoped>\n",
       "    .dataframe tbody tr th:only-of-type {\n",
       "        vertical-align: middle;\n",
       "    }\n",
       "\n",
       "    .dataframe tbody tr th {\n",
       "        vertical-align: top;\n",
       "    }\n",
       "\n",
       "    .dataframe thead th {\n",
       "        text-align: right;\n",
       "    }\n",
       "</style>\n",
       "<table border=\"1\" class=\"dataframe\">\n",
       "  <thead>\n",
       "    <tr style=\"text-align: right;\">\n",
       "      <th></th>\n",
       "      <th>id</th>\n",
       "      <th>title</th>\n",
       "      <th>audienceScore</th>\n",
       "      <th>tomatoMeter</th>\n",
       "      <th>rating</th>\n",
       "      <th>ratingContents</th>\n",
       "      <th>releaseDateTheaters</th>\n",
       "      <th>releaseDateStreaming</th>\n",
       "      <th>runtimeMinutes</th>\n",
       "      <th>genre</th>\n",
       "      <th>originalLanguage</th>\n",
       "      <th>director</th>\n",
       "      <th>writer</th>\n",
       "      <th>boxOffice</th>\n",
       "      <th>distributor</th>\n",
       "      <th>soundMix</th>\n",
       "    </tr>\n",
       "  </thead>\n",
       "  <tbody>\n",
       "    <tr>\n",
       "      <th>0</th>\n",
       "      <td>space-zombie-bingo</td>\n",
       "      <td>Space Zombie Bingo!</td>\n",
       "      <td>50.0</td>\n",
       "      <td>NaN</td>\n",
       "      <td>NaN</td>\n",
       "      <td>NaN</td>\n",
       "      <td>NaN</td>\n",
       "      <td>2018-08-25</td>\n",
       "      <td>75.0</td>\n",
       "      <td>Comedy, Horror, Sci-fi</td>\n",
       "      <td>English</td>\n",
       "      <td>George Ormrod</td>\n",
       "      <td>George Ormrod,John Sabotta</td>\n",
       "      <td>NaN</td>\n",
       "      <td>NaN</td>\n",
       "      <td>NaN</td>\n",
       "    </tr>\n",
       "    <tr>\n",
       "      <th>1</th>\n",
       "      <td>the_green_grass</td>\n",
       "      <td>The Green Grass</td>\n",
       "      <td>NaN</td>\n",
       "      <td>NaN</td>\n",
       "      <td>NaN</td>\n",
       "      <td>NaN</td>\n",
       "      <td>NaN</td>\n",
       "      <td>2020-02-11</td>\n",
       "      <td>114.0</td>\n",
       "      <td>Drama</td>\n",
       "      <td>English</td>\n",
       "      <td>Tiffany Edwards</td>\n",
       "      <td>Tiffany Edwards</td>\n",
       "      <td>NaN</td>\n",
       "      <td>NaN</td>\n",
       "      <td>NaN</td>\n",
       "    </tr>\n",
       "    <tr>\n",
       "      <th>2</th>\n",
       "      <td>love_lies</td>\n",
       "      <td>Love, Lies</td>\n",
       "      <td>43.0</td>\n",
       "      <td>NaN</td>\n",
       "      <td>NaN</td>\n",
       "      <td>NaN</td>\n",
       "      <td>NaN</td>\n",
       "      <td>NaN</td>\n",
       "      <td>120.0</td>\n",
       "      <td>Drama</td>\n",
       "      <td>Korean</td>\n",
       "      <td>Park Heung-Sik,Heung-Sik Park</td>\n",
       "      <td>Ha Young-Joon,Jeon Yun-su,Song Hye-jin</td>\n",
       "      <td>NaN</td>\n",
       "      <td>NaN</td>\n",
       "      <td>NaN</td>\n",
       "    </tr>\n",
       "    <tr>\n",
       "      <th>3</th>\n",
       "      <td>the_sore_losers_1997</td>\n",
       "      <td>Sore Losers</td>\n",
       "      <td>60.0</td>\n",
       "      <td>NaN</td>\n",
       "      <td>NaN</td>\n",
       "      <td>NaN</td>\n",
       "      <td>NaN</td>\n",
       "      <td>2020-10-23</td>\n",
       "      <td>90.0</td>\n",
       "      <td>Action, Mystery &amp; thriller</td>\n",
       "      <td>English</td>\n",
       "      <td>John Michael McCarthy</td>\n",
       "      <td>John Michael McCarthy</td>\n",
       "      <td>NaN</td>\n",
       "      <td>NaN</td>\n",
       "      <td>NaN</td>\n",
       "    </tr>\n",
       "    <tr>\n",
       "      <th>4</th>\n",
       "      <td>dinosaur_island_2002</td>\n",
       "      <td>Dinosaur Island</td>\n",
       "      <td>70.0</td>\n",
       "      <td>NaN</td>\n",
       "      <td>NaN</td>\n",
       "      <td>NaN</td>\n",
       "      <td>NaN</td>\n",
       "      <td>2017-03-27</td>\n",
       "      <td>80.0</td>\n",
       "      <td>Fantasy, Adventure, Animation</td>\n",
       "      <td>English</td>\n",
       "      <td>Will Meugniot</td>\n",
       "      <td>John Loy</td>\n",
       "      <td>NaN</td>\n",
       "      <td>NaN</td>\n",
       "      <td>NaN</td>\n",
       "    </tr>\n",
       "  </tbody>\n",
       "</table>\n",
       "</div>"
      ],
      "text/plain": [
       "                     id                title  audienceScore  tomatoMeter  \\\n",
       "0    space-zombie-bingo  Space Zombie Bingo!           50.0          NaN   \n",
       "1       the_green_grass      The Green Grass            NaN          NaN   \n",
       "2             love_lies           Love, Lies           43.0          NaN   \n",
       "3  the_sore_losers_1997          Sore Losers           60.0          NaN   \n",
       "4  dinosaur_island_2002      Dinosaur Island           70.0          NaN   \n",
       "\n",
       "  rating ratingContents releaseDateTheaters releaseDateStreaming  \\\n",
       "0    NaN            NaN                 NaN           2018-08-25   \n",
       "1    NaN            NaN                 NaN           2020-02-11   \n",
       "2    NaN            NaN                 NaN                  NaN   \n",
       "3    NaN            NaN                 NaN           2020-10-23   \n",
       "4    NaN            NaN                 NaN           2017-03-27   \n",
       "\n",
       "   runtimeMinutes                          genre originalLanguage  \\\n",
       "0            75.0         Comedy, Horror, Sci-fi          English   \n",
       "1           114.0                          Drama          English   \n",
       "2           120.0                          Drama           Korean   \n",
       "3            90.0     Action, Mystery & thriller          English   \n",
       "4            80.0  Fantasy, Adventure, Animation          English   \n",
       "\n",
       "                        director                                  writer  \\\n",
       "0                  George Ormrod              George Ormrod,John Sabotta   \n",
       "1                Tiffany Edwards                         Tiffany Edwards   \n",
       "2  Park Heung-Sik,Heung-Sik Park  Ha Young-Joon,Jeon Yun-su,Song Hye-jin   \n",
       "3          John Michael McCarthy                   John Michael McCarthy   \n",
       "4                  Will Meugniot                                John Loy   \n",
       "\n",
       "  boxOffice distributor soundMix  \n",
       "0       NaN         NaN      NaN  \n",
       "1       NaN         NaN      NaN  \n",
       "2       NaN         NaN      NaN  \n",
       "3       NaN         NaN      NaN  \n",
       "4       NaN         NaN      NaN  "
      ]
     },
     "execution_count": 384,
     "metadata": {},
     "output_type": "execute_result"
    }
   ],
   "source": [
    "raw_rt = pd.read_csv('rotten_tomatoes_movies.csv')\n",
    "raw_rt.head()"
   ]
  },
  {
   "cell_type": "code",
   "execution_count": 385,
   "id": "69535613",
   "metadata": {},
   "outputs": [
    {
     "name": "stdout",
     "output_type": "stream",
     "text": [
      "<class 'pandas.core.frame.DataFrame'>\n",
      "RangeIndex: 143258 entries, 0 to 143257\n",
      "Data columns (total 16 columns):\n",
      " #   Column                Non-Null Count   Dtype  \n",
      "---  ------                --------------   -----  \n",
      " 0   id                    143258 non-null  object \n",
      " 1   title                 142891 non-null  object \n",
      " 2   audienceScore         73248 non-null   float64\n",
      " 3   tomatoMeter           33877 non-null   float64\n",
      " 4   rating                13991 non-null   object \n",
      " 5   ratingContents        13991 non-null   object \n",
      " 6   releaseDateTheaters   30773 non-null   object \n",
      " 7   releaseDateStreaming  79420 non-null   object \n",
      " 8   runtimeMinutes        129431 non-null  float64\n",
      " 9   genre                 132175 non-null  object \n",
      " 10  originalLanguage      129400 non-null  object \n",
      " 11  director              139041 non-null  object \n",
      " 12  writer                90116 non-null   object \n",
      " 13  boxOffice             14743 non-null   object \n",
      " 14  distributor           23001 non-null   object \n",
      " 15  soundMix              15917 non-null   object \n",
      "dtypes: float64(3), object(13)\n",
      "memory usage: 17.5+ MB\n"
     ]
    }
   ],
   "source": [
    "raw_rt.info()"
   ]
  },
  {
   "cell_type": "code",
   "execution_count": 386,
   "id": "42b416be",
   "metadata": {},
   "outputs": [
    {
     "data": {
      "text/plain": [
       "id                           0\n",
       "title                      367\n",
       "audienceScore            70010\n",
       "tomatoMeter             109381\n",
       "rating                  129267\n",
       "ratingContents          129267\n",
       "releaseDateTheaters     112485\n",
       "releaseDateStreaming     63838\n",
       "runtimeMinutes           13827\n",
       "genre                    11083\n",
       "originalLanguage         13858\n",
       "director                  4217\n",
       "writer                   53142\n",
       "boxOffice               128515\n",
       "distributor             120257\n",
       "soundMix                127341\n",
       "dtype: int64"
      ]
     },
     "execution_count": 386,
     "metadata": {},
     "output_type": "execute_result"
    }
   ],
   "source": [
    "raw_rt.isna().sum()"
   ]
  },
  {
   "cell_type": "markdown",
   "id": "0c893633",
   "metadata": {},
   "source": [
    "As we can see, the dataset contains over 140,000 rows and 16 columns. Unfortunately, many of the values are missing, so we will need to trim it down considerably. In the end, we are only going to focus on higher box-office earners. "
   ]
  },
  {
   "cell_type": "markdown",
   "id": "8af7f038",
   "metadata": {},
   "source": [
    "### Step 1: Change Column Titles"
   ]
  },
  {
   "cell_type": "code",
   "execution_count": 387,
   "id": "43b1fe8e",
   "metadata": {},
   "outputs": [
    {
     "name": "stdout",
     "output_type": "stream",
     "text": [
      "['id', 'title', 'audienceScore', 'tomatoMeter', 'rating', 'ratingContents', 'releaseDateTheaters', 'releaseDateStreaming', 'runtimeMinutes', 'genre', 'originalLanguage', 'director', 'writer', 'boxOffice', 'distributor', 'soundMix']\n"
     ]
    }
   ],
   "source": [
    "# get a list of all the column names\n",
    "print(list(raw_rt.columns))"
   ]
  },
  {
   "cell_type": "code",
   "execution_count": 388,
   "id": "4cac0392",
   "metadata": {},
   "outputs": [],
   "source": [
    "# we will be using the 'rt' dataframe now, leaving the original dataframe intact\n",
    "rt = raw_rt.copy()\n",
    "# convert the columns to snake_case and reword some of them\n",
    "rt.columns = ['id', 'title', 'audience_score', 'tomato_meter', 'rating', 'rating_contents', \n",
    " 'release_date_theaters', 'release_date_streaming', 'runtime', 'genre', \n",
    " 'language', 'director', 'writer', 'box_office', 'distributor', 'sound_mix']"
   ]
  },
  {
   "cell_type": "code",
   "execution_count": 389,
   "id": "0e590af5",
   "metadata": {},
   "outputs": [
    {
     "data": {
      "text/html": [
       "<div>\n",
       "<style scoped>\n",
       "    .dataframe tbody tr th:only-of-type {\n",
       "        vertical-align: middle;\n",
       "    }\n",
       "\n",
       "    .dataframe tbody tr th {\n",
       "        vertical-align: top;\n",
       "    }\n",
       "\n",
       "    .dataframe thead th {\n",
       "        text-align: right;\n",
       "    }\n",
       "</style>\n",
       "<table border=\"1\" class=\"dataframe\">\n",
       "  <thead>\n",
       "    <tr style=\"text-align: right;\">\n",
       "      <th></th>\n",
       "      <th>id</th>\n",
       "      <th>title</th>\n",
       "      <th>audience_score</th>\n",
       "      <th>tomato_meter</th>\n",
       "      <th>rating</th>\n",
       "      <th>rating_contents</th>\n",
       "      <th>release_date_theaters</th>\n",
       "      <th>release_date_streaming</th>\n",
       "      <th>runtime</th>\n",
       "      <th>genre</th>\n",
       "      <th>language</th>\n",
       "      <th>director</th>\n",
       "      <th>writer</th>\n",
       "      <th>box_office</th>\n",
       "      <th>distributor</th>\n",
       "      <th>sound_mix</th>\n",
       "    </tr>\n",
       "  </thead>\n",
       "  <tbody>\n",
       "    <tr>\n",
       "      <th>0</th>\n",
       "      <td>space-zombie-bingo</td>\n",
       "      <td>Space Zombie Bingo!</td>\n",
       "      <td>50.0</td>\n",
       "      <td>NaN</td>\n",
       "      <td>NaN</td>\n",
       "      <td>NaN</td>\n",
       "      <td>NaN</td>\n",
       "      <td>2018-08-25</td>\n",
       "      <td>75.0</td>\n",
       "      <td>Comedy, Horror, Sci-fi</td>\n",
       "      <td>English</td>\n",
       "      <td>George Ormrod</td>\n",
       "      <td>George Ormrod,John Sabotta</td>\n",
       "      <td>NaN</td>\n",
       "      <td>NaN</td>\n",
       "      <td>NaN</td>\n",
       "    </tr>\n",
       "    <tr>\n",
       "      <th>1</th>\n",
       "      <td>the_green_grass</td>\n",
       "      <td>The Green Grass</td>\n",
       "      <td>NaN</td>\n",
       "      <td>NaN</td>\n",
       "      <td>NaN</td>\n",
       "      <td>NaN</td>\n",
       "      <td>NaN</td>\n",
       "      <td>2020-02-11</td>\n",
       "      <td>114.0</td>\n",
       "      <td>Drama</td>\n",
       "      <td>English</td>\n",
       "      <td>Tiffany Edwards</td>\n",
       "      <td>Tiffany Edwards</td>\n",
       "      <td>NaN</td>\n",
       "      <td>NaN</td>\n",
       "      <td>NaN</td>\n",
       "    </tr>\n",
       "    <tr>\n",
       "      <th>2</th>\n",
       "      <td>love_lies</td>\n",
       "      <td>Love, Lies</td>\n",
       "      <td>43.0</td>\n",
       "      <td>NaN</td>\n",
       "      <td>NaN</td>\n",
       "      <td>NaN</td>\n",
       "      <td>NaN</td>\n",
       "      <td>NaN</td>\n",
       "      <td>120.0</td>\n",
       "      <td>Drama</td>\n",
       "      <td>Korean</td>\n",
       "      <td>Park Heung-Sik,Heung-Sik Park</td>\n",
       "      <td>Ha Young-Joon,Jeon Yun-su,Song Hye-jin</td>\n",
       "      <td>NaN</td>\n",
       "      <td>NaN</td>\n",
       "      <td>NaN</td>\n",
       "    </tr>\n",
       "    <tr>\n",
       "      <th>3</th>\n",
       "      <td>the_sore_losers_1997</td>\n",
       "      <td>Sore Losers</td>\n",
       "      <td>60.0</td>\n",
       "      <td>NaN</td>\n",
       "      <td>NaN</td>\n",
       "      <td>NaN</td>\n",
       "      <td>NaN</td>\n",
       "      <td>2020-10-23</td>\n",
       "      <td>90.0</td>\n",
       "      <td>Action, Mystery &amp; thriller</td>\n",
       "      <td>English</td>\n",
       "      <td>John Michael McCarthy</td>\n",
       "      <td>John Michael McCarthy</td>\n",
       "      <td>NaN</td>\n",
       "      <td>NaN</td>\n",
       "      <td>NaN</td>\n",
       "    </tr>\n",
       "    <tr>\n",
       "      <th>4</th>\n",
       "      <td>dinosaur_island_2002</td>\n",
       "      <td>Dinosaur Island</td>\n",
       "      <td>70.0</td>\n",
       "      <td>NaN</td>\n",
       "      <td>NaN</td>\n",
       "      <td>NaN</td>\n",
       "      <td>NaN</td>\n",
       "      <td>2017-03-27</td>\n",
       "      <td>80.0</td>\n",
       "      <td>Fantasy, Adventure, Animation</td>\n",
       "      <td>English</td>\n",
       "      <td>Will Meugniot</td>\n",
       "      <td>John Loy</td>\n",
       "      <td>NaN</td>\n",
       "      <td>NaN</td>\n",
       "      <td>NaN</td>\n",
       "    </tr>\n",
       "  </tbody>\n",
       "</table>\n",
       "</div>"
      ],
      "text/plain": [
       "                     id                title  audience_score  tomato_meter  \\\n",
       "0    space-zombie-bingo  Space Zombie Bingo!            50.0           NaN   \n",
       "1       the_green_grass      The Green Grass             NaN           NaN   \n",
       "2             love_lies           Love, Lies            43.0           NaN   \n",
       "3  the_sore_losers_1997          Sore Losers            60.0           NaN   \n",
       "4  dinosaur_island_2002      Dinosaur Island            70.0           NaN   \n",
       "\n",
       "  rating rating_contents release_date_theaters release_date_streaming  \\\n",
       "0    NaN             NaN                   NaN             2018-08-25   \n",
       "1    NaN             NaN                   NaN             2020-02-11   \n",
       "2    NaN             NaN                   NaN                    NaN   \n",
       "3    NaN             NaN                   NaN             2020-10-23   \n",
       "4    NaN             NaN                   NaN             2017-03-27   \n",
       "\n",
       "   runtime                          genre language  \\\n",
       "0     75.0         Comedy, Horror, Sci-fi  English   \n",
       "1    114.0                          Drama  English   \n",
       "2    120.0                          Drama   Korean   \n",
       "3     90.0     Action, Mystery & thriller  English   \n",
       "4     80.0  Fantasy, Adventure, Animation  English   \n",
       "\n",
       "                        director                                  writer  \\\n",
       "0                  George Ormrod              George Ormrod,John Sabotta   \n",
       "1                Tiffany Edwards                         Tiffany Edwards   \n",
       "2  Park Heung-Sik,Heung-Sik Park  Ha Young-Joon,Jeon Yun-su,Song Hye-jin   \n",
       "3          John Michael McCarthy                   John Michael McCarthy   \n",
       "4                  Will Meugniot                                John Loy   \n",
       "\n",
       "  box_office distributor sound_mix  \n",
       "0        NaN         NaN       NaN  \n",
       "1        NaN         NaN       NaN  \n",
       "2        NaN         NaN       NaN  \n",
       "3        NaN         NaN       NaN  \n",
       "4        NaN         NaN       NaN  "
      ]
     },
     "execution_count": 389,
     "metadata": {},
     "output_type": "execute_result"
    }
   ],
   "source": [
    "rt.head()"
   ]
  },
  {
   "cell_type": "markdown",
   "id": "48a41549",
   "metadata": {},
   "source": [
    "This step was more of a cosmetic change than anything. Changing the columns to snake_case only makes them more familiar for me to work with. I also changed 'runtimeMinutes' to 'runtime' and 'originalLanguage' to just 'language'. "
   ]
  },
  {
   "cell_type": "markdown",
   "id": "0dc071f4",
   "metadata": {},
   "source": [
    "### Step 2: Omit Films without Box Office Data"
   ]
  },
  {
   "cell_type": "code",
   "execution_count": 390,
   "id": "dd16a3ba",
   "metadata": {},
   "outputs": [],
   "source": [
    "# filter out the NaN values\n",
    "rt = rt[-rt.box_office.isna()]"
   ]
  },
  {
   "cell_type": "code",
   "execution_count": 391,
   "id": "871acede",
   "metadata": {},
   "outputs": [
    {
     "data": {
      "text/plain": [
       "5       $31.4M\n",
       "12      $11.5K\n",
       "17     $199.2K\n",
       "20      $10.5K\n",
       "31      $41.5K\n",
       "63       $1.7M\n",
       "82     $146.3M\n",
       "87      $14.0M\n",
       "88      $13.9M\n",
       "107    $923.9K\n",
       "Name: box_office, dtype: object"
      ]
     },
     "execution_count": 391,
     "metadata": {},
     "output_type": "execute_result"
    }
   ],
   "source": [
    "# show that it worked\n",
    "rt.box_office.head(10)"
   ]
  },
  {
   "cell_type": "markdown",
   "id": "88eb06df",
   "metadata": {},
   "source": [
    "Since this project will mostly be focusing on blockbusters and other high-earning films, we have little use for any films with no box office data. All we did here is get rid of those rows. "
   ]
  },
  {
   "cell_type": "markdown",
   "id": "02b5785e",
   "metadata": {},
   "source": [
    "### Step 3: Convert Box Office Data to Numerical Values"
   ]
  },
  {
   "cell_type": "code",
   "execution_count": 392,
   "id": "af0b238c",
   "metadata": {},
   "outputs": [],
   "source": [
    "# this function takes in text in abbreviated-dollars format\n",
    "# and returns the equivalent float value\n",
    "def convert_box_office(txt):\n",
    "    unit = txt[-1]\n",
    "    # check if there is a unit for thousands/millions/billions\n",
    "    if unit not in ['K', 'M', 'B']:\n",
    "        # if there is no unit at the end, take the full value\n",
    "        num = txt[1::]\n",
    "    else:\n",
    "        # otherwise leave it off\n",
    "        num = txt[1:len(txt)-1]\n",
    "    # ensure that the the text is able to be converted\n",
    "    try:\n",
    "        num = float(num)\n",
    "    except ValueError:\n",
    "        print(f'{txt} could not be converted to a number')\n",
    "        return txt\n",
    "    # multiply the float by the appropiate power of ten and return\n",
    "    if unit == 'K':\n",
    "        return num*1000\n",
    "    elif unit == 'M':\n",
    "        return num*1000000\n",
    "    elif unit == 'B':\n",
    "        return num*1000000000\n",
    "    else:\n",
    "        return num"
   ]
  },
  {
   "cell_type": "code",
   "execution_count": 393,
   "id": "767f33c8",
   "metadata": {},
   "outputs": [],
   "source": [
    "# apply the function to the dataframe\n",
    "rt.loc[:, 'box_office'] = rt.box_office.apply(convert_box_office)"
   ]
  },
  {
   "cell_type": "code",
   "execution_count": 394,
   "id": "9ca6af1a",
   "metadata": {},
   "outputs": [],
   "source": [
    "# make sure the box_office column is now reading as numeric\n",
    "rt['box_office'] = pd.to_numeric(rt['box_office'], errors='coerce')"
   ]
  },
  {
   "cell_type": "code",
   "execution_count": 395,
   "id": "241dfe4c",
   "metadata": {},
   "outputs": [
    {
     "data": {
      "text/html": [
       "<div>\n",
       "<style scoped>\n",
       "    .dataframe tbody tr th:only-of-type {\n",
       "        vertical-align: middle;\n",
       "    }\n",
       "\n",
       "    .dataframe tbody tr th {\n",
       "        vertical-align: top;\n",
       "    }\n",
       "\n",
       "    .dataframe thead th {\n",
       "        text-align: right;\n",
       "    }\n",
       "</style>\n",
       "<table border=\"1\" class=\"dataframe\">\n",
       "  <thead>\n",
       "    <tr style=\"text-align: right;\">\n",
       "      <th></th>\n",
       "      <th>title</th>\n",
       "      <th>box_office</th>\n",
       "    </tr>\n",
       "  </thead>\n",
       "  <tbody>\n",
       "    <tr>\n",
       "      <th>107161</th>\n",
       "      <td>Avengers: Endgame</td>\n",
       "      <td>858400000.0</td>\n",
       "    </tr>\n",
       "    <tr>\n",
       "      <th>142286</th>\n",
       "      <td>Spider-Man: No Way Home</td>\n",
       "      <td>814100000.0</td>\n",
       "    </tr>\n",
       "    <tr>\n",
       "      <th>71130</th>\n",
       "      <td>Top Gun: Maverick</td>\n",
       "      <td>718500000.0</td>\n",
       "    </tr>\n",
       "    <tr>\n",
       "      <th>18834</th>\n",
       "      <td>Confess, Fletch</td>\n",
       "      <td>711600000.0</td>\n",
       "    </tr>\n",
       "    <tr>\n",
       "      <th>40710</th>\n",
       "      <td>Black Panther</td>\n",
       "      <td>700200000.0</td>\n",
       "    </tr>\n",
       "    <tr>\n",
       "      <th>104245</th>\n",
       "      <td>Avengers: Infinity War</td>\n",
       "      <td>678800000.0</td>\n",
       "    </tr>\n",
       "    <tr>\n",
       "      <th>85225</th>\n",
       "      <td>Avatar: The Way of Water</td>\n",
       "      <td>678300000.0</td>\n",
       "    </tr>\n",
       "    <tr>\n",
       "      <th>134058</th>\n",
       "      <td>Titanic</td>\n",
       "      <td>658800000.0</td>\n",
       "    </tr>\n",
       "    <tr>\n",
       "      <th>60631</th>\n",
       "      <td>Jurassic World</td>\n",
       "      <td>652600000.0</td>\n",
       "    </tr>\n",
       "    <tr>\n",
       "      <th>82701</th>\n",
       "      <td>Star Wars: The Last Jedi</td>\n",
       "      <td>620200000.0</td>\n",
       "    </tr>\n",
       "  </tbody>\n",
       "</table>\n",
       "</div>"
      ],
      "text/plain": [
       "                           title   box_office\n",
       "107161         Avengers: Endgame  858400000.0\n",
       "142286   Spider-Man: No Way Home  814100000.0\n",
       "71130          Top Gun: Maverick  718500000.0\n",
       "18834            Confess, Fletch  711600000.0\n",
       "40710              Black Panther  700200000.0\n",
       "104245    Avengers: Infinity War  678800000.0\n",
       "85225   Avatar: The Way of Water  678300000.0\n",
       "134058                   Titanic  658800000.0\n",
       "60631             Jurassic World  652600000.0\n",
       "82701   Star Wars: The Last Jedi  620200000.0"
      ]
     },
     "execution_count": 395,
     "metadata": {},
     "output_type": "execute_result"
    }
   ],
   "source": [
    "# list some of the highest earners\n",
    "rt[['title', 'box_office']].sort_values(by='box_office', ascending=False).head(10)"
   ]
  },
  {
   "cell_type": "markdown",
   "id": "59ab94a2",
   "metadata": {},
   "source": [
    "This was the trickiest part of this milestone. Box office data was stored in an abbreviated format where thousands of dollars had a 'K' and millions had an 'M' (I don't believe there was any 'B', but I included it just in case). In order to alleviate this issue, a simple function was applied to the 'box_office' column so that all the values are now proper floats. \n",
    "\n",
    "One thing to note is that some of this data seems to be inaccurate. 'Confess, Fletch' only grossed \\\\$700K at the box office, not \\\\$700M. There must have been an error imputing some of this data onto the rotten tomatoes website at the time this data was scraped. Additionally, this box office data seems to only be including U.S. domestic gross, not international gross. "
   ]
  },
  {
   "cell_type": "markdown",
   "id": "f97a3121",
   "metadata": {},
   "source": [
    "### Step 4: Filter Out Low-Earning Box Office Films"
   ]
  },
  {
   "cell_type": "code",
   "execution_count": 396,
   "id": "31c499ee",
   "metadata": {},
   "outputs": [],
   "source": [
    "rt = rt[rt.box_office > 50000000]"
   ]
  },
  {
   "cell_type": "code",
   "execution_count": 397,
   "id": "a5a26b94",
   "metadata": {},
   "outputs": [
    {
     "data": {
      "text/plain": [
       "(1580, 16)"
      ]
     },
     "execution_count": 397,
     "metadata": {},
     "output_type": "execute_result"
    }
   ],
   "source": [
    "rt.shape"
   ]
  },
  {
   "cell_type": "markdown",
   "id": "a8a5c30e",
   "metadata": {},
   "source": [
    "According to the Box Office Mojo tracker, the top 1,000 highest grossing films all have earned over \\\\$80M. Because this data was scrubbed one year ago, we will be be somewhat more generous and allow films that have earned above \\\\$50M to remain. We are left with around 1500 films. "
   ]
  },
  {
   "cell_type": "markdown",
   "id": "55ae9f94",
   "metadata": {},
   "source": [
    "### Step 5: Fix/Filter the Remaining Missing Values"
   ]
  },
  {
   "cell_type": "code",
   "execution_count": 398,
   "id": "1e1d3c1c",
   "metadata": {},
   "outputs": [
    {
     "data": {
      "text/plain": [
       "id                          0\n",
       "title                       0\n",
       "audience_score              0\n",
       "tomato_meter                5\n",
       "rating                    375\n",
       "rating_contents           375\n",
       "release_date_theaters      56\n",
       "release_date_streaming     12\n",
       "runtime                     1\n",
       "genre                       0\n",
       "language                    0\n",
       "director                    3\n",
       "writer                     19\n",
       "box_office                  0\n",
       "distributor                84\n",
       "sound_mix                 226\n",
       "dtype: int64"
      ]
     },
     "execution_count": 398,
     "metadata": {},
     "output_type": "execute_result"
    }
   ],
   "source": [
    "rt.isna().sum()"
   ]
  },
  {
   "cell_type": "code",
   "execution_count": 399,
   "id": "a4f7ca81",
   "metadata": {},
   "outputs": [
    {
     "data": {
      "text/html": [
       "<div>\n",
       "<style scoped>\n",
       "    .dataframe tbody tr th:only-of-type {\n",
       "        vertical-align: middle;\n",
       "    }\n",
       "\n",
       "    .dataframe tbody tr th {\n",
       "        vertical-align: top;\n",
       "    }\n",
       "\n",
       "    .dataframe thead th {\n",
       "        text-align: right;\n",
       "    }\n",
       "</style>\n",
       "<table border=\"1\" class=\"dataframe\">\n",
       "  <thead>\n",
       "    <tr style=\"text-align: right;\">\n",
       "      <th></th>\n",
       "      <th>title</th>\n",
       "      <th>box_office</th>\n",
       "    </tr>\n",
       "  </thead>\n",
       "  <tbody>\n",
       "    <tr>\n",
       "      <th>14420</th>\n",
       "      <td>Tyler Perry's Temptation: Confessions of a Mar...</td>\n",
       "      <td>52000000.0</td>\n",
       "    </tr>\n",
       "    <tr>\n",
       "      <th>73363</th>\n",
       "      <td>Wallace &amp; Gromit: The Curse of the Were-Rabbit</td>\n",
       "      <td>56000000.0</td>\n",
       "    </tr>\n",
       "    <tr>\n",
       "      <th>75229</th>\n",
       "      <td>Strangers</td>\n",
       "      <td>52500000.0</td>\n",
       "    </tr>\n",
       "    <tr>\n",
       "      <th>115536</th>\n",
       "      <td>Disney's The Kid</td>\n",
       "      <td>69700000.0</td>\n",
       "    </tr>\n",
       "    <tr>\n",
       "      <th>142117</th>\n",
       "      <td>Snow White</td>\n",
       "      <td>87000000.0</td>\n",
       "    </tr>\n",
       "  </tbody>\n",
       "</table>\n",
       "</div>"
      ],
      "text/plain": [
       "                                                    title  box_office\n",
       "14420   Tyler Perry's Temptation: Confessions of a Mar...  52000000.0\n",
       "73363      Wallace & Gromit: The Curse of the Were-Rabbit  56000000.0\n",
       "75229                                           Strangers  52500000.0\n",
       "115536                                   Disney's The Kid  69700000.0\n",
       "142117                                         Snow White  87000000.0"
      ]
     },
     "execution_count": 399,
     "metadata": {},
     "output_type": "execute_result"
    }
   ],
   "source": [
    "# check what films are missing critic ratings (tomato_meter)\n",
    "rt[rt.tomato_meter.isna()].loc[:, ['title', 'box_office']]"
   ]
  },
  {
   "cell_type": "code",
   "execution_count": 400,
   "id": "b526965c",
   "metadata": {},
   "outputs": [],
   "source": [
    "# get rid of the films with no critic score\n",
    "rt = rt[-rt.tomato_meter.isna()]"
   ]
  },
  {
   "cell_type": "code",
   "execution_count": 401,
   "id": "dfe2cc59",
   "metadata": {},
   "outputs": [
    {
     "data": {
      "text/plain": [
       "0"
      ]
     },
     "execution_count": 401,
     "metadata": {},
     "output_type": "execute_result"
    }
   ],
   "source": [
    "# check if there are any films without a release date\n",
    "rt[rt.release_date_streaming.isna() & rt.release_date_theaters.isna()].shape[0]"
   ]
  },
  {
   "cell_type": "code",
   "execution_count": 402,
   "id": "ff3fee15",
   "metadata": {},
   "outputs": [],
   "source": [
    "# replace the one film without a runtime (Jumanji) with its proper runtime\n",
    "rt.runtime.replace(np.nan, 104.0, inplace=True)"
   ]
  },
  {
   "cell_type": "code",
   "execution_count": 403,
   "id": "9b045139",
   "metadata": {},
   "outputs": [
    {
     "data": {
      "text/html": [
       "<div>\n",
       "<style scoped>\n",
       "    .dataframe tbody tr th:only-of-type {\n",
       "        vertical-align: middle;\n",
       "    }\n",
       "\n",
       "    .dataframe tbody tr th {\n",
       "        vertical-align: top;\n",
       "    }\n",
       "\n",
       "    .dataframe thead th {\n",
       "        text-align: right;\n",
       "    }\n",
       "</style>\n",
       "<table border=\"1\" class=\"dataframe\">\n",
       "  <thead>\n",
       "    <tr style=\"text-align: right;\">\n",
       "      <th></th>\n",
       "      <th>title</th>\n",
       "      <th>release_date_theaters</th>\n",
       "    </tr>\n",
       "  </thead>\n",
       "  <tbody>\n",
       "    <tr>\n",
       "      <th>16599</th>\n",
       "      <td>City of Angels</td>\n",
       "      <td>1998-04-10</td>\n",
       "    </tr>\n",
       "    <tr>\n",
       "      <th>85957</th>\n",
       "      <td>Casper</td>\n",
       "      <td>1995-05-26</td>\n",
       "    </tr>\n",
       "    <tr>\n",
       "      <th>133687</th>\n",
       "      <td>Lemony Snicket's A Series of Unfortunate Events</td>\n",
       "      <td>2004-12-17</td>\n",
       "    </tr>\n",
       "  </tbody>\n",
       "</table>\n",
       "</div>"
      ],
      "text/plain": [
       "                                                  title release_date_theaters\n",
       "16599                                    City of Angels            1998-04-10\n",
       "85957                                            Casper            1995-05-26\n",
       "133687  Lemony Snicket's A Series of Unfortunate Events            2004-12-17"
      ]
     },
     "execution_count": 403,
     "metadata": {},
     "output_type": "execute_result"
    }
   ],
   "source": [
    "# find the films with a missing director\n",
    "rt[rt.director.isna()][['title', 'release_date_theaters']]"
   ]
  },
  {
   "cell_type": "code",
   "execution_count": 404,
   "id": "de5317ff",
   "metadata": {},
   "outputs": [],
   "source": [
    "# get the mising indices\n",
    "missing_indices = rt.index[rt.director.isna()].tolist()\n",
    "# all of the films were directed by the same person, Brad Siberling\n",
    "rt.loc[missing_indices, 'director'] = ['Brad Silberling']*3"
   ]
  },
  {
   "cell_type": "code",
   "execution_count": 405,
   "id": "417691cc",
   "metadata": {},
   "outputs": [
    {
     "data": {
      "text/plain": [
       "id                          0\n",
       "title                       0\n",
       "audience_score              0\n",
       "tomato_meter                0\n",
       "rating                    373\n",
       "rating_contents           373\n",
       "release_date_theaters      54\n",
       "release_date_streaming     12\n",
       "runtime                     0\n",
       "genre                       0\n",
       "language                    0\n",
       "director                    0\n",
       "writer                     19\n",
       "box_office                  0\n",
       "distributor                82\n",
       "sound_mix                 224\n",
       "dtype: int64"
      ]
     },
     "execution_count": 405,
     "metadata": {},
     "output_type": "execute_result"
    }
   ],
   "source": [
    "# verify we have made the proper changes\n",
    "rt.isna().sum()"
   ]
  },
  {
   "cell_type": "markdown",
   "id": "0dadd0cf",
   "metadata": {},
   "source": [
    "We applied several additional changes to deal with missing values. First, we got rid of the films with no critic score (tomato_meter), as none of them seemed to be particularly high-grossing. Next, we verified that there were no films without a release date of some sort. Then, we replaced the one film with a missing runtime with its proper runtime (from imdb/wiki), as well as the films with missing directors with the proper director. "
   ]
  },
  {
   "cell_type": "markdown",
   "id": "3ad59fbb",
   "metadata": {},
   "source": [
    "### Step 6: Drop Duplicates & Examine the Results"
   ]
  },
  {
   "cell_type": "code",
   "execution_count": 406,
   "id": "c14fe663",
   "metadata": {},
   "outputs": [
    {
     "data": {
      "text/plain": [
       "10"
      ]
     },
     "execution_count": 406,
     "metadata": {},
     "output_type": "execute_result"
    }
   ],
   "source": [
    "# check the number of duplicate rows\n",
    "rt.duplicated().sum()"
   ]
  },
  {
   "cell_type": "code",
   "execution_count": 407,
   "id": "f26be1ac",
   "metadata": {},
   "outputs": [],
   "source": [
    "# get rid of the duplicated rows\n",
    "rt.drop_duplicates(inplace=True)"
   ]
  },
  {
   "cell_type": "code",
   "execution_count": 408,
   "id": "ae964016",
   "metadata": {},
   "outputs": [
    {
     "data": {
      "text/html": [
       "<div>\n",
       "<style scoped>\n",
       "    .dataframe tbody tr th:only-of-type {\n",
       "        vertical-align: middle;\n",
       "    }\n",
       "\n",
       "    .dataframe tbody tr th {\n",
       "        vertical-align: top;\n",
       "    }\n",
       "\n",
       "    .dataframe thead th {\n",
       "        text-align: right;\n",
       "    }\n",
       "</style>\n",
       "<table border=\"1\" class=\"dataframe\">\n",
       "  <thead>\n",
       "    <tr style=\"text-align: right;\">\n",
       "      <th></th>\n",
       "      <th>audience_score</th>\n",
       "      <th>tomato_meter</th>\n",
       "      <th>runtime</th>\n",
       "      <th>box_office</th>\n",
       "    </tr>\n",
       "  </thead>\n",
       "  <tbody>\n",
       "    <tr>\n",
       "      <th>count</th>\n",
       "      <td>1565.000000</td>\n",
       "      <td>1565.000000</td>\n",
       "      <td>1565.000000</td>\n",
       "      <td>1.565000e+03</td>\n",
       "    </tr>\n",
       "    <tr>\n",
       "      <th>mean</th>\n",
       "      <td>67.013419</td>\n",
       "      <td>59.661981</td>\n",
       "      <td>113.714377</td>\n",
       "      <td>1.216684e+08</td>\n",
       "    </tr>\n",
       "    <tr>\n",
       "      <th>std</th>\n",
       "      <td>17.449575</td>\n",
       "      <td>24.974977</td>\n",
       "      <td>19.900059</td>\n",
       "      <td>9.351645e+07</td>\n",
       "    </tr>\n",
       "    <tr>\n",
       "      <th>min</th>\n",
       "      <td>16.000000</td>\n",
       "      <td>0.000000</td>\n",
       "      <td>43.000000</td>\n",
       "      <td>5.010000e+07</td>\n",
       "    </tr>\n",
       "    <tr>\n",
       "      <th>25%</th>\n",
       "      <td>54.000000</td>\n",
       "      <td>40.000000</td>\n",
       "      <td>99.000000</td>\n",
       "      <td>6.450000e+07</td>\n",
       "    </tr>\n",
       "    <tr>\n",
       "      <th>50%</th>\n",
       "      <td>68.000000</td>\n",
       "      <td>64.000000</td>\n",
       "      <td>111.000000</td>\n",
       "      <td>8.980000e+07</td>\n",
       "    </tr>\n",
       "    <tr>\n",
       "      <th>75%</th>\n",
       "      <td>82.000000</td>\n",
       "      <td>81.000000</td>\n",
       "      <td>125.000000</td>\n",
       "      <td>1.401000e+08</td>\n",
       "    </tr>\n",
       "    <tr>\n",
       "      <th>max</th>\n",
       "      <td>99.000000</td>\n",
       "      <td>100.000000</td>\n",
       "      <td>222.000000</td>\n",
       "      <td>8.584000e+08</td>\n",
       "    </tr>\n",
       "  </tbody>\n",
       "</table>\n",
       "</div>"
      ],
      "text/plain": [
       "       audience_score  tomato_meter      runtime    box_office\n",
       "count     1565.000000   1565.000000  1565.000000  1.565000e+03\n",
       "mean        67.013419     59.661981   113.714377  1.216684e+08\n",
       "std         17.449575     24.974977    19.900059  9.351645e+07\n",
       "min         16.000000      0.000000    43.000000  5.010000e+07\n",
       "25%         54.000000     40.000000    99.000000  6.450000e+07\n",
       "50%         68.000000     64.000000   111.000000  8.980000e+07\n",
       "75%         82.000000     81.000000   125.000000  1.401000e+08\n",
       "max         99.000000    100.000000   222.000000  8.584000e+08"
      ]
     },
     "execution_count": 408,
     "metadata": {},
     "output_type": "execute_result"
    }
   ],
   "source": [
    "rt.describe()"
   ]
  },
  {
   "cell_type": "code",
   "execution_count": 409,
   "id": "fe8396e5",
   "metadata": {},
   "outputs": [
    {
     "data": {
      "text/html": [
       "<div>\n",
       "<style scoped>\n",
       "    .dataframe tbody tr th:only-of-type {\n",
       "        vertical-align: middle;\n",
       "    }\n",
       "\n",
       "    .dataframe tbody tr th {\n",
       "        vertical-align: top;\n",
       "    }\n",
       "\n",
       "    .dataframe thead th {\n",
       "        text-align: right;\n",
       "    }\n",
       "</style>\n",
       "<table border=\"1\" class=\"dataframe\">\n",
       "  <thead>\n",
       "    <tr style=\"text-align: right;\">\n",
       "      <th></th>\n",
       "      <th>id</th>\n",
       "      <th>title</th>\n",
       "      <th>audience_score</th>\n",
       "      <th>tomato_meter</th>\n",
       "      <th>rating</th>\n",
       "      <th>rating_contents</th>\n",
       "      <th>release_date_theaters</th>\n",
       "      <th>release_date_streaming</th>\n",
       "      <th>runtime</th>\n",
       "      <th>genre</th>\n",
       "      <th>language</th>\n",
       "      <th>director</th>\n",
       "      <th>writer</th>\n",
       "      <th>box_office</th>\n",
       "      <th>distributor</th>\n",
       "      <th>sound_mix</th>\n",
       "    </tr>\n",
       "  </thead>\n",
       "  <tbody>\n",
       "    <tr>\n",
       "      <th>82</th>\n",
       "      <td>paul_blart_mall_cop</td>\n",
       "      <td>Paul Blart: Mall Cop</td>\n",
       "      <td>43.0</td>\n",
       "      <td>34.0</td>\n",
       "      <td>PG</td>\n",
       "      <td>['Mild Crude Humor', 'Language', 'Some Violence']</td>\n",
       "      <td>2009-01-16</td>\n",
       "      <td>2009-05-19</td>\n",
       "      <td>91.0</td>\n",
       "      <td>Comedy</td>\n",
       "      <td>English</td>\n",
       "      <td>Steve Carr</td>\n",
       "      <td>Kevin James,Nick Bakay</td>\n",
       "      <td>146300000.0</td>\n",
       "      <td>Sony Pictures Entertainment</td>\n",
       "      <td>NaN</td>\n",
       "    </tr>\n",
       "    <tr>\n",
       "      <th>110</th>\n",
       "      <td>rookie_of_the_year</td>\n",
       "      <td>Rookie of the Year</td>\n",
       "      <td>52.0</td>\n",
       "      <td>38.0</td>\n",
       "      <td>NaN</td>\n",
       "      <td>NaN</td>\n",
       "      <td>1993-07-07</td>\n",
       "      <td>2002-01-29</td>\n",
       "      <td>103.0</td>\n",
       "      <td>Kids &amp; family, Comedy</td>\n",
       "      <td>English</td>\n",
       "      <td>Daniel Stern</td>\n",
       "      <td>Sam Harper</td>\n",
       "      <td>53100000.0</td>\n",
       "      <td>20th Century Fox</td>\n",
       "      <td>NaN</td>\n",
       "    </tr>\n",
       "    <tr>\n",
       "      <th>468</th>\n",
       "      <td>jurassic_world_dominion</td>\n",
       "      <td>Jurassic World Dominion</td>\n",
       "      <td>77.0</td>\n",
       "      <td>29.0</td>\n",
       "      <td>PG-13</td>\n",
       "      <td>['Language', 'Intense Sequences of Action', 'S...</td>\n",
       "      <td>2022-06-10</td>\n",
       "      <td>2022-09-02</td>\n",
       "      <td>147.0</td>\n",
       "      <td>Action, Adventure, Sci-fi, Mystery &amp; thriller</td>\n",
       "      <td>English</td>\n",
       "      <td>Colin Trevorrow</td>\n",
       "      <td>Emily Carmichael,Colin Trevorrow</td>\n",
       "      <td>376000000.0</td>\n",
       "      <td>Universal Pictures</td>\n",
       "      <td>Dolby Digital, Dolby Atmos</td>\n",
       "    </tr>\n",
       "    <tr>\n",
       "      <th>473</th>\n",
       "      <td>hansel_and_gretel_witch_hunters</td>\n",
       "      <td>Hansel &amp; Gretel: Witch Hunters</td>\n",
       "      <td>53.0</td>\n",
       "      <td>16.0</td>\n",
       "      <td>R</td>\n",
       "      <td>['Fantasy Horror Violence/Gore', 'Brief Sexual...</td>\n",
       "      <td>2013-01-25</td>\n",
       "      <td>2013-06-11</td>\n",
       "      <td>88.0</td>\n",
       "      <td>Fantasy, Horror, Action, Adventure</td>\n",
       "      <td>English</td>\n",
       "      <td>Tommy Wirkola</td>\n",
       "      <td>Tommy Wirkola</td>\n",
       "      <td>55700000.0</td>\n",
       "      <td>Paramount Pictures, Metro-Goldwyn-Mayer Distri...</td>\n",
       "      <td>SDDS, Datasat, Dolby Digital</td>\n",
       "    </tr>\n",
       "    <tr>\n",
       "      <th>499</th>\n",
       "      <td>juno</td>\n",
       "      <td>Juno</td>\n",
       "      <td>88.0</td>\n",
       "      <td>94.0</td>\n",
       "      <td>PG-13</td>\n",
       "      <td>['Mature Thematic Material', 'Language', 'Sexu...</td>\n",
       "      <td>2007-12-25</td>\n",
       "      <td>2008-04-15</td>\n",
       "      <td>96.0</td>\n",
       "      <td>Comedy, Drama</td>\n",
       "      <td>English</td>\n",
       "      <td>Jason Reitman</td>\n",
       "      <td>Diablo Cody</td>\n",
       "      <td>143500000.0</td>\n",
       "      <td>Fox</td>\n",
       "      <td>SDDS, Dolby Digital, DTS, Dolby SRD</td>\n",
       "    </tr>\n",
       "  </tbody>\n",
       "</table>\n",
       "</div>"
      ],
      "text/plain": [
       "                                  id                           title  \\\n",
       "82               paul_blart_mall_cop            Paul Blart: Mall Cop   \n",
       "110               rookie_of_the_year              Rookie of the Year   \n",
       "468          jurassic_world_dominion         Jurassic World Dominion   \n",
       "473  hansel_and_gretel_witch_hunters  Hansel & Gretel: Witch Hunters   \n",
       "499                             juno                            Juno   \n",
       "\n",
       "     audience_score  tomato_meter rating  \\\n",
       "82             43.0          34.0     PG   \n",
       "110            52.0          38.0    NaN   \n",
       "468            77.0          29.0  PG-13   \n",
       "473            53.0          16.0      R   \n",
       "499            88.0          94.0  PG-13   \n",
       "\n",
       "                                       rating_contents release_date_theaters  \\\n",
       "82   ['Mild Crude Humor', 'Language', 'Some Violence']            2009-01-16   \n",
       "110                                                NaN            1993-07-07   \n",
       "468  ['Language', 'Intense Sequences of Action', 'S...            2022-06-10   \n",
       "473  ['Fantasy Horror Violence/Gore', 'Brief Sexual...            2013-01-25   \n",
       "499  ['Mature Thematic Material', 'Language', 'Sexu...            2007-12-25   \n",
       "\n",
       "    release_date_streaming  runtime  \\\n",
       "82              2009-05-19     91.0   \n",
       "110             2002-01-29    103.0   \n",
       "468             2022-09-02    147.0   \n",
       "473             2013-06-11     88.0   \n",
       "499             2008-04-15     96.0   \n",
       "\n",
       "                                             genre language         director  \\\n",
       "82                                          Comedy  English       Steve Carr   \n",
       "110                          Kids & family, Comedy  English     Daniel Stern   \n",
       "468  Action, Adventure, Sci-fi, Mystery & thriller  English  Colin Trevorrow   \n",
       "473             Fantasy, Horror, Action, Adventure  English    Tommy Wirkola   \n",
       "499                                  Comedy, Drama  English    Jason Reitman   \n",
       "\n",
       "                               writer   box_office  \\\n",
       "82             Kevin James,Nick Bakay  146300000.0   \n",
       "110                        Sam Harper   53100000.0   \n",
       "468  Emily Carmichael,Colin Trevorrow  376000000.0   \n",
       "473                     Tommy Wirkola   55700000.0   \n",
       "499                       Diablo Cody  143500000.0   \n",
       "\n",
       "                                           distributor  \\\n",
       "82                         Sony Pictures Entertainment   \n",
       "110                                   20th Century Fox   \n",
       "468                                 Universal Pictures   \n",
       "473  Paramount Pictures, Metro-Goldwyn-Mayer Distri...   \n",
       "499                                                Fox   \n",
       "\n",
       "                               sound_mix  \n",
       "82                                   NaN  \n",
       "110                                  NaN  \n",
       "468           Dolby Digital, Dolby Atmos  \n",
       "473         SDDS, Datasat, Dolby Digital  \n",
       "499  SDDS, Dolby Digital, DTS, Dolby SRD  "
      ]
     },
     "execution_count": 409,
     "metadata": {},
     "output_type": "execute_result"
    }
   ],
   "source": [
    "rt.head()"
   ]
  },
  {
   "cell_type": "code",
   "execution_count": 206,
   "id": "9825baf0",
   "metadata": {},
   "outputs": [
    {
     "data": {
      "text/plain": [
       "(1565, 16)"
      ]
     },
     "execution_count": 206,
     "metadata": {},
     "output_type": "execute_result"
    }
   ],
   "source": [
    "rt.shape"
   ]
  },
  {
   "cell_type": "code",
   "execution_count": 207,
   "id": "f53162b1",
   "metadata": {},
   "outputs": [],
   "source": [
    "def make_histogram(df, col):\n",
    "    plt.figure()\n",
    "    df[col].hist()\n",
    "    plt.title(f'Histogram of {col}')\n",
    "    plt.xlabel(col)\n",
    "    plt.ylabel('Frequency')\n",
    "    plt.show()"
   ]
  },
  {
   "cell_type": "code",
   "execution_count": 208,
   "id": "1ee9f302",
   "metadata": {
    "scrolled": false
   },
   "outputs": [
    {
     "data": {
      "image/png": "[encoded data removed]",
      "text/plain": [
       "<Figure size 640x480 with 1 Axes>"
      ]
     },
     "metadata": {},
     "output_type": "display_data"
    },
    {
     "data": {
      "image/png": "[encoded data removed]",
      "text/plain": [
       "<Figure size 640x480 with 1 Axes>"
      ]
     },
     "metadata": {},
     "output_type": "display_data"
    },
    {
     "data": {
      "image/png": "[encoded data removed]",
      "text/plain": [
       "<Figure size 640x480 with 1 Axes>"
      ]
     },
     "metadata": {},
     "output_type": "display_data"
    },
    {
     "data": {
      "image/png": "[encoded data removed]",
      "text/plain": [
       "<Figure size 640x480 with 1 Axes>"
      ]
     },
     "metadata": {},
     "output_type": "display_data"
    }
   ],
   "source": [
    "for col in ['audience_score', 'tomato_meter', 'runtime', 'box_office']:\n",
    "    make_histogram(rt, col)"
   ]
  },
  {
   "cell_type": "code",
   "execution_count": 410,
   "id": "5214450b",
   "metadata": {},
   "outputs": [],
   "source": [
    "rt.to_csv('rotten_tomatoes_data.csv', index=False)"
   ]
  },
  {
   "cell_type": "markdown",
   "id": "46434424",
   "metadata": {},
   "source": [
    "There were still 10 duplicate rows in the dataset, so we simply removed them. In the end, the final dataset contains 1565 films after these transformations, down from over 140,000!"
   ]
  },
  {
   "cell_type": "markdown",
   "id": "ecc8cfd2",
   "metadata": {},
   "source": [
    "### Concluding Thoughts and Implications"
   ]
  },
  {
   "cell_type": "markdown",
   "id": "111a8cdf",
   "metadata": {},
   "source": [
    "Overall, some significant changes were made to the data - the column names were changed, box office earnings were converted to floats, missing values were handled, duplicates were omitted, and the entire dataset was filtered down to about 1% of its original size. Some assumptions were definitely made when cleaning this data, e.g. that the data was inputted correctly, and that all of the highest-earning films actually contained box office data in this dataset. We know that some of the information is most likely incorrect, such as the film 'Confess, Fletch' earning 1,000x more than it actually did. This will be helpful when we need to merge and combine data data with our other datasets going forward. \n",
    "\n",
    "This data was sourced from a user of Kaggle who did a data scrape of the website Rotten Tomatoes. Although it is not verified by an official body, it can be assumed that the data is simply the same as what would have been publicly available at the time. Although I cannot speak on behalf of the Kaggle user, it seems that the data was scraped in an ethical way. Scraping like this could carry ethical implications if done improperly, such as using up too much of a site's bandwidth in a limited time. \n",
    "\n",
    "As for the transformations made here, I would say that there is very little to be worried about. We have simply taken the public Rotten Tomatoes data and distilled it into a smaller dataset only focused on higher box office earners. We can mitigate any potential ethical concerns with a disclaimer that this data was derived by a Kaggle user, and this data is reflective of the Rotten Tomatoes website during the early portion of the year 2023. "
   ]
  },
  {
   "cell_type": "markdown",
   "id": "e15270cf",
   "metadata": {},
   "source": [
    "## Milestone 3 - Website Data"
   ]
  },
  {
   "cell_type": "markdown",
   "id": "20a78e04",
   "metadata": {},
   "source": [
    "### Step 1: Read in Domestic Film Data"
   ]
  },
  {
   "cell_type": "code",
   "execution_count": 54,
   "id": "657193c7",
   "metadata": {},
   "outputs": [],
   "source": [
    "# this function takes in a target url and returns a df of the first table on that site\n",
    "def scrape_table(url):\n",
    "    # create the response\n",
    "    response = requests.get(url)\n",
    "    # check the connection\n",
    "    if response.status_code == 200:\n",
    "        soup = BeautifulSoup(response.content, 'html.parser')\n",
    "        # find the first instance of a table\n",
    "        table = soup.find('table')\n",
    "        # read the html into a dataframe\n",
    "        df = pd.read_html(str(table))[0]\n",
    "    else:\n",
    "        print(\"Failed to retrieve the webpage\")\n",
    "        return None\n",
    "    return df"
   ]
  },
  {
   "cell_type": "code",
   "execution_count": 55,
   "id": "087d61ae",
   "metadata": {},
   "outputs": [
    {
     "data": {
      "text/html": [
       "<div>\n",
       "<style scoped>\n",
       "    .dataframe tbody tr th:only-of-type {\n",
       "        vertical-align: middle;\n",
       "    }\n",
       "\n",
       "    .dataframe tbody tr th {\n",
       "        vertical-align: top;\n",
       "    }\n",
       "\n",
       "    .dataframe thead th {\n",
       "        text-align: right;\n",
       "    }\n",
       "</style>\n",
       "<table border=\"1\" class=\"dataframe\">\n",
       "  <thead>\n",
       "    <tr style=\"text-align: right;\">\n",
       "      <th></th>\n",
       "      <th>Rank</th>\n",
       "      <th>Title</th>\n",
       "      <th>Lifetime Gross</th>\n",
       "      <th>Year</th>\n",
       "    </tr>\n",
       "  </thead>\n",
       "  <tbody>\n",
       "    <tr>\n",
       "      <th>0</th>\n",
       "      <td>1</td>\n",
       "      <td>Star Wars: Episode VII - The Force Awakens</td>\n",
       "      <td>$936,662,225</td>\n",
       "      <td>2015</td>\n",
       "    </tr>\n",
       "    <tr>\n",
       "      <th>1</th>\n",
       "      <td>2</td>\n",
       "      <td>Avengers: Endgame</td>\n",
       "      <td>$858,373,000</td>\n",
       "      <td>2019</td>\n",
       "    </tr>\n",
       "    <tr>\n",
       "      <th>2</th>\n",
       "      <td>3</td>\n",
       "      <td>Spider-Man: No Way Home</td>\n",
       "      <td>$814,115,070</td>\n",
       "      <td>2021</td>\n",
       "    </tr>\n",
       "    <tr>\n",
       "      <th>3</th>\n",
       "      <td>4</td>\n",
       "      <td>Avatar</td>\n",
       "      <td>$785,221,649</td>\n",
       "      <td>2009</td>\n",
       "    </tr>\n",
       "    <tr>\n",
       "      <th>4</th>\n",
       "      <td>5</td>\n",
       "      <td>Top Gun: Maverick</td>\n",
       "      <td>$718,732,821</td>\n",
       "      <td>2022</td>\n",
       "    </tr>\n",
       "  </tbody>\n",
       "</table>\n",
       "</div>"
      ],
      "text/plain": [
       "   Rank                                       Title Lifetime Gross  Year\n",
       "0     1  Star Wars: Episode VII - The Force Awakens   $936,662,225  2015\n",
       "1     2                           Avengers: Endgame   $858,373,000  2019\n",
       "2     3                     Spider-Man: No Way Home   $814,115,070  2021\n",
       "3     4                                      Avatar   $785,221,649  2009\n",
       "4     5                           Top Gun: Maverick   $718,732,821  2022"
      ]
     },
     "execution_count": 55,
     "metadata": {},
     "output_type": "execute_result"
    }
   ],
   "source": [
    "url = \"https://www.boxofficemojo.com/chart/top_lifetime_gross/\"\n",
    "# create a range of offsets to gather each entry in the df\n",
    "offsets = ['?offset=' + str(x*200) for x in range(5)]\n",
    "# create a list of each of the 5 dfs\n",
    "dfs = [scrape_table(url + offset) for offset in offsets]\n",
    "# concatenate the dfs into one larger df\n",
    "dom = pd.concat(dfs, ignore_index=True)\n",
    "dom.head()"
   ]
  },
  {
   "cell_type": "code",
   "execution_count": 56,
   "id": "eca0e4a1",
   "metadata": {},
   "outputs": [
    {
     "data": {
      "text/plain": [
       "(1000, 4)"
      ]
     },
     "execution_count": 56,
     "metadata": {},
     "output_type": "execute_result"
    }
   ],
   "source": [
    "dom.shape"
   ]
  },
  {
   "cell_type": "markdown",
   "id": "9f06c2b7",
   "metadata": {},
   "source": [
    "Here we created a function to generate a dataframe from an html table, then we used it to scrape domestic film data from boxofficemojo."
   ]
  },
  {
   "cell_type": "markdown",
   "id": "c95a8382",
   "metadata": {},
   "source": [
    "### Step 2: Read in Worldwide Film Data"
   ]
  },
  {
   "cell_type": "code",
   "execution_count": 57,
   "id": "b3f7b587",
   "metadata": {},
   "outputs": [
    {
     "data": {
      "text/html": [
       "<div>\n",
       "<style scoped>\n",
       "    .dataframe tbody tr th:only-of-type {\n",
       "        vertical-align: middle;\n",
       "    }\n",
       "\n",
       "    .dataframe tbody tr th {\n",
       "        vertical-align: top;\n",
       "    }\n",
       "\n",
       "    .dataframe thead th {\n",
       "        text-align: right;\n",
       "    }\n",
       "</style>\n",
       "<table border=\"1\" class=\"dataframe\">\n",
       "  <thead>\n",
       "    <tr style=\"text-align: right;\">\n",
       "      <th></th>\n",
       "      <th>Rank</th>\n",
       "      <th>Title</th>\n",
       "      <th>Worldwide Lifetime Gross</th>\n",
       "      <th>Domestic Lifetime Gross</th>\n",
       "      <th>Domestic %</th>\n",
       "      <th>Foreign Lifetime Gross</th>\n",
       "      <th>Foreign %</th>\n",
       "      <th>Year</th>\n",
       "    </tr>\n",
       "  </thead>\n",
       "  <tbody>\n",
       "    <tr>\n",
       "      <th>0</th>\n",
       "      <td>1</td>\n",
       "      <td>Avatar</td>\n",
       "      <td>$2,923,706,026</td>\n",
       "      <td>$785,221,649</td>\n",
       "      <td>26.9%</td>\n",
       "      <td>$2,138,484,377</td>\n",
       "      <td>73.1%</td>\n",
       "      <td>2009</td>\n",
       "    </tr>\n",
       "    <tr>\n",
       "      <th>1</th>\n",
       "      <td>2</td>\n",
       "      <td>Avengers: Endgame</td>\n",
       "      <td>$2,799,439,100</td>\n",
       "      <td>$858,373,000</td>\n",
       "      <td>30.7%</td>\n",
       "      <td>$1,941,066,100</td>\n",
       "      <td>69.3%</td>\n",
       "      <td>2019</td>\n",
       "    </tr>\n",
       "    <tr>\n",
       "      <th>2</th>\n",
       "      <td>3</td>\n",
       "      <td>Avatar: The Way of Water</td>\n",
       "      <td>$2,320,250,281</td>\n",
       "      <td>$684,075,767</td>\n",
       "      <td>29.5%</td>\n",
       "      <td>$1,636,174,514</td>\n",
       "      <td>70.5%</td>\n",
       "      <td>2022</td>\n",
       "    </tr>\n",
       "    <tr>\n",
       "      <th>3</th>\n",
       "      <td>4</td>\n",
       "      <td>Titanic</td>\n",
       "      <td>$2,264,750,694</td>\n",
       "      <td>$674,292,608</td>\n",
       "      <td>29.8%</td>\n",
       "      <td>$1,590,458,086</td>\n",
       "      <td>70.2%</td>\n",
       "      <td>1997</td>\n",
       "    </tr>\n",
       "    <tr>\n",
       "      <th>4</th>\n",
       "      <td>5</td>\n",
       "      <td>Star Wars: Episode VII - The Force Awakens</td>\n",
       "      <td>$2,071,310,218</td>\n",
       "      <td>$936,662,225</td>\n",
       "      <td>45.2%</td>\n",
       "      <td>$1,134,647,993</td>\n",
       "      <td>54.8%</td>\n",
       "      <td>2015</td>\n",
       "    </tr>\n",
       "  </tbody>\n",
       "</table>\n",
       "</div>"
      ],
      "text/plain": [
       "   Rank                                       Title Worldwide Lifetime Gross  \\\n",
       "0     1                                      Avatar           $2,923,706,026   \n",
       "1     2                           Avengers: Endgame           $2,799,439,100   \n",
       "2     3                    Avatar: The Way of Water           $2,320,250,281   \n",
       "3     4                                     Titanic           $2,264,750,694   \n",
       "4     5  Star Wars: Episode VII - The Force Awakens           $2,071,310,218   \n",
       "\n",
       "  Domestic Lifetime Gross Domestic % Foreign Lifetime Gross Foreign %  Year  \n",
       "0            $785,221,649      26.9%         $2,138,484,377     73.1%  2009  \n",
       "1            $858,373,000      30.7%         $1,941,066,100     69.3%  2019  \n",
       "2            $684,075,767      29.5%         $1,636,174,514     70.5%  2022  \n",
       "3            $674,292,608      29.8%         $1,590,458,086     70.2%  1997  \n",
       "4            $936,662,225      45.2%         $1,134,647,993     54.8%  2015  "
      ]
     },
     "execution_count": 57,
     "metadata": {},
     "output_type": "execute_result"
    }
   ],
   "source": [
    "# do the same exact process with the worldwide film data\n",
    "url = 'https://www.boxofficemojo.com/chart/ww_top_lifetime_gross/'\n",
    "w_dfs = [scrape_table(url + offset) for offset in offsets]\n",
    "world = pd.concat(w_dfs, ignore_index=True)\n",
    "world.head()"
   ]
  },
  {
   "cell_type": "code",
   "execution_count": 58,
   "id": "c23104e5",
   "metadata": {},
   "outputs": [
    {
     "data": {
      "text/plain": [
       "(1000, 8)"
      ]
     },
     "execution_count": 58,
     "metadata": {},
     "output_type": "execute_result"
    }
   ],
   "source": [
    "world.shape"
   ]
  },
  {
   "cell_type": "markdown",
   "id": "b3fd8439",
   "metadata": {},
   "source": [
    "As we can see, both dfs have a total of 1000 entries. However, the worldwide film data contains a few more columns than the domestic data. \n",
    "\n",
    "Next we will process these dfs and merge them. "
   ]
  },
  {
   "cell_type": "markdown",
   "id": "7fd45c4a",
   "metadata": {},
   "source": [
    "### Step 3: Drop and Rename Columns"
   ]
  },
  {
   "cell_type": "code",
   "execution_count": 59,
   "id": "899a88cf",
   "metadata": {},
   "outputs": [],
   "source": [
    "# drop the rank column, since we will be combining these dataframes\n",
    "dom.drop(columns=['Rank'], inplace=True)\n",
    "world.drop(columns=['Rank'], inplace=True)"
   ]
  },
  {
   "cell_type": "code",
   "execution_count": 60,
   "id": "873ad7ac",
   "metadata": {},
   "outputs": [],
   "source": [
    "# modify the domestic columns\n",
    "dom.columns = ['title', 'domestic_gross', 'year']"
   ]
  },
  {
   "cell_type": "code",
   "execution_count": 61,
   "id": "e5418269",
   "metadata": {},
   "outputs": [],
   "source": [
    "# modify the worldwide columns, maintaining naming conventions with the domestic df\n",
    "world.columns = ['title', 'world_gross', 'domestic_gross',\n",
    "       'domestic_pct', 'foreign_gross', 'foreign_pct', 'year']"
   ]
  },
  {
   "cell_type": "markdown",
   "id": "0c2a56ba",
   "metadata": {},
   "source": [
    "All we did here was drop an unnecessary column and replace all of the column names with a consistent snake_case. "
   ]
  },
  {
   "cell_type": "markdown",
   "id": "07445ba0",
   "metadata": {},
   "source": [
    "### Step 4: Replace Special Characters and Convert Columns to Numeric Dtypes"
   ]
  },
  {
   "cell_type": "markdown",
   "id": "75dba408",
   "metadata": {},
   "source": [
    "Both dfs contain several numerical columns with special characters such as '\\\\$' ',' '<' and '\\%'.  We will get rid of these characters and convert these columns into the `float` type. "
   ]
  },
  {
   "cell_type": "code",
   "execution_count": 62,
   "id": "4c978fa5",
   "metadata": {},
   "outputs": [],
   "source": [
    "# convert the box office gross into purely numeric strings\n",
    "dom.domestic_gross = dom.domestic_gross.str.replace('$', '').str.replace(',', '')"
   ]
  },
  {
   "cell_type": "code",
   "execution_count": 63,
   "id": "68c0ff90",
   "metadata": {},
   "outputs": [],
   "source": [
    "# convert the strings into floats\n",
    "dom.domestic_gross = dom.domestic_gross.astype(float)"
   ]
  },
  {
   "cell_type": "code",
   "execution_count": 64,
   "id": "1d0f0895",
   "metadata": {},
   "outputs": [
    {
     "data": {
      "text/html": [
       "<div>\n",
       "<style scoped>\n",
       "    .dataframe tbody tr th:only-of-type {\n",
       "        vertical-align: middle;\n",
       "    }\n",
       "\n",
       "    .dataframe tbody tr th {\n",
       "        vertical-align: top;\n",
       "    }\n",
       "\n",
       "    .dataframe thead th {\n",
       "        text-align: right;\n",
       "    }\n",
       "</style>\n",
       "<table border=\"1\" class=\"dataframe\">\n",
       "  <thead>\n",
       "    <tr style=\"text-align: right;\">\n",
       "      <th></th>\n",
       "      <th>title</th>\n",
       "      <th>domestic_gross</th>\n",
       "      <th>year</th>\n",
       "    </tr>\n",
       "  </thead>\n",
       "  <tbody>\n",
       "    <tr>\n",
       "      <th>0</th>\n",
       "      <td>Star Wars: Episode VII - The Force Awakens</td>\n",
       "      <td>936662225.0</td>\n",
       "      <td>2015</td>\n",
       "    </tr>\n",
       "    <tr>\n",
       "      <th>1</th>\n",
       "      <td>Avengers: Endgame</td>\n",
       "      <td>858373000.0</td>\n",
       "      <td>2019</td>\n",
       "    </tr>\n",
       "    <tr>\n",
       "      <th>2</th>\n",
       "      <td>Spider-Man: No Way Home</td>\n",
       "      <td>814115070.0</td>\n",
       "      <td>2021</td>\n",
       "    </tr>\n",
       "    <tr>\n",
       "      <th>3</th>\n",
       "      <td>Avatar</td>\n",
       "      <td>785221649.0</td>\n",
       "      <td>2009</td>\n",
       "    </tr>\n",
       "    <tr>\n",
       "      <th>4</th>\n",
       "      <td>Top Gun: Maverick</td>\n",
       "      <td>718732821.0</td>\n",
       "      <td>2022</td>\n",
       "    </tr>\n",
       "  </tbody>\n",
       "</table>\n",
       "</div>"
      ],
      "text/plain": [
       "                                        title  domestic_gross  year\n",
       "0  Star Wars: Episode VII - The Force Awakens     936662225.0  2015\n",
       "1                           Avengers: Endgame     858373000.0  2019\n",
       "2                     Spider-Man: No Way Home     814115070.0  2021\n",
       "3                                      Avatar     785221649.0  2009\n",
       "4                           Top Gun: Maverick     718732821.0  2022"
      ]
     },
     "execution_count": 64,
     "metadata": {},
     "output_type": "execute_result"
    }
   ],
   "source": [
    "dom.head()"
   ]
  },
  {
   "cell_type": "code",
   "execution_count": 65,
   "id": "a692a5e5",
   "metadata": {},
   "outputs": [],
   "source": [
    "# perform the same process for the worldwide df\n",
    "for col in ['world_gross', 'domestic_gross', 'foreign_gross']:\n",
    "    world[col] = world[col].astype('string')\n",
    "    world[col] = world[col].str.replace('$', '').str.replace(',', '')"
   ]
  },
  {
   "cell_type": "code",
   "execution_count": 66,
   "id": "fe46c560",
   "metadata": {},
   "outputs": [],
   "source": [
    "# perform the same process for the worldwide df for the percentages\n",
    "for col in ['domestic_pct', 'foreign_pct']:\n",
    "    world[col] = world[col].astype('string')\n",
    "    world[col] = world[col].str.replace('%', '').str.replace('<', '').str.replace('>', '')"
   ]
  },
  {
   "cell_type": "markdown",
   "id": "84132b22",
   "metadata": {},
   "source": [
    "In addition to these special characters, there are also entries containing just a dash '-' that represent NaN values. We will replace them with 0's. "
   ]
  },
  {
   "cell_type": "code",
   "execution_count": 67,
   "id": "ee6b51df",
   "metadata": {},
   "outputs": [],
   "source": [
    "# replace the dashes with zeroes\n",
    "world[['domestic_pct', 'foreign_pct']] = world[['domestic_pct', 'foreign_pct']].replace('-', '0')"
   ]
  },
  {
   "cell_type": "code",
   "execution_count": 68,
   "id": "f7f770a2",
   "metadata": {},
   "outputs": [],
   "source": [
    "# replace the dashes with zeroes\n",
    "world[['world_gross', 'domestic_gross', 'foreign_gross']] = world[['world_gross', 'domestic_gross', \n",
    "                                                                   'foreign_gross']].replace('-', '0')"
   ]
  },
  {
   "cell_type": "code",
   "execution_count": 69,
   "id": "8183a912",
   "metadata": {},
   "outputs": [],
   "source": [
    "# convert to float\n",
    "for col in ['world_gross', 'domestic_gross', 'foreign_gross', 'domestic_pct', 'foreign_pct']:\n",
    "    world[col] = world[col].astype(float)"
   ]
  },
  {
   "cell_type": "code",
   "execution_count": 70,
   "id": "0aabd8cc",
   "metadata": {},
   "outputs": [
    {
     "data": {
      "text/html": [
       "<div>\n",
       "<style scoped>\n",
       "    .dataframe tbody tr th:only-of-type {\n",
       "        vertical-align: middle;\n",
       "    }\n",
       "\n",
       "    .dataframe tbody tr th {\n",
       "        vertical-align: top;\n",
       "    }\n",
       "\n",
       "    .dataframe thead th {\n",
       "        text-align: right;\n",
       "    }\n",
       "</style>\n",
       "<table border=\"1\" class=\"dataframe\">\n",
       "  <thead>\n",
       "    <tr style=\"text-align: right;\">\n",
       "      <th></th>\n",
       "      <th>title</th>\n",
       "      <th>world_gross</th>\n",
       "      <th>domestic_gross</th>\n",
       "      <th>domestic_pct</th>\n",
       "      <th>foreign_gross</th>\n",
       "      <th>foreign_pct</th>\n",
       "      <th>year</th>\n",
       "    </tr>\n",
       "  </thead>\n",
       "  <tbody>\n",
       "    <tr>\n",
       "      <th>0</th>\n",
       "      <td>Avatar</td>\n",
       "      <td>2.923706e+09</td>\n",
       "      <td>785221649.0</td>\n",
       "      <td>26.9</td>\n",
       "      <td>2.138484e+09</td>\n",
       "      <td>73.1</td>\n",
       "      <td>2009</td>\n",
       "    </tr>\n",
       "    <tr>\n",
       "      <th>1</th>\n",
       "      <td>Avengers: Endgame</td>\n",
       "      <td>2.799439e+09</td>\n",
       "      <td>858373000.0</td>\n",
       "      <td>30.7</td>\n",
       "      <td>1.941066e+09</td>\n",
       "      <td>69.3</td>\n",
       "      <td>2019</td>\n",
       "    </tr>\n",
       "    <tr>\n",
       "      <th>2</th>\n",
       "      <td>Avatar: The Way of Water</td>\n",
       "      <td>2.320250e+09</td>\n",
       "      <td>684075767.0</td>\n",
       "      <td>29.5</td>\n",
       "      <td>1.636175e+09</td>\n",
       "      <td>70.5</td>\n",
       "      <td>2022</td>\n",
       "    </tr>\n",
       "    <tr>\n",
       "      <th>3</th>\n",
       "      <td>Titanic</td>\n",
       "      <td>2.264751e+09</td>\n",
       "      <td>674292608.0</td>\n",
       "      <td>29.8</td>\n",
       "      <td>1.590458e+09</td>\n",
       "      <td>70.2</td>\n",
       "      <td>1997</td>\n",
       "    </tr>\n",
       "    <tr>\n",
       "      <th>4</th>\n",
       "      <td>Star Wars: Episode VII - The Force Awakens</td>\n",
       "      <td>2.071310e+09</td>\n",
       "      <td>936662225.0</td>\n",
       "      <td>45.2</td>\n",
       "      <td>1.134648e+09</td>\n",
       "      <td>54.8</td>\n",
       "      <td>2015</td>\n",
       "    </tr>\n",
       "  </tbody>\n",
       "</table>\n",
       "</div>"
      ],
      "text/plain": [
       "                                        title   world_gross  domestic_gross  \\\n",
       "0                                      Avatar  2.923706e+09     785221649.0   \n",
       "1                           Avengers: Endgame  2.799439e+09     858373000.0   \n",
       "2                    Avatar: The Way of Water  2.320250e+09     684075767.0   \n",
       "3                                     Titanic  2.264751e+09     674292608.0   \n",
       "4  Star Wars: Episode VII - The Force Awakens  2.071310e+09     936662225.0   \n",
       "\n",
       "   domestic_pct  foreign_gross  foreign_pct  year  \n",
       "0          26.9   2.138484e+09         73.1  2009  \n",
       "1          30.7   1.941066e+09         69.3  2019  \n",
       "2          29.5   1.636175e+09         70.5  2022  \n",
       "3          29.8   1.590458e+09         70.2  1997  \n",
       "4          45.2   1.134648e+09         54.8  2015  "
      ]
     },
     "execution_count": 70,
     "metadata": {},
     "output_type": "execute_result"
    }
   ],
   "source": [
    "world.head()"
   ]
  },
  {
   "cell_type": "markdown",
   "id": "f4e4358a",
   "metadata": {},
   "source": [
    "### Step 5: Merge Worldwide and Domestic Data"
   ]
  },
  {
   "cell_type": "code",
   "execution_count": 71,
   "id": "e979ced1",
   "metadata": {},
   "outputs": [],
   "source": [
    "# use an outer join to merge the two dfs, such that all films are still retained in the dataset\n",
    "mojo = pd.merge(world, dom, how='outer', on=list(dom.columns))"
   ]
  },
  {
   "cell_type": "code",
   "execution_count": 72,
   "id": "a7ef9b8e",
   "metadata": {},
   "outputs": [
    {
     "data": {
      "text/html": [
       "<div>\n",
       "<style scoped>\n",
       "    .dataframe tbody tr th:only-of-type {\n",
       "        vertical-align: middle;\n",
       "    }\n",
       "\n",
       "    .dataframe tbody tr th {\n",
       "        vertical-align: top;\n",
       "    }\n",
       "\n",
       "    .dataframe thead th {\n",
       "        text-align: right;\n",
       "    }\n",
       "</style>\n",
       "<table border=\"1\" class=\"dataframe\">\n",
       "  <thead>\n",
       "    <tr style=\"text-align: right;\">\n",
       "      <th></th>\n",
       "      <th>title</th>\n",
       "      <th>world_gross</th>\n",
       "      <th>domestic_gross</th>\n",
       "      <th>domestic_pct</th>\n",
       "      <th>foreign_gross</th>\n",
       "      <th>foreign_pct</th>\n",
       "      <th>year</th>\n",
       "    </tr>\n",
       "  </thead>\n",
       "  <tbody>\n",
       "    <tr>\n",
       "      <th>0</th>\n",
       "      <td>Avatar</td>\n",
       "      <td>2.923706e+09</td>\n",
       "      <td>785221649.0</td>\n",
       "      <td>26.9</td>\n",
       "      <td>2.138484e+09</td>\n",
       "      <td>73.1</td>\n",
       "      <td>2009</td>\n",
       "    </tr>\n",
       "    <tr>\n",
       "      <th>1</th>\n",
       "      <td>Avengers: Endgame</td>\n",
       "      <td>2.799439e+09</td>\n",
       "      <td>858373000.0</td>\n",
       "      <td>30.7</td>\n",
       "      <td>1.941066e+09</td>\n",
       "      <td>69.3</td>\n",
       "      <td>2019</td>\n",
       "    </tr>\n",
       "    <tr>\n",
       "      <th>2</th>\n",
       "      <td>Avatar: The Way of Water</td>\n",
       "      <td>2.320250e+09</td>\n",
       "      <td>684075767.0</td>\n",
       "      <td>29.5</td>\n",
       "      <td>1.636175e+09</td>\n",
       "      <td>70.5</td>\n",
       "      <td>2022</td>\n",
       "    </tr>\n",
       "    <tr>\n",
       "      <th>3</th>\n",
       "      <td>Titanic</td>\n",
       "      <td>2.264751e+09</td>\n",
       "      <td>674292608.0</td>\n",
       "      <td>29.8</td>\n",
       "      <td>1.590458e+09</td>\n",
       "      <td>70.2</td>\n",
       "      <td>1997</td>\n",
       "    </tr>\n",
       "    <tr>\n",
       "      <th>4</th>\n",
       "      <td>Star Wars: Episode VII - The Force Awakens</td>\n",
       "      <td>2.071310e+09</td>\n",
       "      <td>936662225.0</td>\n",
       "      <td>45.2</td>\n",
       "      <td>1.134648e+09</td>\n",
       "      <td>54.8</td>\n",
       "      <td>2015</td>\n",
       "    </tr>\n",
       "  </tbody>\n",
       "</table>\n",
       "</div>"
      ],
      "text/plain": [
       "                                        title   world_gross  domestic_gross  \\\n",
       "0                                      Avatar  2.923706e+09     785221649.0   \n",
       "1                           Avengers: Endgame  2.799439e+09     858373000.0   \n",
       "2                    Avatar: The Way of Water  2.320250e+09     684075767.0   \n",
       "3                                     Titanic  2.264751e+09     674292608.0   \n",
       "4  Star Wars: Episode VII - The Force Awakens  2.071310e+09     936662225.0   \n",
       "\n",
       "   domestic_pct  foreign_gross  foreign_pct  year  \n",
       "0          26.9   2.138484e+09         73.1  2009  \n",
       "1          30.7   1.941066e+09         69.3  2019  \n",
       "2          29.5   1.636175e+09         70.5  2022  \n",
       "3          29.8   1.590458e+09         70.2  1997  \n",
       "4          45.2   1.134648e+09         54.8  2015  "
      ]
     },
     "execution_count": 72,
     "metadata": {},
     "output_type": "execute_result"
    }
   ],
   "source": [
    "mojo.head()"
   ]
  },
  {
   "cell_type": "code",
   "execution_count": 73,
   "id": "87b8dab8",
   "metadata": {},
   "outputs": [
    {
     "data": {
      "text/html": [
       "<div>\n",
       "<style scoped>\n",
       "    .dataframe tbody tr th:only-of-type {\n",
       "        vertical-align: middle;\n",
       "    }\n",
       "\n",
       "    .dataframe tbody tr th {\n",
       "        vertical-align: top;\n",
       "    }\n",
       "\n",
       "    .dataframe thead th {\n",
       "        text-align: right;\n",
       "    }\n",
       "</style>\n",
       "<table border=\"1\" class=\"dataframe\">\n",
       "  <thead>\n",
       "    <tr style=\"text-align: right;\">\n",
       "      <th></th>\n",
       "      <th>title</th>\n",
       "      <th>world_gross</th>\n",
       "      <th>domestic_gross</th>\n",
       "      <th>domestic_pct</th>\n",
       "      <th>foreign_gross</th>\n",
       "      <th>foreign_pct</th>\n",
       "      <th>year</th>\n",
       "    </tr>\n",
       "  </thead>\n",
       "  <tbody>\n",
       "    <tr>\n",
       "      <th>1208</th>\n",
       "      <td>The Santa Clause 3: The Escape Clause</td>\n",
       "      <td>NaN</td>\n",
       "      <td>84500122.0</td>\n",
       "      <td>NaN</td>\n",
       "      <td>NaN</td>\n",
       "      <td>NaN</td>\n",
       "      <td>2006</td>\n",
       "    </tr>\n",
       "    <tr>\n",
       "      <th>1209</th>\n",
       "      <td>Crazy, Stupid, Love.</td>\n",
       "      <td>NaN</td>\n",
       "      <td>84379584.0</td>\n",
       "      <td>NaN</td>\n",
       "      <td>NaN</td>\n",
       "      <td>NaN</td>\n",
       "      <td>2011</td>\n",
       "    </tr>\n",
       "    <tr>\n",
       "      <th>1210</th>\n",
       "      <td>Pinocchio</td>\n",
       "      <td>NaN</td>\n",
       "      <td>84254167.0</td>\n",
       "      <td>NaN</td>\n",
       "      <td>NaN</td>\n",
       "      <td>NaN</td>\n",
       "      <td>1940</td>\n",
       "    </tr>\n",
       "    <tr>\n",
       "      <th>1211</th>\n",
       "      <td>Scooby-Doo 2: Monsters Unleashed</td>\n",
       "      <td>NaN</td>\n",
       "      <td>84239132.0</td>\n",
       "      <td>NaN</td>\n",
       "      <td>NaN</td>\n",
       "      <td>NaN</td>\n",
       "      <td>2004</td>\n",
       "    </tr>\n",
       "    <tr>\n",
       "      <th>1212</th>\n",
       "      <td>Alien</td>\n",
       "      <td>NaN</td>\n",
       "      <td>84206106.0</td>\n",
       "      <td>NaN</td>\n",
       "      <td>NaN</td>\n",
       "      <td>NaN</td>\n",
       "      <td>1979</td>\n",
       "    </tr>\n",
       "  </tbody>\n",
       "</table>\n",
       "</div>"
      ],
      "text/plain": [
       "                                      title  world_gross  domestic_gross  \\\n",
       "1208  The Santa Clause 3: The Escape Clause          NaN      84500122.0   \n",
       "1209                   Crazy, Stupid, Love.          NaN      84379584.0   \n",
       "1210                              Pinocchio          NaN      84254167.0   \n",
       "1211       Scooby-Doo 2: Monsters Unleashed          NaN      84239132.0   \n",
       "1212                                  Alien          NaN      84206106.0   \n",
       "\n",
       "      domestic_pct  foreign_gross  foreign_pct  year  \n",
       "1208           NaN            NaN          NaN  2006  \n",
       "1209           NaN            NaN          NaN  2011  \n",
       "1210           NaN            NaN          NaN  1940  \n",
       "1211           NaN            NaN          NaN  2004  \n",
       "1212           NaN            NaN          NaN  1979  "
      ]
     },
     "execution_count": 73,
     "metadata": {},
     "output_type": "execute_result"
    }
   ],
   "source": [
    "mojo.tail()"
   ]
  },
  {
   "cell_type": "markdown",
   "id": "178c4ca4",
   "metadata": {},
   "source": [
    "Here an outer join was performed to merge the domestic and worldwide box office data. The outer join helps to keep all of the films across both datasets, as we we would like to retain as much information as possible until the final merges are accomplished across all our data sources. "
   ]
  },
  {
   "cell_type": "markdown",
   "id": "35b5a0f4",
   "metadata": {},
   "source": [
    "### Step 6: Drop Duplicates and Fix Years"
   ]
  },
  {
   "cell_type": "markdown",
   "id": "d46ffb92",
   "metadata": {},
   "source": [
    "When making the final checks for anomilies in the dataset, it appeared that there were some films that were duplicated due to having years that were off by one. So, the domestic gross and title were the exact same, and yet the year was different, thus the two rows failed to merge into one row. \n",
    "\n",
    "We will remove these duplicated rows and fix the years to be the correct year. "
   ]
  },
  {
   "cell_type": "code",
   "execution_count": 74,
   "id": "2b153d5a",
   "metadata": {},
   "outputs": [
    {
     "data": {
      "text/html": [
       "<div>\n",
       "<style scoped>\n",
       "    .dataframe tbody tr th:only-of-type {\n",
       "        vertical-align: middle;\n",
       "    }\n",
       "\n",
       "    .dataframe tbody tr th {\n",
       "        vertical-align: top;\n",
       "    }\n",
       "\n",
       "    .dataframe thead th {\n",
       "        text-align: right;\n",
       "    }\n",
       "</style>\n",
       "<table border=\"1\" class=\"dataframe\">\n",
       "  <thead>\n",
       "    <tr style=\"text-align: right;\">\n",
       "      <th></th>\n",
       "      <th>title</th>\n",
       "      <th>world_gross</th>\n",
       "      <th>domestic_gross</th>\n",
       "      <th>domestic_pct</th>\n",
       "      <th>foreign_gross</th>\n",
       "      <th>foreign_pct</th>\n",
       "      <th>year</th>\n",
       "    </tr>\n",
       "  </thead>\n",
       "  <tbody>\n",
       "    <tr>\n",
       "      <th>467</th>\n",
       "      <td>Prince of Persia: The Sands of Time</td>\n",
       "      <td>336365676.0</td>\n",
       "      <td>90759676.0</td>\n",
       "      <td>27.0</td>\n",
       "      <td>245606000.0</td>\n",
       "      <td>73.0</td>\n",
       "      <td>2009</td>\n",
       "    </tr>\n",
       "    <tr>\n",
       "      <th>616</th>\n",
       "      <td>We're the Millers</td>\n",
       "      <td>269994119.0</td>\n",
       "      <td>150394119.0</td>\n",
       "      <td>55.7</td>\n",
       "      <td>119600000.0</td>\n",
       "      <td>44.3</td>\n",
       "      <td>2012</td>\n",
       "    </tr>\n",
       "    <tr>\n",
       "      <th>654</th>\n",
       "      <td>The Village</td>\n",
       "      <td>256697520.0</td>\n",
       "      <td>114197520.0</td>\n",
       "      <td>44.5</td>\n",
       "      <td>142500000.0</td>\n",
       "      <td>55.5</td>\n",
       "      <td>2003</td>\n",
       "    </tr>\n",
       "    <tr>\n",
       "      <th>659</th>\n",
       "      <td>Get Out</td>\n",
       "      <td>255751443.0</td>\n",
       "      <td>176196665.0</td>\n",
       "      <td>68.9</td>\n",
       "      <td>79554778.0</td>\n",
       "      <td>31.1</td>\n",
       "      <td>2016</td>\n",
       "    </tr>\n",
       "    <tr>\n",
       "      <th>766</th>\n",
       "      <td>Taken</td>\n",
       "      <td>226837760.0</td>\n",
       "      <td>145000989.0</td>\n",
       "      <td>63.9</td>\n",
       "      <td>81836771.0</td>\n",
       "      <td>36.1</td>\n",
       "      <td>2008</td>\n",
       "    </tr>\n",
       "  </tbody>\n",
       "</table>\n",
       "</div>"
      ],
      "text/plain": [
       "                                   title  world_gross  domestic_gross  \\\n",
       "467  Prince of Persia: The Sands of Time  336365676.0      90759676.0   \n",
       "616                    We're the Millers  269994119.0     150394119.0   \n",
       "654                          The Village  256697520.0     114197520.0   \n",
       "659                              Get Out  255751443.0     176196665.0   \n",
       "766                                Taken  226837760.0     145000989.0   \n",
       "\n",
       "     domestic_pct  foreign_gross  foreign_pct  year  \n",
       "467          27.0    245606000.0         73.0  2009  \n",
       "616          55.7    119600000.0         44.3  2012  \n",
       "654          44.5    142500000.0         55.5  2003  \n",
       "659          68.9     79554778.0         31.1  2016  \n",
       "766          63.9     81836771.0         36.1  2008  "
      ]
     },
     "execution_count": 74,
     "metadata": {},
     "output_type": "execute_result"
    }
   ],
   "source": [
    "# find the rows that we want to keep (the ones with the world-wide data have more info)\n",
    "mojo[mojo.duplicated(subset=['title', 'domestic_gross'], keep='last')]"
   ]
  },
  {
   "cell_type": "code",
   "execution_count": 75,
   "id": "cd6a0c44",
   "metadata": {},
   "outputs": [],
   "source": [
    "# make the necessary drops \n",
    "# (notice that we need to keep the opposite entries here than the duplicated() entries)\n",
    "mojo.drop_duplicates(subset=['title', 'domestic_gross'], keep='first', inplace=True)"
   ]
  },
  {
   "cell_type": "code",
   "execution_count": 76,
   "id": "cb4f23cc",
   "metadata": {},
   "outputs": [
    {
     "data": {
      "text/plain": [
       "(0, 7)"
      ]
     },
     "execution_count": 76,
     "metadata": {},
     "output_type": "execute_result"
    }
   ],
   "source": [
    "# check that there are no more duplicates by title and year\n",
    "mojo[mojo.duplicated(subset=['title', 'year'])].shape"
   ]
  },
  {
   "cell_type": "code",
   "execution_count": 77,
   "id": "7f271ea6",
   "metadata": {},
   "outputs": [],
   "source": [
    "# get a list of the films needing updating\n",
    "# (for some reason Taken had a correct year, so we ignore it)\n",
    "wrong_years = ['Prince of Persia: The Sands of Time', 'We\\'re the Millers', 'The Village', 'Get Out']"
   ]
  },
  {
   "cell_type": "code",
   "execution_count": 78,
   "id": "07be734e",
   "metadata": {},
   "outputs": [],
   "source": [
    "# add one to these years\n",
    "mojo.loc[mojo['title'].isin(wrong_years), 'year'] += 1"
   ]
  },
  {
   "cell_type": "code",
   "execution_count": 79,
   "id": "0514965f",
   "metadata": {},
   "outputs": [
    {
     "data": {
      "text/html": [
       "<div>\n",
       "<style scoped>\n",
       "    .dataframe tbody tr th:only-of-type {\n",
       "        vertical-align: middle;\n",
       "    }\n",
       "\n",
       "    .dataframe tbody tr th {\n",
       "        vertical-align: top;\n",
       "    }\n",
       "\n",
       "    .dataframe thead th {\n",
       "        text-align: right;\n",
       "    }\n",
       "</style>\n",
       "<table border=\"1\" class=\"dataframe\">\n",
       "  <thead>\n",
       "    <tr style=\"text-align: right;\">\n",
       "      <th></th>\n",
       "      <th>title</th>\n",
       "      <th>year</th>\n",
       "    </tr>\n",
       "  </thead>\n",
       "  <tbody>\n",
       "    <tr>\n",
       "      <th>467</th>\n",
       "      <td>Prince of Persia: The Sands of Time</td>\n",
       "      <td>2010</td>\n",
       "    </tr>\n",
       "    <tr>\n",
       "      <th>616</th>\n",
       "      <td>We're the Millers</td>\n",
       "      <td>2013</td>\n",
       "    </tr>\n",
       "    <tr>\n",
       "      <th>654</th>\n",
       "      <td>The Village</td>\n",
       "      <td>2004</td>\n",
       "    </tr>\n",
       "    <tr>\n",
       "      <th>659</th>\n",
       "      <td>Get Out</td>\n",
       "      <td>2017</td>\n",
       "    </tr>\n",
       "  </tbody>\n",
       "</table>\n",
       "</div>"
      ],
      "text/plain": [
       "                                   title  year\n",
       "467  Prince of Persia: The Sands of Time  2010\n",
       "616                    We're the Millers  2013\n",
       "654                          The Village  2004\n",
       "659                              Get Out  2017"
      ]
     },
     "execution_count": 79,
     "metadata": {},
     "output_type": "execute_result"
    }
   ],
   "source": [
    "# check that the changes were made\n",
    "mojo.loc[mojo['title'].isin(wrong_years), ['title', 'year']]"
   ]
  },
  {
   "cell_type": "code",
   "execution_count": 80,
   "id": "22bcc6ef",
   "metadata": {},
   "outputs": [
    {
     "data": {
      "text/plain": [
       "(1208, 7)"
      ]
     },
     "execution_count": 80,
     "metadata": {},
     "output_type": "execute_result"
    }
   ],
   "source": [
    "# find the size of the resulting merged dataset\n",
    "mojo.shape"
   ]
  },
  {
   "cell_type": "code",
   "execution_count": 125,
   "id": "34429dab",
   "metadata": {},
   "outputs": [],
   "source": [
    "mojo = mojo.reset_index(drop=True)"
   ]
  },
  {
   "cell_type": "code",
   "execution_count": 211,
   "id": "a153b21a",
   "metadata": {},
   "outputs": [],
   "source": [
    "mojo.to_csv('mojo_data.csv', index=False)"
   ]
  },
  {
   "cell_type": "markdown",
   "id": "0f12be2a",
   "metadata": {},
   "source": [
    "### Concluding Thoughts and Implications"
   ]
  },
  {
   "cell_type": "markdown",
   "id": "ddd96724",
   "metadata": {},
   "source": [
    "Overall, there were relatively few changes made to the two datasets. The biggest changes were modifying the string values for numerical quantities and turning them into float datatypes, as well as getting rid of duplicate entries. Most of the difficulties were in scraping the data and merging it. There are few risks that could come of these transformations, as the information is still largely the same information as is already contained on the website. We assumed that films would have the same domestic gross values across both datasets if they were also contained in both datasets. This assumption seemed to largely hold true, aside from some weird quirks in the years column. It was also assumed that the rank column would be unnecessary, since the ranks would likely change after transformtation. \n",
    "\n",
    "The data for this phase of the project was sourced from Boxofficemojo, which is a subsidiary of IMDB - the largest and most widely recognized database for film and visual media. The data was scraped in an ethical way, as there were relatively few requests being made in a given amount of time. However, the guidelines for IMDB do require expressly written consent for extensive data mining or webscraping. The guidelines also forbid the reproduction and exploitation of their data for a commercial purpose, but as this is an educational project, that does not apply. I will need to section out my scraping for the next phase of the project, since a significantly larger number of requests will need to be made."
   ]
  },
  {
   "cell_type": "markdown",
   "id": "1c840fd4",
   "metadata": {},
   "source": [
    "## Milestone 4 - API Data"
   ]
  },
  {
   "cell_type": "markdown",
   "id": "79339dc0",
   "metadata": {},
   "source": [
    "### Step 1: Extract the Data into a Dataframe"
   ]
  },
  {
   "cell_type": "code",
   "execution_count": 163,
   "id": "60d0b296",
   "metadata": {},
   "outputs": [],
   "source": [
    "# this function takes in a search query for a movie and returns the movie ID\n",
    "def get_imdb_id(info):\n",
    "    try:\n",
    "        # search for the movie title\n",
    "        search_results = cg.search_movie(info)\n",
    "        # return the IMDB ID of the first search result\n",
    "        return search_results[0].movieID\n",
    "    except Exception as e:\n",
    "        print(f\"Error finding IMDB ID for '{info}': {e}\")\n",
    "        return None"
   ]
  },
  {
   "cell_type": "code",
   "execution_count": 139,
   "id": "88536b97",
   "metadata": {},
   "outputs": [],
   "source": [
    "# this function takes in a dictionary, movie data, and a column name\n",
    "# it then tries to add the movie data for that item to the dictionary\n",
    "def add_film_item(dct, movie, item):\n",
    "    try:\n",
    "        dct[item] = movie[item]\n",
    "    except:\n",
    "        dct[item] = np.nan"
   ]
  },
  {
   "cell_type": "code",
   "execution_count": 138,
   "id": "6a34acba",
   "metadata": {},
   "outputs": [],
   "source": [
    "# this function takes in a dictionary, movie data, and a column name\n",
    "# it then tries to add the box office data for that particular item to the dictionary\n",
    "def add_box_office(dct, movie, item):\n",
    "    try:\n",
    "        bo = movie['box office']\n",
    "        # call the add_film_item function specifically for box office data\n",
    "        add_film_item(dct, bo, item)\n",
    "    except:\n",
    "        dct[item] = np.nan"
   ]
  },
  {
   "cell_type": "code",
   "execution_count": 137,
   "id": "c81a535f",
   "metadata": {},
   "outputs": [],
   "source": [
    "# this function takes in a dictionary, movie data, and a column name\n",
    "# it then adds a list of up to three values to the dictionary based on the movie data\n",
    "def add_film_staff(dct, movie, item):\n",
    "    try:\n",
    "        # check the size of the entry\n",
    "        size = len(movie[item])\n",
    "        # take at most three values\n",
    "        if size > 3:\n",
    "            size = 3\n",
    "        # add the list to the dictionary\n",
    "        dct[item] = [f['name'] for f in movie[item][:size]]\n",
    "    except:\n",
    "        dct[item] = np.nan "
   ]
  },
  {
   "cell_type": "code",
   "execution_count": 164,
   "id": "ab60a3f9",
   "metadata": {},
   "outputs": [],
   "source": [
    "# this function takes in a search query and gathers the first result from IMDB\n",
    "# it then adds relevant information about the given film to a dictionary\n",
    "def get_film_dict(query):\n",
    "    # create an empty dict\n",
    "    film_dct = dict()\n",
    "    # get the IMDB ID for the movie\n",
    "    num = get_imdb_id(query)\n",
    "    # check if anything is retrieved\n",
    "    if num is None:\n",
    "        return None\n",
    "    # gather the data for the given movie based on the ID number\n",
    "    film = cg.get_movie(num)\n",
    "    # go through various sets of columns, adding the data to the dictionary\n",
    "    for col in movie_columns:\n",
    "        add_film_item(film_dct, film, col)\n",
    "    for col in box_info:\n",
    "        add_box_office(film_dct, film, col)\n",
    "    for col in entities:\n",
    "        add_film_staff(film_dct, film, col)\n",
    "    # return the final dictionary\n",
    "    return film_dct"
   ]
  },
  {
   "cell_type": "code",
   "execution_count": 219,
   "id": "a8de601e",
   "metadata": {},
   "outputs": [],
   "source": [
    "# this function takes in a DF of movies and returns a list of dictionaries \n",
    "# of information related to each movie\n",
    "def film_dict_list(df):\n",
    "    # create an empty list of dictionaries\n",
    "    dct_list = list()\n",
    "    # iterate over the rows of the df\n",
    "    for idx, row in df.iterrows():\n",
    "        # get the title and year the film was made and make it into a search query\n",
    "        title, year = row['title'], str(row['year'])\n",
    "        query = title + ' ' + year\n",
    "        # get the dictionary of film data for the query\n",
    "        film_dct = get_film_dict(query)\n",
    "        # if nothing was gathered, try a secondary search with just the title\n",
    "        if film_dct is None:\n",
    "            film_dct = get_film_dict(title)\n",
    "            # most likely, the IMDB server detected that a scraper was being used\n",
    "            print(f'IMBD detected a webscraper for {title} {year}!')\n",
    "        # add the original title to the DF as a measure for future merging\n",
    "        film_dct['mojo_title'] = title\n",
    "        # add the dictionary to the list\n",
    "        dct_list.append(film_dct)\n",
    "        # check that each movie is getting added\n",
    "        print(f'Movie #{idx+1} Complete!')\n",
    "    return dct_list"
   ]
  },
  {
   "cell_type": "code",
   "execution_count": 166,
   "id": "6d2d9947",
   "metadata": {},
   "outputs": [],
   "source": [
    "# this function takes in a list of dictionaries and a given index number\n",
    "# it then produces a DF and a CSV file based on the data\n",
    "def get_next_csv(dct_list, n):\n",
    "    name = 'cinemagoer_data' + str(n) + '.csv'\n",
    "    df = pd.DataFrame(dct_list)\n",
    "    df.to_csv(name, index=False)\n",
    "    print('*'*50)\n",
    "    # check that each CSV is getting added\n",
    "    print(f'CSV #{n} SUCCESSFULLY ADDED')\n",
    "    print('*'*50)"
   ]
  },
  {
   "cell_type": "code",
   "execution_count": 170,
   "id": "780598b4",
   "metadata": {},
   "outputs": [],
   "source": [
    "# this function takes in a DF of movie data, then creates a series of CSVs\n",
    "# with a limit of 50 entries per CSV file\n",
    "# it is meant to work with the mojo df produced during milestone 3\n",
    "def make_film_csvs(df, start=0):\n",
    "    for i in range(start, 24):\n",
    "        # get the current slice of our DF\n",
    "        cur_df = df[i*50:(i+1)*50]\n",
    "        # generate the list of dictionaries and produce the next CSV file\n",
    "        dct_list = film_dict_list(cur_df)\n",
    "        get_next_csv(dct_list, i)\n",
    "    # do the same thing with the last few entries in the DF\n",
    "    cur_df = df[1200:]\n",
    "    dct_list = film_dict_list(cur_df)\n",
    "    get_next_csv(dct_list, 24)\n"
   ]
  },
  {
   "cell_type": "code",
   "execution_count": 128,
   "id": "60b208b7",
   "metadata": {},
   "outputs": [],
   "source": [
    "# these are the columns that can be called directly with no further processing\n",
    "movie_columns = ['imdbID', 'title', 'genre', 'runtime', 'country', 'language', \n",
    "        'original air date', 'rating', 'votes', 'year', 'kind']"
   ]
  },
  {
   "cell_type": "code",
   "execution_count": 129,
   "id": "8cad2462",
   "metadata": {},
   "outputs": [],
   "source": [
    "# these columns need to be extracted into lists of values\n",
    "entities = ['cast', 'director', 'production companies']"
   ]
  },
  {
   "cell_type": "code",
   "execution_count": 130,
   "id": "754a6096",
   "metadata": {},
   "outputs": [],
   "source": [
    "# these columns will also need to be extracted separately\n",
    "box_info = ['Budget', 'Opening Weekend United States', 'Cumulative Worldwide Gross']"
   ]
  },
  {
   "cell_type": "code",
   "execution_count": 131,
   "id": "ffd5557b",
   "metadata": {},
   "outputs": [],
   "source": [
    "# set and instance of the Cinemagoer API to a variable\n",
    "cg = Cinemagoer()"
   ]
  },
  {
   "cell_type": "code",
   "execution_count": null,
   "id": "1bb4df32",
   "metadata": {},
   "outputs": [],
   "source": [
    "# create a series CSVs that help gather all of the info from the API calls \n",
    "make_film_csvs(mojo)"
   ]
  },
  {
   "cell_type": "code",
   "execution_count": 172,
   "id": "2841c1ae",
   "metadata": {},
   "outputs": [],
   "source": [
    "# this function takes in all of the CSV files we have made and \n",
    "# returns a DF that includes all of the data\n",
    "def make_big_df():\n",
    "    fname = 'cinemagoer_data'\n",
    "    cgdat = pd.read_csv(fname + '0.csv')\n",
    "    # iterate over each CSV, concatenating the data to a DF\n",
    "    for i in range(1, 25):\n",
    "        full = fname + str(i) + '.csv'\n",
    "        cur_df = pd.read_csv(full)\n",
    "        cgdat = pd.concat([cgdat, cur_df], axis=0, ignore_index=True)\n",
    "    return cgdat"
   ]
  },
  {
   "cell_type": "code",
   "execution_count": 173,
   "id": "88ba4b69",
   "metadata": {},
   "outputs": [],
   "source": [
    "# make the overall DF\n",
    "cgdat = make_big_df()"
   ]
  },
  {
   "cell_type": "code",
   "execution_count": 176,
   "id": "0acb7365",
   "metadata": {},
   "outputs": [],
   "source": [
    "# add a CSV file of the entire data\n",
    "cgdat.to_csv('cinemagoer_combined.csv', index=False)"
   ]
  },
  {
   "cell_type": "code",
   "execution_count": 212,
   "id": "b62a7e94",
   "metadata": {},
   "outputs": [
    {
     "data": {
      "text/html": [
       "<div>\n",
       "<style scoped>\n",
       "    .dataframe tbody tr th:only-of-type {\n",
       "        vertical-align: middle;\n",
       "    }\n",
       "\n",
       "    .dataframe tbody tr th {\n",
       "        vertical-align: top;\n",
       "    }\n",
       "\n",
       "    .dataframe thead th {\n",
       "        text-align: right;\n",
       "    }\n",
       "</style>\n",
       "<table border=\"1\" class=\"dataframe\">\n",
       "  <thead>\n",
       "    <tr style=\"text-align: right;\">\n",
       "      <th></th>\n",
       "      <th>imdbID</th>\n",
       "      <th>title</th>\n",
       "      <th>genre</th>\n",
       "      <th>runtime</th>\n",
       "      <th>country</th>\n",
       "      <th>language</th>\n",
       "      <th>original air date</th>\n",
       "      <th>rating</th>\n",
       "      <th>votes</th>\n",
       "      <th>year</th>\n",
       "      <th>kind</th>\n",
       "      <th>Budget</th>\n",
       "      <th>Opening Weekend United States</th>\n",
       "      <th>Cumulative Worldwide Gross</th>\n",
       "      <th>cast</th>\n",
       "      <th>director</th>\n",
       "      <th>production companies</th>\n",
       "      <th>mojo_title</th>\n",
       "    </tr>\n",
       "  </thead>\n",
       "  <tbody>\n",
       "    <tr>\n",
       "      <th>0</th>\n",
       "      <td>499549</td>\n",
       "      <td>Avatar</td>\n",
       "      <td>['Action', 'Adventure', 'Fantasy', 'Sci-Fi']</td>\n",
       "      <td>['162']</td>\n",
       "      <td>['United States']</td>\n",
       "      <td>['English', 'Spanish']</td>\n",
       "      <td>18 Dec 2009 (USA)</td>\n",
       "      <td>7.9</td>\n",
       "      <td>1387972.0</td>\n",
       "      <td>2009</td>\n",
       "      <td>movie</td>\n",
       "      <td>$237,000,000 (estimated)</td>\n",
       "      <td>$77,025,481, 20 Dec 2009</td>\n",
       "      <td>$2,787,965,087, 13 Feb 2015</td>\n",
       "      <td>['Sam Worthington', 'Zoe Saldana', 'Sigourney ...</td>\n",
       "      <td>['James Cameron']</td>\n",
       "      <td>['Twentieth Century Fox', 'Dune Entertainment'...</td>\n",
       "      <td>Avatar</td>\n",
       "    </tr>\n",
       "    <tr>\n",
       "      <th>1</th>\n",
       "      <td>4154796</td>\n",
       "      <td>Avengers: Endgame</td>\n",
       "      <td>['Action', 'Adventure', 'Drama', 'Sci-Fi']</td>\n",
       "      <td>['181']</td>\n",
       "      <td>['United States']</td>\n",
       "      <td>['English', 'Japanese', 'Xhosa', 'German']</td>\n",
       "      <td>26 Apr 2019 (USA)</td>\n",
       "      <td>8.4</td>\n",
       "      <td>1268310.0</td>\n",
       "      <td>2019</td>\n",
       "      <td>movie</td>\n",
       "      <td>$356,000,000 (estimated)</td>\n",
       "      <td>$357,115,007, 28 Apr 2019</td>\n",
       "      <td>$2,797,800,564</td>\n",
       "      <td>['Robert Downey Jr.', 'Chris Evans', 'Mark Ruf...</td>\n",
       "      <td>['Anthony Russo', 'Joe Russo']</td>\n",
       "      <td>['Marvel Studios', 'Walt Disney Pictures']</td>\n",
       "      <td>Avengers: Endgame</td>\n",
       "    </tr>\n",
       "    <tr>\n",
       "      <th>2</th>\n",
       "      <td>1630029</td>\n",
       "      <td>Avatar: The Way of Water</td>\n",
       "      <td>['Action', 'Adventure', 'Fantasy', 'Sci-Fi']</td>\n",
       "      <td>['192']</td>\n",
       "      <td>['United States']</td>\n",
       "      <td>['English']</td>\n",
       "      <td>16 Dec 2022 (USA)</td>\n",
       "      <td>7.5</td>\n",
       "      <td>495694.0</td>\n",
       "      <td>2022</td>\n",
       "      <td>movie</td>\n",
       "      <td>$350,000,000 (estimated)</td>\n",
       "      <td>NaN</td>\n",
       "      <td>$2,248,370,228</td>\n",
       "      <td>['Sam Worthington', 'Zoe Saldana', 'Sigourney ...</td>\n",
       "      <td>['James Cameron']</td>\n",
       "      <td>['20th Century Studios', 'TSG Entertainment', ...</td>\n",
       "      <td>Avatar: The Way of Water</td>\n",
       "    </tr>\n",
       "    <tr>\n",
       "      <th>3</th>\n",
       "      <td>120338</td>\n",
       "      <td>Titanic</td>\n",
       "      <td>['Drama', 'Romance']</td>\n",
       "      <td>['194']</td>\n",
       "      <td>['United States', 'Mexico']</td>\n",
       "      <td>['English', 'Swedish', 'Italian', 'French']</td>\n",
       "      <td>19 Dec 1997 (USA)</td>\n",
       "      <td>7.9</td>\n",
       "      <td>1282461.0</td>\n",
       "      <td>1997</td>\n",
       "      <td>movie</td>\n",
       "      <td>$200,000,000 (estimated)</td>\n",
       "      <td>$28,638,131, 21 Dec 1997</td>\n",
       "      <td>$2,186,772,302, 11 Aug 2015</td>\n",
       "      <td>['Leonardo DiCaprio', 'Kate Winslet', 'Billy Z...</td>\n",
       "      <td>['James Cameron']</td>\n",
       "      <td>['Twentieth Century Fox', 'Paramount Pictures'...</td>\n",
       "      <td>Titanic</td>\n",
       "    </tr>\n",
       "    <tr>\n",
       "      <th>4</th>\n",
       "      <td>2488496</td>\n",
       "      <td>Star Wars: Episode VII - The Force Awakens</td>\n",
       "      <td>['Action', 'Adventure', 'Sci-Fi']</td>\n",
       "      <td>['138']</td>\n",
       "      <td>['United States']</td>\n",
       "      <td>['English']</td>\n",
       "      <td>18 Dec 2015 (USA)</td>\n",
       "      <td>7.8</td>\n",
       "      <td>974702.0</td>\n",
       "      <td>2015</td>\n",
       "      <td>movie</td>\n",
       "      <td>$245,000,000 (estimated)</td>\n",
       "      <td>$247,966,675, 20 Dec 2015</td>\n",
       "      <td>$2,068,223,624, 10 Jul 2016</td>\n",
       "      <td>['Harrison Ford', 'Mark Hamill', 'Carrie Fisher']</td>\n",
       "      <td>['J.J. Abrams']</td>\n",
       "      <td>['Lucasfilm', 'Bad Robot']</td>\n",
       "      <td>Star Wars: Episode VII - The Force Awakens</td>\n",
       "    </tr>\n",
       "  </tbody>\n",
       "</table>\n",
       "</div>"
      ],
      "text/plain": [
       "    imdbID                                       title  \\\n",
       "0   499549                                      Avatar   \n",
       "1  4154796                           Avengers: Endgame   \n",
       "2  1630029                    Avatar: The Way of Water   \n",
       "3   120338                                     Titanic   \n",
       "4  2488496  Star Wars: Episode VII - The Force Awakens   \n",
       "\n",
       "                                          genre  runtime  \\\n",
       "0  ['Action', 'Adventure', 'Fantasy', 'Sci-Fi']  ['162']   \n",
       "1    ['Action', 'Adventure', 'Drama', 'Sci-Fi']  ['181']   \n",
       "2  ['Action', 'Adventure', 'Fantasy', 'Sci-Fi']  ['192']   \n",
       "3                          ['Drama', 'Romance']  ['194']   \n",
       "4             ['Action', 'Adventure', 'Sci-Fi']  ['138']   \n",
       "\n",
       "                       country                                     language  \\\n",
       "0            ['United States']                       ['English', 'Spanish']   \n",
       "1            ['United States']   ['English', 'Japanese', 'Xhosa', 'German']   \n",
       "2            ['United States']                                  ['English']   \n",
       "3  ['United States', 'Mexico']  ['English', 'Swedish', 'Italian', 'French']   \n",
       "4            ['United States']                                  ['English']   \n",
       "\n",
       "   original air date  rating      votes  year   kind  \\\n",
       "0  18 Dec 2009 (USA)     7.9  1387972.0  2009  movie   \n",
       "1  26 Apr 2019 (USA)     8.4  1268310.0  2019  movie   \n",
       "2  16 Dec 2022 (USA)     7.5   495694.0  2022  movie   \n",
       "3  19 Dec 1997 (USA)     7.9  1282461.0  1997  movie   \n",
       "4  18 Dec 2015 (USA)     7.8   974702.0  2015  movie   \n",
       "\n",
       "                     Budget Opening Weekend United States  \\\n",
       "0  $237,000,000 (estimated)      $77,025,481, 20 Dec 2009   \n",
       "1  $356,000,000 (estimated)     $357,115,007, 28 Apr 2019   \n",
       "2  $350,000,000 (estimated)                           NaN   \n",
       "3  $200,000,000 (estimated)      $28,638,131, 21 Dec 1997   \n",
       "4  $245,000,000 (estimated)     $247,966,675, 20 Dec 2015   \n",
       "\n",
       "    Cumulative Worldwide Gross  \\\n",
       "0  $2,787,965,087, 13 Feb 2015   \n",
       "1               $2,797,800,564   \n",
       "2               $2,248,370,228   \n",
       "3  $2,186,772,302, 11 Aug 2015   \n",
       "4  $2,068,223,624, 10 Jul 2016   \n",
       "\n",
       "                                                cast  \\\n",
       "0  ['Sam Worthington', 'Zoe Saldana', 'Sigourney ...   \n",
       "1  ['Robert Downey Jr.', 'Chris Evans', 'Mark Ruf...   \n",
       "2  ['Sam Worthington', 'Zoe Saldana', 'Sigourney ...   \n",
       "3  ['Leonardo DiCaprio', 'Kate Winslet', 'Billy Z...   \n",
       "4  ['Harrison Ford', 'Mark Hamill', 'Carrie Fisher']   \n",
       "\n",
       "                         director  \\\n",
       "0               ['James Cameron']   \n",
       "1  ['Anthony Russo', 'Joe Russo']   \n",
       "2               ['James Cameron']   \n",
       "3               ['James Cameron']   \n",
       "4                 ['J.J. Abrams']   \n",
       "\n",
       "                                production companies  \\\n",
       "0  ['Twentieth Century Fox', 'Dune Entertainment'...   \n",
       "1         ['Marvel Studios', 'Walt Disney Pictures']   \n",
       "2  ['20th Century Studios', 'TSG Entertainment', ...   \n",
       "3  ['Twentieth Century Fox', 'Paramount Pictures'...   \n",
       "4                         ['Lucasfilm', 'Bad Robot']   \n",
       "\n",
       "                                   mojo_title  \n",
       "0                                      Avatar  \n",
       "1                           Avengers: Endgame  \n",
       "2                    Avatar: The Way of Water  \n",
       "3                                     Titanic  \n",
       "4  Star Wars: Episode VII - The Force Awakens  "
      ]
     },
     "execution_count": 212,
     "metadata": {},
     "output_type": "execute_result"
    }
   ],
   "source": [
    "cgdat.head()"
   ]
  },
  {
   "cell_type": "markdown",
   "id": "0909a1cc",
   "metadata": {},
   "source": [
    "Quite a lot went into this step. For every movie in the Mojo dataset, a search query was made to the IMDB website. Once a valid search was made, the ID of that particular movie was extracted. Using that ID, a series of information was gathered and placed into a dictionary using the API. Each dictionary was then added to a list. Using that list, a dataframe and a CSV file was made. This process was repeated for all 1200+ movies, ultimately producing an overall Dataframe and CSV file. Note that the CSV file was not extracted directly from the website. CSV files were mainly used as a means to ensure that API calls would not have to be repeated if any errors occurred during requests to the API. "
   ]
  },
  {
   "cell_type": "markdown",
   "id": "a3a5b5f7",
   "metadata": {},
   "source": [
    "### Step 2: Drop Non-Film Entries"
   ]
  },
  {
   "cell_type": "code",
   "execution_count": 217,
   "id": "cc7ef2b2",
   "metadata": {},
   "outputs": [
    {
     "data": {
      "text/plain": [
       "24"
      ]
     },
     "execution_count": 217,
     "metadata": {},
     "output_type": "execute_result"
    }
   ],
   "source": [
    "# check how many entries returned non-movies\n",
    "len(cgdat[cgdat.kind != 'movie'])"
   ]
  },
  {
   "cell_type": "code",
   "execution_count": 222,
   "id": "a6c451a0",
   "metadata": {},
   "outputs": [],
   "source": [
    "# only keep columns that are movies\n",
    "cgdat = cgdat[cgdat.kind == 'movie']"
   ]
  },
  {
   "cell_type": "markdown",
   "id": "fd8031c4",
   "metadata": {},
   "source": [
    "Movies were queried by a 'title + year' format on the IMDB website. Unfortunately, since only the first result was returned for each movie, not all of the searches may have returned what was desired. That is why we kept in the 'movie' column, so that they could be filtered out now. However, this does not take into account the case where a separate movie was returned instead of the target movie. That will most likely be addressed in the final milestone. "
   ]
  },
  {
   "cell_type": "markdown",
   "id": "0b2aa130",
   "metadata": {},
   "source": [
    "### Step 3: Change Column Names"
   ]
  },
  {
   "cell_type": "code",
   "execution_count": 223,
   "id": "86eec17b",
   "metadata": {},
   "outputs": [
    {
     "data": {
      "text/plain": [
       "Index(['imdbID', 'title', 'genre', 'runtime', 'country', 'language',\n",
       "       'original air date', 'rating', 'votes', 'year', 'kind', 'Budget',\n",
       "       'Opening Weekend United States', 'Cumulative Worldwide Gross', 'cast',\n",
       "       'director', 'production companies', 'mojo_title'],\n",
       "      dtype='object')"
      ]
     },
     "execution_count": 223,
     "metadata": {},
     "output_type": "execute_result"
    }
   ],
   "source": [
    "cgdat.columns"
   ]
  },
  {
   "cell_type": "code",
   "execution_count": 224,
   "id": "4815b9a8",
   "metadata": {},
   "outputs": [],
   "source": [
    "cgdat.columns = ['imdb_id', 'title', 'genre', 'runtime', 'country', 'language',\n",
    "       'air_date', 'rating', 'votes', 'year', 'kind', 'budget',\n",
    "       'opening_weekend', 'worldwide_gross', 'cast',\n",
    "       'director', 'production_company', 'mojo_title']"
   ]
  },
  {
   "cell_type": "markdown",
   "id": "580291fb",
   "metadata": {},
   "source": [
    "Column names were changed here to keep a consistent, shorter snake_case format. "
   ]
  },
  {
   "cell_type": "markdown",
   "id": "fba59929",
   "metadata": {},
   "source": [
    "### Step 4: Convert Lists to Strings"
   ]
  },
  {
   "cell_type": "code",
   "execution_count": 228,
   "id": "69397165",
   "metadata": {},
   "outputs": [],
   "source": [
    "# these columns currently store values in list format\n",
    "lst_vars = cgdat[['genre','runtime','country','language','cast','director','production_company']]"
   ]
  },
  {
   "cell_type": "code",
   "execution_count": 238,
   "id": "ad1eb78e",
   "metadata": {},
   "outputs": [],
   "source": [
    "# use regex to replace the characters [ ] and ' with empty spaces\n",
    "for col in lst_vars:\n",
    "    lst_vars[col] = lst_vars[col].str.replace('[\\[\\]\\']', '', regex=True)"
   ]
  },
  {
   "cell_type": "code",
   "execution_count": 240,
   "id": "9748d222",
   "metadata": {},
   "outputs": [],
   "source": [
    "cgdat[lst_vars.columns] = lst_vars"
   ]
  },
  {
   "cell_type": "code",
   "execution_count": 245,
   "id": "6b9573f6",
   "metadata": {},
   "outputs": [],
   "source": [
    "# set runtime to be a float\n",
    "cgdat['runtime'] = cgdat['runtime'].astype('float')"
   ]
  },
  {
   "cell_type": "code",
   "execution_count": 246,
   "id": "e47224cd",
   "metadata": {},
   "outputs": [
    {
     "data": {
      "text/html": [
       "<div>\n",
       "<style scoped>\n",
       "    .dataframe tbody tr th:only-of-type {\n",
       "        vertical-align: middle;\n",
       "    }\n",
       "\n",
       "    .dataframe tbody tr th {\n",
       "        vertical-align: top;\n",
       "    }\n",
       "\n",
       "    .dataframe thead th {\n",
       "        text-align: right;\n",
       "    }\n",
       "</style>\n",
       "<table border=\"1\" class=\"dataframe\">\n",
       "  <thead>\n",
       "    <tr style=\"text-align: right;\">\n",
       "      <th></th>\n",
       "      <th>genre</th>\n",
       "      <th>runtime</th>\n",
       "      <th>country</th>\n",
       "      <th>language</th>\n",
       "      <th>cast</th>\n",
       "      <th>director</th>\n",
       "      <th>production_company</th>\n",
       "    </tr>\n",
       "  </thead>\n",
       "  <tbody>\n",
       "    <tr>\n",
       "      <th>0</th>\n",
       "      <td>Action, Adventure, Fantasy, Sci-Fi</td>\n",
       "      <td>162.0</td>\n",
       "      <td>United States</td>\n",
       "      <td>English, Spanish</td>\n",
       "      <td>Sam Worthington, Zoe Saldana, Sigourney Weaver</td>\n",
       "      <td>James Cameron</td>\n",
       "      <td>Twentieth Century Fox, Dune Entertainment, Lig...</td>\n",
       "    </tr>\n",
       "    <tr>\n",
       "      <th>1</th>\n",
       "      <td>Action, Adventure, Drama, Sci-Fi</td>\n",
       "      <td>181.0</td>\n",
       "      <td>United States</td>\n",
       "      <td>English, Japanese, Xhosa, German</td>\n",
       "      <td>Robert Downey Jr., Chris Evans, Mark Ruffalo</td>\n",
       "      <td>Anthony Russo, Joe Russo</td>\n",
       "      <td>Marvel Studios, Walt Disney Pictures</td>\n",
       "    </tr>\n",
       "    <tr>\n",
       "      <th>2</th>\n",
       "      <td>Action, Adventure, Fantasy, Sci-Fi</td>\n",
       "      <td>192.0</td>\n",
       "      <td>United States</td>\n",
       "      <td>English</td>\n",
       "      <td>Sam Worthington, Zoe Saldana, Sigourney Weaver</td>\n",
       "      <td>James Cameron</td>\n",
       "      <td>20th Century Studios, TSG Entertainment, Light...</td>\n",
       "    </tr>\n",
       "    <tr>\n",
       "      <th>3</th>\n",
       "      <td>Drama, Romance</td>\n",
       "      <td>194.0</td>\n",
       "      <td>United States, Mexico</td>\n",
       "      <td>English, Swedish, Italian, French</td>\n",
       "      <td>Leonardo DiCaprio, Kate Winslet, Billy Zane</td>\n",
       "      <td>James Cameron</td>\n",
       "      <td>Twentieth Century Fox, Paramount Pictures, Lig...</td>\n",
       "    </tr>\n",
       "    <tr>\n",
       "      <th>4</th>\n",
       "      <td>Action, Adventure, Sci-Fi</td>\n",
       "      <td>138.0</td>\n",
       "      <td>United States</td>\n",
       "      <td>English</td>\n",
       "      <td>Harrison Ford, Mark Hamill, Carrie Fisher</td>\n",
       "      <td>J.J. Abrams</td>\n",
       "      <td>Lucasfilm, Bad Robot</td>\n",
       "    </tr>\n",
       "  </tbody>\n",
       "</table>\n",
       "</div>"
      ],
      "text/plain": [
       "                                genre  runtime                country  \\\n",
       "0  Action, Adventure, Fantasy, Sci-Fi    162.0          United States   \n",
       "1    Action, Adventure, Drama, Sci-Fi    181.0          United States   \n",
       "2  Action, Adventure, Fantasy, Sci-Fi    192.0          United States   \n",
       "3                      Drama, Romance    194.0  United States, Mexico   \n",
       "4           Action, Adventure, Sci-Fi    138.0          United States   \n",
       "\n",
       "                            language  \\\n",
       "0                   English, Spanish   \n",
       "1   English, Japanese, Xhosa, German   \n",
       "2                            English   \n",
       "3  English, Swedish, Italian, French   \n",
       "4                            English   \n",
       "\n",
       "                                             cast                  director  \\\n",
       "0  Sam Worthington, Zoe Saldana, Sigourney Weaver             James Cameron   \n",
       "1    Robert Downey Jr., Chris Evans, Mark Ruffalo  Anthony Russo, Joe Russo   \n",
       "2  Sam Worthington, Zoe Saldana, Sigourney Weaver             James Cameron   \n",
       "3     Leonardo DiCaprio, Kate Winslet, Billy Zane             James Cameron   \n",
       "4       Harrison Ford, Mark Hamill, Carrie Fisher               J.J. Abrams   \n",
       "\n",
       "                                  production_company  \n",
       "0  Twentieth Century Fox, Dune Entertainment, Lig...  \n",
       "1               Marvel Studios, Walt Disney Pictures  \n",
       "2  20th Century Studios, TSG Entertainment, Light...  \n",
       "3  Twentieth Century Fox, Paramount Pictures, Lig...  \n",
       "4                               Lucasfilm, Bad Robot  "
      ]
     },
     "execution_count": 246,
     "metadata": {},
     "output_type": "execute_result"
    }
   ],
   "source": [
    "cgdat[lst_vars.columns].head()"
   ]
  },
  {
   "cell_type": "markdown",
   "id": "ba9dc3cb",
   "metadata": {},
   "source": [
    "There were several columns that returned information in the form of lists of strings. Here we simply removed the characters that formed the lists, apart from the commas. We also changed the runtime variable to be a float."
   ]
  },
  {
   "cell_type": "markdown",
   "id": "963eb8ea",
   "metadata": {},
   "source": [
    "### Step 5: Change Air Date to a Datetime Object"
   ]
  },
  {
   "cell_type": "code",
   "execution_count": 256,
   "id": "3eed5789",
   "metadata": {},
   "outputs": [],
   "source": [
    "# replace the text at the end of the air date with empty spaces\n",
    "cgdat.air_date = cgdat.air_date.str.replace(r'\\(.*\\)$', '', regex=True).str.strip()"
   ]
  },
  {
   "cell_type": "code",
   "execution_count": 263,
   "id": "8de5fbca",
   "metadata": {},
   "outputs": [],
   "source": [
    "# use the pd.to_datetime function to convert the column to datetime values\n",
    "cgdat.air_date = pd.to_datetime(cgdat['air_date'], dayfirst=True, format='%d %b %Y')"
   ]
  },
  {
   "cell_type": "markdown",
   "id": "9797f824",
   "metadata": {},
   "source": [
    "The Air Date column was initially formatted like 'Date + (Country)'. We got rid of the country part of the string and simply kept the date, then converted it into a datetime object. "
   ]
  },
  {
   "cell_type": "markdown",
   "id": "ddececab",
   "metadata": {},
   "source": [
    "### Step 6: Change Monetary Entries to Floats"
   ]
  },
  {
   "cell_type": "code",
   "execution_count": 273,
   "id": "93c67014",
   "metadata": {},
   "outputs": [],
   "source": [
    "# get the box office columns\n",
    "num_vars = cgdat[['budget','opening_weekend','worldwide_gross']]"
   ]
  },
  {
   "cell_type": "code",
   "execution_count": 280,
   "id": "d5f8c319",
   "metadata": {},
   "outputs": [
    {
     "data": {
      "text/html": [
       "<div>\n",
       "<style scoped>\n",
       "    .dataframe tbody tr th:only-of-type {\n",
       "        vertical-align: middle;\n",
       "    }\n",
       "\n",
       "    .dataframe tbody tr th {\n",
       "        vertical-align: top;\n",
       "    }\n",
       "\n",
       "    .dataframe thead th {\n",
       "        text-align: right;\n",
       "    }\n",
       "</style>\n",
       "<table border=\"1\" class=\"dataframe\">\n",
       "  <thead>\n",
       "    <tr style=\"text-align: right;\">\n",
       "      <th></th>\n",
       "      <th>budget</th>\n",
       "      <th>opening_weekend</th>\n",
       "      <th>worldwide_gross</th>\n",
       "    </tr>\n",
       "  </thead>\n",
       "  <tbody>\n",
       "    <tr>\n",
       "      <th>0</th>\n",
       "      <td>$237,000,000 (estimated)</td>\n",
       "      <td>$77,025,481, 20 Dec 2009</td>\n",
       "      <td>$2,787,965,087, 13 Feb 2015</td>\n",
       "    </tr>\n",
       "    <tr>\n",
       "      <th>1</th>\n",
       "      <td>$356,000,000 (estimated)</td>\n",
       "      <td>$357,115,007, 28 Apr 2019</td>\n",
       "      <td>$2,797,800,564</td>\n",
       "    </tr>\n",
       "    <tr>\n",
       "      <th>2</th>\n",
       "      <td>$350,000,000 (estimated)</td>\n",
       "      <td>NaN</td>\n",
       "      <td>$2,248,370,228</td>\n",
       "    </tr>\n",
       "    <tr>\n",
       "      <th>3</th>\n",
       "      <td>$200,000,000 (estimated)</td>\n",
       "      <td>$28,638,131, 21 Dec 1997</td>\n",
       "      <td>$2,186,772,302, 11 Aug 2015</td>\n",
       "    </tr>\n",
       "    <tr>\n",
       "      <th>4</th>\n",
       "      <td>$245,000,000 (estimated)</td>\n",
       "      <td>$247,966,675, 20 Dec 2015</td>\n",
       "      <td>$2,068,223,624, 10 Jul 2016</td>\n",
       "    </tr>\n",
       "  </tbody>\n",
       "</table>\n",
       "</div>"
      ],
      "text/plain": [
       "                     budget            opening_weekend  \\\n",
       "0  $237,000,000 (estimated)   $77,025,481, 20 Dec 2009   \n",
       "1  $356,000,000 (estimated)  $357,115,007, 28 Apr 2019   \n",
       "2  $350,000,000 (estimated)                        NaN   \n",
       "3  $200,000,000 (estimated)   $28,638,131, 21 Dec 1997   \n",
       "4  $245,000,000 (estimated)  $247,966,675, 20 Dec 2015   \n",
       "\n",
       "               worldwide_gross  \n",
       "0  $2,787,965,087, 13 Feb 2015  \n",
       "1               $2,797,800,564  \n",
       "2               $2,248,370,228  \n",
       "3  $2,186,772,302, 11 Aug 2015  \n",
       "4  $2,068,223,624, 10 Jul 2016  "
      ]
     },
     "execution_count": 280,
     "metadata": {},
     "output_type": "execute_result"
    }
   ],
   "source": [
    "num_vars.head()"
   ]
  },
  {
   "cell_type": "code",
   "execution_count": 327,
   "id": "e090becd",
   "metadata": {},
   "outputs": [],
   "source": [
    "# this function takes in a string of monetary information\n",
    "# and returns a float value of just the money\n",
    "def convert_dollars(s):\n",
    "    try:\n",
    "        # first get rid of the dollar sign and commas\n",
    "        s = s.replace(',', '').replace('$', '')\n",
    "        # now gather only the digits that begin the string\n",
    "        s = re.match(r'^(\\d+)', s).group()\n",
    "        # convert it to a float\n",
    "        return float(s)\n",
    "    except:\n",
    "        return np.nan"
   ]
  },
  {
   "cell_type": "code",
   "execution_count": 328,
   "id": "c9b1a71a",
   "metadata": {},
   "outputs": [],
   "source": [
    "# apply the convert_dollars function to each of the box office columns\n",
    "for col in num_vars:\n",
    "    num_vars[col] = num_vars[col].apply(convert_dollars)"
   ]
  },
  {
   "cell_type": "code",
   "execution_count": 331,
   "id": "9d5b6e10",
   "metadata": {},
   "outputs": [],
   "source": [
    "cgdat[num_vars.columns] = num_vars"
   ]
  },
  {
   "cell_type": "code",
   "execution_count": 333,
   "id": "44301f00",
   "metadata": {},
   "outputs": [
    {
     "data": {
      "text/html": [
       "<div>\n",
       "<style scoped>\n",
       "    .dataframe tbody tr th:only-of-type {\n",
       "        vertical-align: middle;\n",
       "    }\n",
       "\n",
       "    .dataframe tbody tr th {\n",
       "        vertical-align: top;\n",
       "    }\n",
       "\n",
       "    .dataframe thead th {\n",
       "        text-align: right;\n",
       "    }\n",
       "</style>\n",
       "<table border=\"1\" class=\"dataframe\">\n",
       "  <thead>\n",
       "    <tr style=\"text-align: right;\">\n",
       "      <th></th>\n",
       "      <th>imdb_id</th>\n",
       "      <th>title</th>\n",
       "      <th>genre</th>\n",
       "      <th>runtime</th>\n",
       "      <th>country</th>\n",
       "      <th>language</th>\n",
       "      <th>air_date</th>\n",
       "      <th>rating</th>\n",
       "      <th>votes</th>\n",
       "      <th>year</th>\n",
       "      <th>kind</th>\n",
       "      <th>budget</th>\n",
       "      <th>opening_weekend</th>\n",
       "      <th>worldwide_gross</th>\n",
       "      <th>cast</th>\n",
       "      <th>director</th>\n",
       "      <th>production_company</th>\n",
       "      <th>mojo_title</th>\n",
       "    </tr>\n",
       "  </thead>\n",
       "  <tbody>\n",
       "    <tr>\n",
       "      <th>0</th>\n",
       "      <td>499549</td>\n",
       "      <td>Avatar</td>\n",
       "      <td>Action, Adventure, Fantasy, Sci-Fi</td>\n",
       "      <td>162.0</td>\n",
       "      <td>United States</td>\n",
       "      <td>English, Spanish</td>\n",
       "      <td>2009-12-18</td>\n",
       "      <td>7.9</td>\n",
       "      <td>1387972.0</td>\n",
       "      <td>2009</td>\n",
       "      <td>movie</td>\n",
       "      <td>237000000.0</td>\n",
       "      <td>77025481.0</td>\n",
       "      <td>2.787965e+09</td>\n",
       "      <td>Sam Worthington, Zoe Saldana, Sigourney Weaver</td>\n",
       "      <td>James Cameron</td>\n",
       "      <td>Twentieth Century Fox, Dune Entertainment, Lig...</td>\n",
       "      <td>Avatar</td>\n",
       "    </tr>\n",
       "    <tr>\n",
       "      <th>1</th>\n",
       "      <td>4154796</td>\n",
       "      <td>Avengers: Endgame</td>\n",
       "      <td>Action, Adventure, Drama, Sci-Fi</td>\n",
       "      <td>181.0</td>\n",
       "      <td>United States</td>\n",
       "      <td>English, Japanese, Xhosa, German</td>\n",
       "      <td>2019-04-26</td>\n",
       "      <td>8.4</td>\n",
       "      <td>1268310.0</td>\n",
       "      <td>2019</td>\n",
       "      <td>movie</td>\n",
       "      <td>356000000.0</td>\n",
       "      <td>357115007.0</td>\n",
       "      <td>2.797801e+09</td>\n",
       "      <td>Robert Downey Jr., Chris Evans, Mark Ruffalo</td>\n",
       "      <td>Anthony Russo, Joe Russo</td>\n",
       "      <td>Marvel Studios, Walt Disney Pictures</td>\n",
       "      <td>Avengers: Endgame</td>\n",
       "    </tr>\n",
       "    <tr>\n",
       "      <th>2</th>\n",
       "      <td>1630029</td>\n",
       "      <td>Avatar: The Way of Water</td>\n",
       "      <td>Action, Adventure, Fantasy, Sci-Fi</td>\n",
       "      <td>192.0</td>\n",
       "      <td>United States</td>\n",
       "      <td>English</td>\n",
       "      <td>2022-12-16</td>\n",
       "      <td>7.5</td>\n",
       "      <td>495694.0</td>\n",
       "      <td>2022</td>\n",
       "      <td>movie</td>\n",
       "      <td>350000000.0</td>\n",
       "      <td>NaN</td>\n",
       "      <td>2.248370e+09</td>\n",
       "      <td>Sam Worthington, Zoe Saldana, Sigourney Weaver</td>\n",
       "      <td>James Cameron</td>\n",
       "      <td>20th Century Studios, TSG Entertainment, Light...</td>\n",
       "      <td>Avatar: The Way of Water</td>\n",
       "    </tr>\n",
       "    <tr>\n",
       "      <th>3</th>\n",
       "      <td>120338</td>\n",
       "      <td>Titanic</td>\n",
       "      <td>Drama, Romance</td>\n",
       "      <td>194.0</td>\n",
       "      <td>United States, Mexico</td>\n",
       "      <td>English, Swedish, Italian, French</td>\n",
       "      <td>1997-12-19</td>\n",
       "      <td>7.9</td>\n",
       "      <td>1282461.0</td>\n",
       "      <td>1997</td>\n",
       "      <td>movie</td>\n",
       "      <td>200000000.0</td>\n",
       "      <td>28638131.0</td>\n",
       "      <td>2.186772e+09</td>\n",
       "      <td>Leonardo DiCaprio, Kate Winslet, Billy Zane</td>\n",
       "      <td>James Cameron</td>\n",
       "      <td>Twentieth Century Fox, Paramount Pictures, Lig...</td>\n",
       "      <td>Titanic</td>\n",
       "    </tr>\n",
       "    <tr>\n",
       "      <th>4</th>\n",
       "      <td>2488496</td>\n",
       "      <td>Star Wars: Episode VII - The Force Awakens</td>\n",
       "      <td>Action, Adventure, Sci-Fi</td>\n",
       "      <td>138.0</td>\n",
       "      <td>United States</td>\n",
       "      <td>English</td>\n",
       "      <td>2015-12-18</td>\n",
       "      <td>7.8</td>\n",
       "      <td>974702.0</td>\n",
       "      <td>2015</td>\n",
       "      <td>movie</td>\n",
       "      <td>245000000.0</td>\n",
       "      <td>247966675.0</td>\n",
       "      <td>2.068224e+09</td>\n",
       "      <td>Harrison Ford, Mark Hamill, Carrie Fisher</td>\n",
       "      <td>J.J. Abrams</td>\n",
       "      <td>Lucasfilm, Bad Robot</td>\n",
       "      <td>Star Wars: Episode VII - The Force Awakens</td>\n",
       "    </tr>\n",
       "  </tbody>\n",
       "</table>\n",
       "</div>"
      ],
      "text/plain": [
       "   imdb_id                                       title  \\\n",
       "0   499549                                      Avatar   \n",
       "1  4154796                           Avengers: Endgame   \n",
       "2  1630029                    Avatar: The Way of Water   \n",
       "3   120338                                     Titanic   \n",
       "4  2488496  Star Wars: Episode VII - The Force Awakens   \n",
       "\n",
       "                                genre  runtime                country  \\\n",
       "0  Action, Adventure, Fantasy, Sci-Fi    162.0          United States   \n",
       "1    Action, Adventure, Drama, Sci-Fi    181.0          United States   \n",
       "2  Action, Adventure, Fantasy, Sci-Fi    192.0          United States   \n",
       "3                      Drama, Romance    194.0  United States, Mexico   \n",
       "4           Action, Adventure, Sci-Fi    138.0          United States   \n",
       "\n",
       "                            language   air_date  rating      votes  year  \\\n",
       "0                   English, Spanish 2009-12-18     7.9  1387972.0  2009   \n",
       "1   English, Japanese, Xhosa, German 2019-04-26     8.4  1268310.0  2019   \n",
       "2                            English 2022-12-16     7.5   495694.0  2022   \n",
       "3  English, Swedish, Italian, French 1997-12-19     7.9  1282461.0  1997   \n",
       "4                            English 2015-12-18     7.8   974702.0  2015   \n",
       "\n",
       "    kind       budget  opening_weekend  worldwide_gross  \\\n",
       "0  movie  237000000.0       77025481.0     2.787965e+09   \n",
       "1  movie  356000000.0      357115007.0     2.797801e+09   \n",
       "2  movie  350000000.0              NaN     2.248370e+09   \n",
       "3  movie  200000000.0       28638131.0     2.186772e+09   \n",
       "4  movie  245000000.0      247966675.0     2.068224e+09   \n",
       "\n",
       "                                             cast                  director  \\\n",
       "0  Sam Worthington, Zoe Saldana, Sigourney Weaver             James Cameron   \n",
       "1    Robert Downey Jr., Chris Evans, Mark Ruffalo  Anthony Russo, Joe Russo   \n",
       "2  Sam Worthington, Zoe Saldana, Sigourney Weaver             James Cameron   \n",
       "3     Leonardo DiCaprio, Kate Winslet, Billy Zane             James Cameron   \n",
       "4       Harrison Ford, Mark Hamill, Carrie Fisher               J.J. Abrams   \n",
       "\n",
       "                                  production_company  \\\n",
       "0  Twentieth Century Fox, Dune Entertainment, Lig...   \n",
       "1               Marvel Studios, Walt Disney Pictures   \n",
       "2  20th Century Studios, TSG Entertainment, Light...   \n",
       "3  Twentieth Century Fox, Paramount Pictures, Lig...   \n",
       "4                               Lucasfilm, Bad Robot   \n",
       "\n",
       "                                   mojo_title  \n",
       "0                                      Avatar  \n",
       "1                           Avengers: Endgame  \n",
       "2                    Avatar: The Way of Water  \n",
       "3                                     Titanic  \n",
       "4  Star Wars: Episode VII - The Force Awakens  "
      ]
     },
     "execution_count": 333,
     "metadata": {},
     "output_type": "execute_result"
    }
   ],
   "source": [
    "cgdat.head()"
   ]
  },
  {
   "cell_type": "markdown",
   "id": "306962db",
   "metadata": {},
   "source": [
    "In this final step, we extracted only the dollar amount for each of the box-office related variables and converted them into floats. "
   ]
  },
  {
   "cell_type": "markdown",
   "id": "eed77d25",
   "metadata": {},
   "source": [
    "### Concluding Thoughts and Implications"
   ]
  },
  {
   "cell_type": "markdown",
   "id": "47209fd8",
   "metadata": {},
   "source": [
    "The bulk of the time spent on this milestone of the project was in producing the proper functions for making API calls and gathering the necessary data from those calls. Once all the data was gathered, some minor cosmetic changes were made to the data. Numeric entries were all converted to floats, and lists of data were converted into comma-separated strings. Not all of the cast/directors/production companies were kept simply for space concerns. We assume we wouldn't need to know all 100+ people that acted in a particular film to get a sufficient picture of it. We also assume so far that all of the films that were searched returned the correct film from each respective query. This has the potential of giving incorrect data during our final analysis. However, this will be touched on in the final milestone during cross-validation and merging. \n",
    "\n",
    "Data from this milestone was sourced from IMDB via the Cinemagoer API. As mentioned in the previous milestone, IMDB is the largest and most trusted source for film and media data. IMDB stipulates that webcrawlers must be used with explicit permission, however, as this project uses the Cinemagoer API to communicate with IMDB, the same regulations need not necessarily apply. Cinemagoer ensures that a low volume of API calls to IMDB are taken at a given time, so as not to overload their servers. Despite this, IMDB was still able to determine some searches were taken via machine. This required another backup search to be placed to get around this issue. "
   ]
  },
  {
   "cell_type": "markdown",
   "id": "0a4043d1",
   "metadata": {},
   "source": [
    "## Milestone 5 - Merging the Data & Visualizations"
   ]
  },
  {
   "cell_type": "markdown",
   "id": "355364d2",
   "metadata": {},
   "source": [
    "### Step 1: Merging the Data into a Final Dataframe"
   ]
  },
  {
   "cell_type": "code",
   "execution_count": 346,
   "id": "1e8be1dd",
   "metadata": {},
   "outputs": [],
   "source": [
    "# change title column for ease of merging\n",
    "mojo.columns = ['mojo_title', 'world_gross', 'domestic_gross', 'domestic_pct',\n",
    "       'foreign_gross', 'foreign_pct', 'year']"
   ]
  },
  {
   "cell_type": "code",
   "execution_count": 355,
   "id": "3891ccaa",
   "metadata": {},
   "outputs": [],
   "source": [
    "# merge the dataframes based on title and year\n",
    "imdb_merged = pd.merge(mojo, cgdat, on=['mojo_title', 'year'], how='outer')"
   ]
  },
  {
   "cell_type": "code",
   "execution_count": 360,
   "id": "bc78711d",
   "metadata": {},
   "outputs": [
    {
     "data": {
      "text/plain": [
       "30"
      ]
     },
     "execution_count": 360,
     "metadata": {},
     "output_type": "execute_result"
    }
   ],
   "source": [
    "# make sure that most of the titles match the intended merge\n",
    "imdb_merged[imdb_merged.mojo_title != imdb_merged.title].shape[0]"
   ]
  },
  {
   "cell_type": "code",
   "execution_count": 361,
   "id": "abb671ff",
   "metadata": {},
   "outputs": [],
   "source": [
    "# get rid of mismatches\n",
    "imdb_merged = imdb_merged[imdb_merged.mojo_title == imdb_merged.title]"
   ]
  },
  {
   "cell_type": "code",
   "execution_count": 369,
   "id": "a8858100",
   "metadata": {},
   "outputs": [],
   "source": [
    "# drop duplicate title column\n",
    "imdb_merged.drop(columns='title', inplace=True)"
   ]
  },
  {
   "cell_type": "code",
   "execution_count": 371,
   "id": "a1e6095b",
   "metadata": {},
   "outputs": [],
   "source": [
    "# reset the index\n",
    "imdb_merged.reset_index(drop=True, inplace=True)"
   ]
  },
  {
   "cell_type": "code",
   "execution_count": 411,
   "id": "0c93eab2",
   "metadata": {},
   "outputs": [],
   "source": [
    "# change 'release_date column' to match the 'air_date' column\n",
    "rt.columns = ['id', 'title', 'audience_score', 'tomato_meter', 'rating',\n",
    "       'rating_contents', 'air_date', 'release_date_streaming',\n",
    "       'runtime', 'genre', 'language', 'director', 'writer', 'box_office',\n",
    "       'distributor', 'sound_mix']"
   ]
  },
  {
   "cell_type": "code",
   "execution_count": 413,
   "id": "449d0e50",
   "metadata": {},
   "outputs": [],
   "source": [
    "# convert the two date columns to datetime format\n",
    "for col in ['air_date', 'release_date_streaming']:\n",
    "    rt[col] = pd.to_datetime(rt[col], format='%Y-%m-%d')"
   ]
  },
  {
   "cell_type": "code",
   "execution_count": 742,
   "id": "4003b3c5",
   "metadata": {},
   "outputs": [],
   "source": [
    "# merge the rotten tomatoes and IMDB datasets based on the air date and run time\n",
    "# this was the simplest method of merging the datasets without involving title matching \n",
    "finale = pd.merge(rt, imdb_merged, on=['air_date', 'runtime'], how='right')"
   ]
  },
  {
   "cell_type": "code",
   "execution_count": 743,
   "id": "520fffda",
   "metadata": {},
   "outputs": [
    {
     "data": {
      "text/plain": [
       "(1185, 36)"
      ]
     },
     "execution_count": 743,
     "metadata": {},
     "output_type": "execute_result"
    }
   ],
   "source": [
    "# get the final shape of the merged data\n",
    "finale.shape"
   ]
  },
  {
   "cell_type": "code",
   "execution_count": 744,
   "id": "badea452",
   "metadata": {},
   "outputs": [
    {
     "data": {
      "text/html": [
       "<div>\n",
       "<style scoped>\n",
       "    .dataframe tbody tr th:only-of-type {\n",
       "        vertical-align: middle;\n",
       "    }\n",
       "\n",
       "    .dataframe tbody tr th {\n",
       "        vertical-align: top;\n",
       "    }\n",
       "\n",
       "    .dataframe thead th {\n",
       "        text-align: right;\n",
       "    }\n",
       "</style>\n",
       "<table border=\"1\" class=\"dataframe\">\n",
       "  <thead>\n",
       "    <tr style=\"text-align: right;\">\n",
       "      <th></th>\n",
       "      <th>title</th>\n",
       "      <th>mojo_title</th>\n",
       "    </tr>\n",
       "  </thead>\n",
       "  <tbody>\n",
       "    <tr>\n",
       "      <th>19</th>\n",
       "      <td>Star Wars: The Last Jedi</td>\n",
       "      <td>Star Wars: Episode VIII - The Last Jedi</td>\n",
       "    </tr>\n",
       "    <tr>\n",
       "      <th>30</th>\n",
       "      <td>Spider-Man: Far From Home</td>\n",
       "      <td>Spider-Man: Far from Home</td>\n",
       "    </tr>\n",
       "    <tr>\n",
       "      <th>79</th>\n",
       "      <td>Star Wars: Episode III -- Revenge of the Sith</td>\n",
       "      <td>Star Wars: Episode III - Revenge of the Sith</td>\n",
       "    </tr>\n",
       "    <tr>\n",
       "      <th>86</th>\n",
       "      <td>The Twilight Saga: Breaking Dawn Part 2</td>\n",
       "      <td>The Twilight Saga: Breaking Dawn - Part 2</td>\n",
       "    </tr>\n",
       "    <tr>\n",
       "      <th>129</th>\n",
       "      <td>The Twilight Saga: Breaking Dawn Part 1</td>\n",
       "      <td>The Twilight Saga: Breaking Dawn - Part 1</td>\n",
       "    </tr>\n",
       "    <tr>\n",
       "      <th>170</th>\n",
       "      <td>Ant-Man and The Wasp</td>\n",
       "      <td>Ant-Man and the Wasp</td>\n",
       "    </tr>\n",
       "    <tr>\n",
       "      <th>205</th>\n",
       "      <td>Mission: Impossible 2</td>\n",
       "      <td>Mission: Impossible II</td>\n",
       "    </tr>\n",
       "    <tr>\n",
       "      <th>256</th>\n",
       "      <td>Ant-Man and The Wasp: Quantumania</td>\n",
       "      <td>Ant-Man and the Wasp: Quantumania</td>\n",
       "    </tr>\n",
       "    <tr>\n",
       "      <th>262</th>\n",
       "      <td>It: Chapter Two</td>\n",
       "      <td>It Chapter Two</td>\n",
       "    </tr>\n",
       "    <tr>\n",
       "      <th>285</th>\n",
       "      <td>Pokémon Detective Pikachu</td>\n",
       "      <td>Pokémon: Detective Pikachu</td>\n",
       "    </tr>\n",
       "    <tr>\n",
       "      <th>333</th>\n",
       "      <td>X2</td>\n",
       "      <td>X-Men 2</td>\n",
       "    </tr>\n",
       "    <tr>\n",
       "      <th>375</th>\n",
       "      <td>Valkyrie</td>\n",
       "      <td>Slumdog Millionaire</td>\n",
       "    </tr>\n",
       "    <tr>\n",
       "      <th>398</th>\n",
       "      <td>Die Hard With a Vengeance</td>\n",
       "      <td>Die Hard with a Vengeance</td>\n",
       "    </tr>\n",
       "    <tr>\n",
       "      <th>439</th>\n",
       "      <td>Dr. Seuss' the Lorax</td>\n",
       "      <td>The Lorax</td>\n",
       "    </tr>\n",
       "    <tr>\n",
       "      <th>487</th>\n",
       "      <td>Due Date</td>\n",
       "      <td>Megamind</td>\n",
       "    </tr>\n",
       "    <tr>\n",
       "      <th>528</th>\n",
       "      <td>Assassin's Creed</td>\n",
       "      <td>Passengers</td>\n",
       "    </tr>\n",
       "    <tr>\n",
       "      <th>545</th>\n",
       "      <td>Ocean's 8</td>\n",
       "      <td>Ocean's Eight</td>\n",
       "    </tr>\n",
       "    <tr>\n",
       "      <th>554</th>\n",
       "      <td>Dr. Dolittle</td>\n",
       "      <td>Doctor Dolittle</td>\n",
       "    </tr>\n",
       "    <tr>\n",
       "      <th>561</th>\n",
       "      <td>Pacific Rim Uprising</td>\n",
       "      <td>Pacific Rim: Uprising</td>\n",
       "    </tr>\n",
       "    <tr>\n",
       "      <th>582</th>\n",
       "      <td>XXX</td>\n",
       "      <td>xXx</td>\n",
       "    </tr>\n",
       "    <tr>\n",
       "      <th>591</th>\n",
       "      <td>Cloudy With a Chance of Meatballs 2</td>\n",
       "      <td>Cloudy with a Chance of Meatballs 2</td>\n",
       "    </tr>\n",
       "    <tr>\n",
       "      <th>603</th>\n",
       "      <td>10,000 B.C.</td>\n",
       "      <td>10,000 BC</td>\n",
       "    </tr>\n",
       "    <tr>\n",
       "      <th>608</th>\n",
       "      <td>Michael Jackson's This Is It</td>\n",
       "      <td>This Is It</td>\n",
       "    </tr>\n",
       "    <tr>\n",
       "      <th>622</th>\n",
       "      <td>Borat: Cultural Learnings of America for Make ...</td>\n",
       "      <td>Borat</td>\n",
       "    </tr>\n",
       "    <tr>\n",
       "      <th>808</th>\n",
       "      <td>Green Book</td>\n",
       "      <td>Creed II</td>\n",
       "    </tr>\n",
       "    <tr>\n",
       "      <th>825</th>\n",
       "      <td>Battle: Los Angeles</td>\n",
       "      <td>Battle Los Angeles</td>\n",
       "    </tr>\n",
       "    <tr>\n",
       "      <th>859</th>\n",
       "      <td>Birds of Prey (and the Fantabulous Emancipatio...</td>\n",
       "      <td>Birds of Prey</td>\n",
       "    </tr>\n",
       "    <tr>\n",
       "      <th>864</th>\n",
       "      <td>Fun With Dick and Jane</td>\n",
       "      <td>Fun with Dick and Jane</td>\n",
       "    </tr>\n",
       "    <tr>\n",
       "      <th>868</th>\n",
       "      <td>You Don't Mess With the Zohan</td>\n",
       "      <td>You Don't Mess with the Zohan</td>\n",
       "    </tr>\n",
       "    <tr>\n",
       "      <th>872</th>\n",
       "      <td>The Intern</td>\n",
       "      <td>Everest</td>\n",
       "    </tr>\n",
       "    <tr>\n",
       "      <th>888</th>\n",
       "      <td>The LEGO Movie 2: The Second Part</td>\n",
       "      <td>The Lego Movie 2: The Second Part</td>\n",
       "    </tr>\n",
       "    <tr>\n",
       "      <th>947</th>\n",
       "      <td>I Now Pronounce You Chuck and Larry</td>\n",
       "      <td>I Now Pronounce You Chuck &amp; Larry</td>\n",
       "    </tr>\n",
       "    <tr>\n",
       "      <th>948</th>\n",
       "      <td>Hairspray</td>\n",
       "      <td>I Now Pronounce You Chuck &amp; Larry</td>\n",
       "    </tr>\n",
       "    <tr>\n",
       "      <th>1011</th>\n",
       "      <td>Jackass 3</td>\n",
       "      <td>Jackass 3D</td>\n",
       "    </tr>\n",
       "    <tr>\n",
       "      <th>1013</th>\n",
       "      <td>Lee Daniels' The Butler</td>\n",
       "      <td>The Butler</td>\n",
       "    </tr>\n",
       "    <tr>\n",
       "      <th>1065</th>\n",
       "      <td>Sleeping With the Enemy</td>\n",
       "      <td>Sleeping with the Enemy</td>\n",
       "    </tr>\n",
       "    <tr>\n",
       "      <th>1071</th>\n",
       "      <td>Dr. Seuss' The Cat in the Hat</td>\n",
       "      <td>The Cat in the Hat</td>\n",
       "    </tr>\n",
       "    <tr>\n",
       "      <th>1131</th>\n",
       "      <td>Tyler Perry's Madea Goes to Jail</td>\n",
       "      <td>Madea Goes to Jail</td>\n",
       "    </tr>\n",
       "    <tr>\n",
       "      <th>1164</th>\n",
       "      <td>Saban's Power Rangers</td>\n",
       "      <td>Power Rangers</td>\n",
       "    </tr>\n",
       "    <tr>\n",
       "      <th>1176</th>\n",
       "      <td>Cowboys &amp; Aliens</td>\n",
       "      <td>Crazy, Stupid, Love.</td>\n",
       "    </tr>\n",
       "  </tbody>\n",
       "</table>\n",
       "</div>"
      ],
      "text/plain": [
       "                                                  title  \\\n",
       "19                             Star Wars: The Last Jedi   \n",
       "30                            Spider-Man: Far From Home   \n",
       "79        Star Wars: Episode III -- Revenge of the Sith   \n",
       "86              The Twilight Saga: Breaking Dawn Part 2   \n",
       "129             The Twilight Saga: Breaking Dawn Part 1   \n",
       "170                                Ant-Man and The Wasp   \n",
       "205                               Mission: Impossible 2   \n",
       "256                   Ant-Man and The Wasp: Quantumania   \n",
       "262                                     It: Chapter Two   \n",
       "285                           Pokémon Detective Pikachu   \n",
       "333                                                  X2   \n",
       "375                                            Valkyrie   \n",
       "398                           Die Hard With a Vengeance   \n",
       "439                                Dr. Seuss' the Lorax   \n",
       "487                                            Due Date   \n",
       "528                                    Assassin's Creed   \n",
       "545                                           Ocean's 8   \n",
       "554                                        Dr. Dolittle   \n",
       "561                                Pacific Rim Uprising   \n",
       "582                                                 XXX   \n",
       "591                 Cloudy With a Chance of Meatballs 2   \n",
       "603                                         10,000 B.C.   \n",
       "608                        Michael Jackson's This Is It   \n",
       "622   Borat: Cultural Learnings of America for Make ...   \n",
       "808                                          Green Book   \n",
       "825                                 Battle: Los Angeles   \n",
       "859   Birds of Prey (and the Fantabulous Emancipatio...   \n",
       "864                              Fun With Dick and Jane   \n",
       "868                       You Don't Mess With the Zohan   \n",
       "872                                          The Intern   \n",
       "888                   The LEGO Movie 2: The Second Part   \n",
       "947                 I Now Pronounce You Chuck and Larry   \n",
       "948                                           Hairspray   \n",
       "1011                                          Jackass 3   \n",
       "1013                            Lee Daniels' The Butler   \n",
       "1065                            Sleeping With the Enemy   \n",
       "1071                      Dr. Seuss' The Cat in the Hat   \n",
       "1131                   Tyler Perry's Madea Goes to Jail   \n",
       "1164                              Saban's Power Rangers   \n",
       "1176                                   Cowboys & Aliens   \n",
       "\n",
       "                                        mojo_title  \n",
       "19         Star Wars: Episode VIII - The Last Jedi  \n",
       "30                       Spider-Man: Far from Home  \n",
       "79    Star Wars: Episode III - Revenge of the Sith  \n",
       "86       The Twilight Saga: Breaking Dawn - Part 2  \n",
       "129      The Twilight Saga: Breaking Dawn - Part 1  \n",
       "170                           Ant-Man and the Wasp  \n",
       "205                         Mission: Impossible II  \n",
       "256              Ant-Man and the Wasp: Quantumania  \n",
       "262                                 It Chapter Two  \n",
       "285                     Pokémon: Detective Pikachu  \n",
       "333                                        X-Men 2  \n",
       "375                            Slumdog Millionaire  \n",
       "398                      Die Hard with a Vengeance  \n",
       "439                                      The Lorax  \n",
       "487                                       Megamind  \n",
       "528                                     Passengers  \n",
       "545                                  Ocean's Eight  \n",
       "554                                Doctor Dolittle  \n",
       "561                          Pacific Rim: Uprising  \n",
       "582                                            xXx  \n",
       "591            Cloudy with a Chance of Meatballs 2  \n",
       "603                                      10,000 BC  \n",
       "608                                     This Is It  \n",
       "622                                          Borat  \n",
       "808                                       Creed II  \n",
       "825                             Battle Los Angeles  \n",
       "859                                  Birds of Prey  \n",
       "864                         Fun with Dick and Jane  \n",
       "868                  You Don't Mess with the Zohan  \n",
       "872                                        Everest  \n",
       "888              The Lego Movie 2: The Second Part  \n",
       "947              I Now Pronounce You Chuck & Larry  \n",
       "948              I Now Pronounce You Chuck & Larry  \n",
       "1011                                    Jackass 3D  \n",
       "1013                                    The Butler  \n",
       "1065                       Sleeping with the Enemy  \n",
       "1071                            The Cat in the Hat  \n",
       "1131                            Madea Goes to Jail  \n",
       "1164                                 Power Rangers  \n",
       "1176                          Crazy, Stupid, Love.  "
      ]
     },
     "execution_count": 744,
     "metadata": {},
     "output_type": "execute_result"
    }
   ],
   "source": [
    "# find out which films were not actually merged correctly by visually comparing titles\n",
    "finale[finale.title != finale.mojo_title][['title', 'mojo_title']].dropna()"
   ]
  },
  {
   "cell_type": "code",
   "execution_count": 745,
   "id": "3635318e",
   "metadata": {},
   "outputs": [
    {
     "data": {
      "text/html": [
       "<div>\n",
       "<style scoped>\n",
       "    .dataframe tbody tr th:only-of-type {\n",
       "        vertical-align: middle;\n",
       "    }\n",
       "\n",
       "    .dataframe tbody tr th {\n",
       "        vertical-align: top;\n",
       "    }\n",
       "\n",
       "    .dataframe thead th {\n",
       "        text-align: right;\n",
       "    }\n",
       "</style>\n",
       "<table border=\"1\" class=\"dataframe\">\n",
       "  <thead>\n",
       "    <tr style=\"text-align: right;\">\n",
       "      <th></th>\n",
       "      <th>title</th>\n",
       "      <th>mojo_title</th>\n",
       "    </tr>\n",
       "  </thead>\n",
       "  <tbody>\n",
       "    <tr>\n",
       "      <th>375</th>\n",
       "      <td>Valkyrie</td>\n",
       "      <td>Slumdog Millionaire</td>\n",
       "    </tr>\n",
       "    <tr>\n",
       "      <th>487</th>\n",
       "      <td>Due Date</td>\n",
       "      <td>Megamind</td>\n",
       "    </tr>\n",
       "    <tr>\n",
       "      <th>528</th>\n",
       "      <td>Assassin's Creed</td>\n",
       "      <td>Passengers</td>\n",
       "    </tr>\n",
       "    <tr>\n",
       "      <th>808</th>\n",
       "      <td>Green Book</td>\n",
       "      <td>Creed II</td>\n",
       "    </tr>\n",
       "    <tr>\n",
       "      <th>872</th>\n",
       "      <td>The Intern</td>\n",
       "      <td>Everest</td>\n",
       "    </tr>\n",
       "    <tr>\n",
       "      <th>948</th>\n",
       "      <td>Hairspray</td>\n",
       "      <td>I Now Pronounce You Chuck &amp; Larry</td>\n",
       "    </tr>\n",
       "    <tr>\n",
       "      <th>1176</th>\n",
       "      <td>Cowboys &amp; Aliens</td>\n",
       "      <td>Crazy, Stupid, Love.</td>\n",
       "    </tr>\n",
       "  </tbody>\n",
       "</table>\n",
       "</div>"
      ],
      "text/plain": [
       "                 title                         mojo_title\n",
       "375           Valkyrie                Slumdog Millionaire\n",
       "487           Due Date                           Megamind\n",
       "528   Assassin's Creed                         Passengers\n",
       "808         Green Book                           Creed II\n",
       "872         The Intern                            Everest\n",
       "948          Hairspray  I Now Pronounce You Chuck & Larry\n",
       "1176  Cowboys & Aliens               Crazy, Stupid, Love."
      ]
     },
     "execution_count": 745,
     "metadata": {},
     "output_type": "execute_result"
    }
   ],
   "source": [
    "# list the incorrectly merged films with their respective index numbers\n",
    "finale.iloc[[375, 487, 528, 808, 872, 948, 1176], :][['title', 'mojo_title']]"
   ]
  },
  {
   "cell_type": "code",
   "execution_count": 746,
   "id": "739ba5c5",
   "metadata": {},
   "outputs": [],
   "source": [
    "# drop the incorrect rows\n",
    "# finale.drop([375, 487, 528, 808, 872, 948, 1176], inplace=True)"
   ]
  },
  {
   "cell_type": "code",
   "execution_count": 748,
   "id": "d63eb6bb",
   "metadata": {},
   "outputs": [],
   "source": [
    "# adjust title names to differeniate between the RT data and the IMDB data\n",
    "finale.columns = ['id_rt', 'title_rt', 'audience_score_rt', 'rating_rt', 'mpaa_rating',\n",
    "       'mpaa_contents', 'air_date', 'release_date_streaming', 'runtime',\n",
    "       'genre_rt', 'language_rt', 'director_rt', 'writer', 'box_office',\n",
    "       'distributor', 'sound_mix', 'title_imdb', 'world_gross',\n",
    "       'domestic_gross', 'domestic_pct', 'foreign_gross', 'foreign_pct',\n",
    "       'year', 'id_imdb', 'genre_imdb', 'country', 'language_imdb', 'rating_imdb',\n",
    "       'votes', 'kind', 'budget', 'opening_weekend', 'worldwide_gross', 'cast',\n",
    "       'director_imdb', 'production_company']"
   ]
  },
  {
   "cell_type": "code",
   "execution_count": 749,
   "id": "c8197232",
   "metadata": {},
   "outputs": [],
   "source": [
    "# get rid of unwanted characters from the mpaa_contents column\n",
    "finale['mpaa_contents'] = finale['mpaa_contents'].str.replace('[\\[\\]\\']', '', regex=True)"
   ]
  },
  {
   "cell_type": "code",
   "execution_count": 750,
   "id": "51724016",
   "metadata": {},
   "outputs": [],
   "source": [
    "# set the global gross to whatever the maximum value of the other box office earnings is\n",
    "# (some films only seem to contain domestic data)\n",
    "finale['global_gross'] = np.nanmax(finale[['world_gross', 'worldwide_gross', \n",
    "                                           'domestic_gross', 'foreign_gross']].values, axis=1)"
   ]
  },
  {
   "cell_type": "code",
   "execution_count": 751,
   "id": "b6f64b49",
   "metadata": {},
   "outputs": [
    {
     "data": {
      "text/html": [
       "<div>\n",
       "<style scoped>\n",
       "    .dataframe tbody tr th:only-of-type {\n",
       "        vertical-align: middle;\n",
       "    }\n",
       "\n",
       "    .dataframe tbody tr th {\n",
       "        vertical-align: top;\n",
       "    }\n",
       "\n",
       "    .dataframe thead th {\n",
       "        text-align: right;\n",
       "    }\n",
       "</style>\n",
       "<table border=\"1\" class=\"dataframe\">\n",
       "  <thead>\n",
       "    <tr style=\"text-align: right;\">\n",
       "      <th></th>\n",
       "      <th>world_gross</th>\n",
       "      <th>worldwide_gross</th>\n",
       "      <th>global_gross</th>\n",
       "    </tr>\n",
       "  </thead>\n",
       "  <tbody>\n",
       "    <tr>\n",
       "      <th>0</th>\n",
       "      <td>2.923706e+09</td>\n",
       "      <td>2.787965e+09</td>\n",
       "      <td>2.923706e+09</td>\n",
       "    </tr>\n",
       "    <tr>\n",
       "      <th>1</th>\n",
       "      <td>2.799439e+09</td>\n",
       "      <td>2.797801e+09</td>\n",
       "      <td>2.799439e+09</td>\n",
       "    </tr>\n",
       "    <tr>\n",
       "      <th>2</th>\n",
       "      <td>2.320250e+09</td>\n",
       "      <td>2.248370e+09</td>\n",
       "      <td>2.320250e+09</td>\n",
       "    </tr>\n",
       "    <tr>\n",
       "      <th>3</th>\n",
       "      <td>2.264751e+09</td>\n",
       "      <td>2.186772e+09</td>\n",
       "      <td>2.264751e+09</td>\n",
       "    </tr>\n",
       "    <tr>\n",
       "      <th>4</th>\n",
       "      <td>2.071310e+09</td>\n",
       "      <td>2.068224e+09</td>\n",
       "      <td>2.071310e+09</td>\n",
       "    </tr>\n",
       "    <tr>\n",
       "      <th>...</th>\n",
       "      <td>...</td>\n",
       "      <td>...</td>\n",
       "      <td>...</td>\n",
       "    </tr>\n",
       "    <tr>\n",
       "      <th>1180</th>\n",
       "      <td>NaN</td>\n",
       "      <td>2.036306e+08</td>\n",
       "      <td>2.036306e+08</td>\n",
       "    </tr>\n",
       "    <tr>\n",
       "      <th>1181</th>\n",
       "      <td>NaN</td>\n",
       "      <td>2.619304e+08</td>\n",
       "      <td>2.619304e+08</td>\n",
       "    </tr>\n",
       "    <tr>\n",
       "      <th>1182</th>\n",
       "      <td>NaN</td>\n",
       "      <td>2.291633e+08</td>\n",
       "      <td>2.291633e+08</td>\n",
       "    </tr>\n",
       "    <tr>\n",
       "      <th>1183</th>\n",
       "      <td>NaN</td>\n",
       "      <td>1.614484e+08</td>\n",
       "      <td>1.614484e+08</td>\n",
       "    </tr>\n",
       "    <tr>\n",
       "      <th>1184</th>\n",
       "      <td>NaN</td>\n",
       "      <td>1.636447e+08</td>\n",
       "      <td>1.636447e+08</td>\n",
       "    </tr>\n",
       "  </tbody>\n",
       "</table>\n",
       "<p>1178 rows × 3 columns</p>\n",
       "</div>"
      ],
      "text/plain": [
       "       world_gross  worldwide_gross  global_gross\n",
       "0     2.923706e+09     2.787965e+09  2.923706e+09\n",
       "1     2.799439e+09     2.797801e+09  2.799439e+09\n",
       "2     2.320250e+09     2.248370e+09  2.320250e+09\n",
       "3     2.264751e+09     2.186772e+09  2.264751e+09\n",
       "4     2.071310e+09     2.068224e+09  2.071310e+09\n",
       "...            ...              ...           ...\n",
       "1180           NaN     2.036306e+08  2.036306e+08\n",
       "1181           NaN     2.619304e+08  2.619304e+08\n",
       "1182           NaN     2.291633e+08  2.291633e+08\n",
       "1183           NaN     1.614484e+08  1.614484e+08\n",
       "1184           NaN     1.636447e+08  1.636447e+08\n",
       "\n",
       "[1178 rows x 3 columns]"
      ]
     },
     "execution_count": 751,
     "metadata": {},
     "output_type": "execute_result"
    }
   ],
   "source": [
    "# ensure that global gross was input correctly\n",
    "finale[['world_gross', 'worldwide_gross', 'global_gross']]"
   ]
  },
  {
   "cell_type": "code",
   "execution_count": 752,
   "id": "5a08acf9",
   "metadata": {},
   "outputs": [],
   "source": [
    "# drop the redundant worldwide earnings columns\n",
    "finale.drop(columns=['world_gross', 'worldwide_gross'], inplace=True)"
   ]
  },
  {
   "cell_type": "code",
   "execution_count": 753,
   "id": "10217a0d",
   "metadata": {},
   "outputs": [
    {
     "data": {
      "text/html": [
       "<div>\n",
       "<style scoped>\n",
       "    .dataframe tbody tr th:only-of-type {\n",
       "        vertical-align: middle;\n",
       "    }\n",
       "\n",
       "    .dataframe tbody tr th {\n",
       "        vertical-align: top;\n",
       "    }\n",
       "\n",
       "    .dataframe thead th {\n",
       "        text-align: right;\n",
       "    }\n",
       "</style>\n",
       "<table border=\"1\" class=\"dataframe\">\n",
       "  <thead>\n",
       "    <tr style=\"text-align: right;\">\n",
       "      <th></th>\n",
       "      <th>id_rt</th>\n",
       "      <th>title_rt</th>\n",
       "      <th>audience_score_rt</th>\n",
       "      <th>rating_rt</th>\n",
       "      <th>mpaa_rating</th>\n",
       "      <th>mpaa_contents</th>\n",
       "      <th>air_date</th>\n",
       "      <th>release_date_streaming</th>\n",
       "      <th>runtime</th>\n",
       "      <th>genre_rt</th>\n",
       "      <th>...</th>\n",
       "      <th>language_imdb</th>\n",
       "      <th>rating_imdb</th>\n",
       "      <th>votes</th>\n",
       "      <th>kind</th>\n",
       "      <th>budget</th>\n",
       "      <th>opening_weekend</th>\n",
       "      <th>cast</th>\n",
       "      <th>director_imdb</th>\n",
       "      <th>production_company</th>\n",
       "      <th>global_gross</th>\n",
       "    </tr>\n",
       "  </thead>\n",
       "  <tbody>\n",
       "    <tr>\n",
       "      <th>0</th>\n",
       "      <td>NaN</td>\n",
       "      <td>NaN</td>\n",
       "      <td>NaN</td>\n",
       "      <td>NaN</td>\n",
       "      <td>NaN</td>\n",
       "      <td>NaN</td>\n",
       "      <td>2009-12-18</td>\n",
       "      <td>NaT</td>\n",
       "      <td>162.0</td>\n",
       "      <td>NaN</td>\n",
       "      <td>...</td>\n",
       "      <td>English, Spanish</td>\n",
       "      <td>7.9</td>\n",
       "      <td>1387972.0</td>\n",
       "      <td>movie</td>\n",
       "      <td>237000000.0</td>\n",
       "      <td>77025481.0</td>\n",
       "      <td>Sam Worthington, Zoe Saldana, Sigourney Weaver</td>\n",
       "      <td>James Cameron</td>\n",
       "      <td>Twentieth Century Fox, Dune Entertainment, Lig...</td>\n",
       "      <td>2.923706e+09</td>\n",
       "    </tr>\n",
       "    <tr>\n",
       "      <th>1</th>\n",
       "      <td>avengers_endgame</td>\n",
       "      <td>Avengers: Endgame</td>\n",
       "      <td>90.0</td>\n",
       "      <td>94.0</td>\n",
       "      <td>PG-13</td>\n",
       "      <td>Sequences of Sci-Fi Violence, Action, Some Lan...</td>\n",
       "      <td>2019-04-26</td>\n",
       "      <td>2019-07-30</td>\n",
       "      <td>181.0</td>\n",
       "      <td>Action, Adventure, Fantasy, Sci-fi</td>\n",
       "      <td>...</td>\n",
       "      <td>English, Japanese, Xhosa, German</td>\n",
       "      <td>8.4</td>\n",
       "      <td>1268310.0</td>\n",
       "      <td>movie</td>\n",
       "      <td>356000000.0</td>\n",
       "      <td>357115007.0</td>\n",
       "      <td>Robert Downey Jr., Chris Evans, Mark Ruffalo</td>\n",
       "      <td>Anthony Russo, Joe Russo</td>\n",
       "      <td>Marvel Studios, Walt Disney Pictures</td>\n",
       "      <td>2.799439e+09</td>\n",
       "    </tr>\n",
       "    <tr>\n",
       "      <th>2</th>\n",
       "      <td>avatar_the_way_of_water</td>\n",
       "      <td>Avatar: The Way of Water</td>\n",
       "      <td>92.0</td>\n",
       "      <td>76.0</td>\n",
       "      <td>PG-13</td>\n",
       "      <td>Partial Nudity, Intense Action, Sequences of S...</td>\n",
       "      <td>2022-12-16</td>\n",
       "      <td>2023-03-28</td>\n",
       "      <td>192.0</td>\n",
       "      <td>Sci-fi, Adventure, Action, Fantasy</td>\n",
       "      <td>...</td>\n",
       "      <td>English</td>\n",
       "      <td>7.5</td>\n",
       "      <td>495694.0</td>\n",
       "      <td>movie</td>\n",
       "      <td>350000000.0</td>\n",
       "      <td>NaN</td>\n",
       "      <td>Sam Worthington, Zoe Saldana, Sigourney Weaver</td>\n",
       "      <td>James Cameron</td>\n",
       "      <td>20th Century Studios, TSG Entertainment, Light...</td>\n",
       "      <td>2.320250e+09</td>\n",
       "    </tr>\n",
       "    <tr>\n",
       "      <th>3</th>\n",
       "      <td>NaN</td>\n",
       "      <td>NaN</td>\n",
       "      <td>NaN</td>\n",
       "      <td>NaN</td>\n",
       "      <td>NaN</td>\n",
       "      <td>NaN</td>\n",
       "      <td>1997-12-19</td>\n",
       "      <td>NaT</td>\n",
       "      <td>194.0</td>\n",
       "      <td>NaN</td>\n",
       "      <td>...</td>\n",
       "      <td>English, Swedish, Italian, French</td>\n",
       "      <td>7.9</td>\n",
       "      <td>1282461.0</td>\n",
       "      <td>movie</td>\n",
       "      <td>200000000.0</td>\n",
       "      <td>28638131.0</td>\n",
       "      <td>Leonardo DiCaprio, Kate Winslet, Billy Zane</td>\n",
       "      <td>James Cameron</td>\n",
       "      <td>Twentieth Century Fox, Paramount Pictures, Lig...</td>\n",
       "      <td>2.264751e+09</td>\n",
       "    </tr>\n",
       "    <tr>\n",
       "      <th>4</th>\n",
       "      <td>NaN</td>\n",
       "      <td>NaN</td>\n",
       "      <td>NaN</td>\n",
       "      <td>NaN</td>\n",
       "      <td>NaN</td>\n",
       "      <td>NaN</td>\n",
       "      <td>2015-12-18</td>\n",
       "      <td>NaT</td>\n",
       "      <td>138.0</td>\n",
       "      <td>NaN</td>\n",
       "      <td>...</td>\n",
       "      <td>English</td>\n",
       "      <td>7.8</td>\n",
       "      <td>974702.0</td>\n",
       "      <td>movie</td>\n",
       "      <td>245000000.0</td>\n",
       "      <td>247966675.0</td>\n",
       "      <td>Harrison Ford, Mark Hamill, Carrie Fisher</td>\n",
       "      <td>J.J. Abrams</td>\n",
       "      <td>Lucasfilm, Bad Robot</td>\n",
       "      <td>2.071310e+09</td>\n",
       "    </tr>\n",
       "  </tbody>\n",
       "</table>\n",
       "<p>5 rows × 35 columns</p>\n",
       "</div>"
      ],
      "text/plain": [
       "                     id_rt                  title_rt  audience_score_rt  \\\n",
       "0                      NaN                       NaN                NaN   \n",
       "1         avengers_endgame         Avengers: Endgame               90.0   \n",
       "2  avatar_the_way_of_water  Avatar: The Way of Water               92.0   \n",
       "3                      NaN                       NaN                NaN   \n",
       "4                      NaN                       NaN                NaN   \n",
       "\n",
       "   rating_rt mpaa_rating                                      mpaa_contents  \\\n",
       "0        NaN         NaN                                                NaN   \n",
       "1       94.0       PG-13  Sequences of Sci-Fi Violence, Action, Some Lan...   \n",
       "2       76.0       PG-13  Partial Nudity, Intense Action, Sequences of S...   \n",
       "3        NaN         NaN                                                NaN   \n",
       "4        NaN         NaN                                                NaN   \n",
       "\n",
       "    air_date release_date_streaming  runtime  \\\n",
       "0 2009-12-18                    NaT    162.0   \n",
       "1 2019-04-26             2019-07-30    181.0   \n",
       "2 2022-12-16             2023-03-28    192.0   \n",
       "3 1997-12-19                    NaT    194.0   \n",
       "4 2015-12-18                    NaT    138.0   \n",
       "\n",
       "                             genre_rt  ...                      language_imdb  \\\n",
       "0                                 NaN  ...                   English, Spanish   \n",
       "1  Action, Adventure, Fantasy, Sci-fi  ...   English, Japanese, Xhosa, German   \n",
       "2  Sci-fi, Adventure, Action, Fantasy  ...                            English   \n",
       "3                                 NaN  ...  English, Swedish, Italian, French   \n",
       "4                                 NaN  ...                            English   \n",
       "\n",
       "  rating_imdb      votes   kind       budget opening_weekend  \\\n",
       "0         7.9  1387972.0  movie  237000000.0      77025481.0   \n",
       "1         8.4  1268310.0  movie  356000000.0     357115007.0   \n",
       "2         7.5   495694.0  movie  350000000.0             NaN   \n",
       "3         7.9  1282461.0  movie  200000000.0      28638131.0   \n",
       "4         7.8   974702.0  movie  245000000.0     247966675.0   \n",
       "\n",
       "                                             cast             director_imdb  \\\n",
       "0  Sam Worthington, Zoe Saldana, Sigourney Weaver             James Cameron   \n",
       "1    Robert Downey Jr., Chris Evans, Mark Ruffalo  Anthony Russo, Joe Russo   \n",
       "2  Sam Worthington, Zoe Saldana, Sigourney Weaver             James Cameron   \n",
       "3     Leonardo DiCaprio, Kate Winslet, Billy Zane             James Cameron   \n",
       "4       Harrison Ford, Mark Hamill, Carrie Fisher               J.J. Abrams   \n",
       "\n",
       "                                  production_company  global_gross  \n",
       "0  Twentieth Century Fox, Dune Entertainment, Lig...  2.923706e+09  \n",
       "1               Marvel Studios, Walt Disney Pictures  2.799439e+09  \n",
       "2  20th Century Studios, TSG Entertainment, Light...  2.320250e+09  \n",
       "3  Twentieth Century Fox, Paramount Pictures, Lig...  2.264751e+09  \n",
       "4                               Lucasfilm, Bad Robot  2.071310e+09  \n",
       "\n",
       "[5 rows x 35 columns]"
      ]
     },
     "execution_count": 753,
     "metadata": {},
     "output_type": "execute_result"
    }
   ],
   "source": [
    "# demonstrate the final dataframe\n",
    "finale.head()"
   ]
  },
  {
   "cell_type": "code",
   "execution_count": 754,
   "id": "720832e8",
   "metadata": {},
   "outputs": [
    {
     "data": {
      "text/plain": [
       "(1178, 35)"
      ]
     },
     "execution_count": 754,
     "metadata": {},
     "output_type": "execute_result"
    }
   ],
   "source": [
    "# get the shape of the final dataframe\n",
    "finale.shape"
   ]
  },
  {
   "cell_type": "markdown",
   "id": "e77c440b",
   "metadata": {},
   "source": [
    "There was little difficulty in merging the API dataset with the website dataset, as both were extracted from IMDB. There were a few dozen films that were not properly merged, most likely due to minor issues with search results from the Cinemagoer API. On the other hand, it was much more difficult to find a simple way to merge the IMDB data with the Rotten Tomatoes data. Both of these sites use different conventions for film titles, genres, personnel, ratings, etc. After some thought, it was determined that the simplest way of collecting the maximum amount of films without visually inspecting titles was to use the air date and runtime as the basis for the merge. Unfortunately, only about half (~600 / ~1200) of the films from the IMDB merged dataset were properly merged with Rotten Tomatoes films using this method. The mismatched titles a few lines of code above demonstrate the difficulties with the two naming conventions. "
   ]
  },
  {
   "cell_type": "markdown",
   "id": "7822812e",
   "metadata": {},
   "source": [
    "### Step 2: Storing the Data in a Database"
   ]
  },
  {
   "cell_type": "code",
   "execution_count": 545,
   "id": "4e11f53c",
   "metadata": {},
   "outputs": [],
   "source": [
    "# create a sqlite database and open a connection\n",
    "db = 'film_db'\n",
    "conn = sqlite3.connect(db)\n",
    "c = conn.cursor()"
   ]
  },
  {
   "cell_type": "code",
   "execution_count": 531,
   "id": "e3d77064",
   "metadata": {},
   "outputs": [],
   "source": [
    "# put the dataframes and their respective names in a list\n",
    "dfs = [rt, mojo, cgdat, finale]\n",
    "names = ['rt', 'mojo', 'cgdat', 'finale']"
   ]
  },
  {
   "cell_type": "code",
   "execution_count": 532,
   "id": "111a356b",
   "metadata": {},
   "outputs": [],
   "source": [
    "# place each of these dataframes into the database as a SQL table\n",
    "for name, df in zip(names, dfs):\n",
    "    df.to_sql(name, conn, if_exists='replace', index=False)"
   ]
  },
  {
   "cell_type": "code",
   "execution_count": 546,
   "id": "8f541448",
   "metadata": {},
   "outputs": [
    {
     "name": "stdout",
     "output_type": "stream",
     "text": [
      "('paul_blart_mall_cop', 'Paul Blart: Mall Cop', 43.0, 34.0, 'PG', \"['Mild Crude Humor', 'Language', 'Some Violence']\", '2009-01-16 00:00:00', '2009-05-19 00:00:00', 91.0, 'Comedy', 'English', 'Steve Carr', 'Kevin James,Nick Bakay', 146300000.0, 'Sony Pictures Entertainment', None)\n",
      "**************************************************\n",
      "('Avatar', 2923706026.0, 785221649.0, 26.9, 2138484377.0, 73.1, 2009)\n",
      "**************************************************\n",
      "(499549, 'Avatar', 'Action, Adventure, Fantasy, Sci-Fi', 162.0, 'United States', 'English, Spanish', '2009-12-18 00:00:00', 7.9, 1387972.0, 2009, 'movie', 237000000.0, 77025481.0, 2787965087.0, 'Sam Worthington, Zoe Saldana, Sigourney Weaver', 'James Cameron', 'Twentieth Century Fox, Dune Entertainment, Lightstorm Entertainment', 'Avatar')\n",
      "**************************************************\n",
      "(None, None, None, None, None, None, '2009-12-18 00:00:00', None, 162.0, None, None, None, None, None, None, None, 'Avatar', 785221649.0, 26.9, 2138484377.0, 73.1, 2009, 499549.0, 'Action, Adventure, Fantasy, Sci-Fi', 'United States', 'English, Spanish', 7.9, 1387972.0, 'movie', 237000000.0, 77025481.0, 'Sam Worthington, Zoe Saldana, Sigourney Weaver', 'James Cameron', 'Twentieth Century Fox, Dune Entertainment, Lightstorm Entertainment', 2923706026.0)\n",
      "**************************************************\n"
     ]
    }
   ],
   "source": [
    "# test that each table was input correctly into the database\n",
    "for name in names:\n",
    "    for val in c.execute(f'SELECT * FROM {name} LIMIT 1'):\n",
    "        print(val)\n",
    "        print('*'*50)"
   ]
  },
  {
   "cell_type": "code",
   "execution_count": 811,
   "id": "93b14677",
   "metadata": {},
   "outputs": [],
   "source": [
    "# close the connection\n",
    "conn.close()"
   ]
  },
  {
   "cell_type": "markdown",
   "id": "7f1a2fb3",
   "metadata": {},
   "source": [
    "By opening up a connection to a sqlite database, we were able to impute and store each of the four dataframes. "
   ]
  },
  {
   "cell_type": "markdown",
   "id": "06c63a2d",
   "metadata": {},
   "source": [
    "### Step 3: IMDB vs. Rotten Tomatoes Ratings"
   ]
  },
  {
   "cell_type": "code",
   "execution_count": 756,
   "id": "92d9f716",
   "metadata": {
    "scrolled": true
   },
   "outputs": [],
   "source": [
    "# gather the two primary ratings from each site\n",
    "ratings = finale[['rating_rt', 'rating_imdb']].dropna()"
   ]
  },
  {
   "cell_type": "code",
   "execution_count": 757,
   "id": "17a0b61b",
   "metadata": {},
   "outputs": [],
   "source": [
    "# set the ratings to the same 1-10 scale\n",
    "ratings.rating_rt = ratings.rating_rt / 10"
   ]
  },
  {
   "cell_type": "code",
   "execution_count": 758,
   "id": "b21f14fa",
   "metadata": {},
   "outputs": [],
   "source": [
    "# this function takes in a data frame and two of its columns and \n",
    "# prints a scatterplot with its line of best fit\n",
    "def scatter_plot(df, x, y):\n",
    "    # create the scatter plot\n",
    "    plt.scatter(x = df[x], y = df[y], c = 'purple', linewidths=0.1)\n",
    "    plt.xlabel(x)\n",
    "    plt.ylabel(y)\n",
    "    plt.title(f'{x} vs. {y}')\n",
    "    # find the slop and intercept of the line of best fit\n",
    "    m, b = np.polyfit(df[x], df[y], 1)\n",
    "    # plot the regression line\n",
    "    plt.plot(df[x], m*df[x] + b, color='red')\n",
    "    # place an equation of the best fit line in the upper left corner\n",
    "    plt.text(0.01, 0.95, f'Best fit: y = {m:.2f}x + {b:.2f}', transform=plt.gca().transAxes, size=10)\n",
    "    plt.show()"
   ]
  },
  {
   "cell_type": "code",
   "execution_count": 759,
   "id": "53dfb961",
   "metadata": {},
   "outputs": [
    {
     "data": {
      "image/png": "[encoded data removed]",
      "text/plain": [
       "<Figure size 640x480 with 1 Axes>"
      ]
     },
     "metadata": {},
     "output_type": "display_data"
    }
   ],
   "source": [
    "scatter_plot(ratings, 'rating_rt', 'rating_imdb')"
   ]
  },
  {
   "cell_type": "markdown",
   "id": "d478ab7b",
   "metadata": {},
   "source": [
    "As expected, IMDB rating has a strong positive relationship with RT rating. However, the typical range of IMDB ratings lies in the 5-8 point range, with no movie rated lower than 3 and no movie higher than 9. On the other hand, RT ratings vary widely all the way from 0 to 10 (0% to 100% on the RT site). This is most likely due to the fact that RT Tomatometer scores are simply a ratio of the amount of 'positive' reviews to the amount of total reviews, as opposed to a specific scale (like IMDB). "
   ]
  },
  {
   "cell_type": "markdown",
   "id": "2a4baea5",
   "metadata": {},
   "source": [
    "### Step 4: Ratings vs. Global Gross"
   ]
  },
  {
   "cell_type": "code",
   "execution_count": 760,
   "id": "9fe6d7aa",
   "metadata": {},
   "outputs": [],
   "source": [
    "# select all of the columns for ratings, as well as the total earnings column\n",
    "rvg = finale[['rating_rt', 'audience_score_rt', 'rating_imdb', 'global_gross']].dropna()"
   ]
  },
  {
   "cell_type": "code",
   "execution_count": 761,
   "id": "2c25b791",
   "metadata": {},
   "outputs": [],
   "source": [
    "# normalize the imdb ratings so that all are on the same scale\n",
    "rvg.rating_imdb = rvg.rating_imdb * 10"
   ]
  },
  {
   "cell_type": "code",
   "execution_count": 762,
   "id": "25384ca5",
   "metadata": {},
   "outputs": [],
   "source": [
    "# take the log of earnings\n",
    "# (this helps the plot gain more visibility)\n",
    "rvg['log_gross'] = np.log10(rvg.global_gross)"
   ]
  },
  {
   "cell_type": "code",
   "execution_count": 763,
   "id": "312787ef",
   "metadata": {},
   "outputs": [
    {
     "data": {
      "image/png": "[encoded data removed]",
      "text/plain": [
       "<Figure size 640x480 with 1 Axes>"
      ]
     },
     "metadata": {},
     "output_type": "display_data"
    }
   ],
   "source": [
    "# iterate over the different ratings, plotting each one as a scatterplot\n",
    "for col in rvg.columns[:3]:\n",
    "    plt.scatter(rvg[col], rvg['log_gross'], label=col, linewidths=0.1)\n",
    "plt.title('Ratings vs. Log of Global Earnings')\n",
    "plt.xlabel('Rating')\n",
    "plt.ylabel('Log of Global Earnings ($)')\n",
    "plt.legend(title='Ratings', bbox_to_anchor=(1, 0.5))\n",
    "plt.show()"
   ]
  },
  {
   "cell_type": "markdown",
   "id": "1a2b92fa",
   "metadata": {},
   "source": [
    "Here we looked at the earnings for each of the films based on their ratings on IMDB and RT. In order to more clearly see the differences between the ratings, we took the log10 of earnings as opposed to just the earnings. Judging by the graph, we can see that there seems to be little correlation between the ratings of a movie and how much it earns. Despite this, the films that earned the most in this dataset (above \\\\$1-2billion) all tend to have higher reviews than the typical film. "
   ]
  },
  {
   "cell_type": "markdown",
   "id": "8549a3f5",
   "metadata": {},
   "source": [
    "### Step 5: Gross Earnings Over Time"
   ]
  },
  {
   "cell_type": "code",
   "execution_count": 764,
   "id": "d061c4b1",
   "metadata": {},
   "outputs": [],
   "source": [
    "# select the years and global earnings of each film\n",
    "geot = finale[['year', 'global_gross']].dropna()"
   ]
  },
  {
   "cell_type": "code",
   "execution_count": 765,
   "id": "41aae5fb",
   "metadata": {},
   "outputs": [
    {
     "data": {
      "text/html": [
       "<div>\n",
       "<style scoped>\n",
       "    .dataframe tbody tr th:only-of-type {\n",
       "        vertical-align: middle;\n",
       "    }\n",
       "\n",
       "    .dataframe tbody tr th {\n",
       "        vertical-align: top;\n",
       "    }\n",
       "\n",
       "    .dataframe thead th {\n",
       "        text-align: right;\n",
       "    }\n",
       "</style>\n",
       "<table border=\"1\" class=\"dataframe\">\n",
       "  <thead>\n",
       "    <tr style=\"text-align: right;\">\n",
       "      <th></th>\n",
       "      <th>year</th>\n",
       "      <th>global_gross</th>\n",
       "    </tr>\n",
       "  </thead>\n",
       "  <tbody>\n",
       "    <tr>\n",
       "      <th>0</th>\n",
       "      <td>1937</td>\n",
       "      <td>418200000.0</td>\n",
       "    </tr>\n",
       "    <tr>\n",
       "      <th>1</th>\n",
       "      <td>1939</td>\n",
       "      <td>402382193.0</td>\n",
       "    </tr>\n",
       "    <tr>\n",
       "      <th>2</th>\n",
       "      <td>1940</td>\n",
       "      <td>84254167.0</td>\n",
       "    </tr>\n",
       "    <tr>\n",
       "      <th>3</th>\n",
       "      <td>1942</td>\n",
       "      <td>267447150.0</td>\n",
       "    </tr>\n",
       "    <tr>\n",
       "      <th>4</th>\n",
       "      <td>1950</td>\n",
       "      <td>93141149.0</td>\n",
       "    </tr>\n",
       "  </tbody>\n",
       "</table>\n",
       "</div>"
      ],
      "text/plain": [
       "   year  global_gross\n",
       "0  1937   418200000.0\n",
       "1  1939   402382193.0\n",
       "2  1940    84254167.0\n",
       "3  1942   267447150.0\n",
       "4  1950    93141149.0"
      ]
     },
     "execution_count": 765,
     "metadata": {},
     "output_type": "execute_result"
    }
   ],
   "source": [
    "# group by year and get the average earnings across each respective year\n",
    "grpby = geot.groupby(by='year').agg(np.mean).reset_index()\n",
    "grpby.head()"
   ]
  },
  {
   "cell_type": "code",
   "execution_count": 766,
   "id": "ae47ae37",
   "metadata": {},
   "outputs": [
    {
     "data": {
      "image/png": "[encoded data removed]",
      "text/plain": [
       "<Figure size 640x480 with 1 Axes>"
      ]
     },
     "metadata": {},
     "output_type": "display_data"
    }
   ],
   "source": [
    "# plot the average earnings over time\n",
    "plt.title('Average Earnings Over Time')\n",
    "plt.plot(grpby.year, grpby.global_gross, color='green', ls='-')\n",
    "plt.xlabel('Year')\n",
    "plt.ylabel('Average Earnings')\n",
    "# adjust the y-axis so that is displays dollar values instead of scientific notation\n",
    "plt.yticks(range(0, 6*(10**8), 10**8), [f'${x:,}' for x in range(0, 6*(10**8), 10**8)])\n",
    "plt.show()"
   ]
  },
  {
   "cell_type": "markdown",
   "id": "52123e60",
   "metadata": {},
   "source": [
    "The plot demonstrates that the average earnings for blockbuster films has increased steadily over time from around \\\\$100mil to over \\\\$500mil between 1940 and 2020. There are of course some discrepancies, mostly due to the small sample size for films made before 1960, and the notable droop in earnings in 2020 (due to COVID-19). "
   ]
  },
  {
   "cell_type": "markdown",
   "id": "75ffe25c",
   "metadata": {},
   "source": [
    "### Step 6: Highest Earning Directors"
   ]
  },
  {
   "cell_type": "code",
   "execution_count": 767,
   "id": "66812c8f",
   "metadata": {},
   "outputs": [
    {
     "data": {
      "text/html": [
       "<div>\n",
       "<style scoped>\n",
       "    .dataframe tbody tr th:only-of-type {\n",
       "        vertical-align: middle;\n",
       "    }\n",
       "\n",
       "    .dataframe tbody tr th {\n",
       "        vertical-align: top;\n",
       "    }\n",
       "\n",
       "    .dataframe thead th {\n",
       "        text-align: right;\n",
       "    }\n",
       "</style>\n",
       "<table border=\"1\" class=\"dataframe\">\n",
       "  <thead>\n",
       "    <tr style=\"text-align: right;\">\n",
       "      <th></th>\n",
       "      <th>director_imdb</th>\n",
       "      <th>global_gross</th>\n",
       "    </tr>\n",
       "  </thead>\n",
       "  <tbody>\n",
       "    <tr>\n",
       "      <th>0</th>\n",
       "      <td>\"Gavin OConnor\"</td>\n",
       "      <td>1.551600e+08</td>\n",
       "    </tr>\n",
       "    <tr>\n",
       "      <th>1</th>\n",
       "      <td>Aaron Blaise, Robert Walker</td>\n",
       "      <td>2.503978e+08</td>\n",
       "    </tr>\n",
       "    <tr>\n",
       "      <th>2</th>\n",
       "      <td>Aaron Horvath, Michael Jelenic, Pierre Leduc</td>\n",
       "      <td>1.362038e+09</td>\n",
       "    </tr>\n",
       "    <tr>\n",
       "      <th>3</th>\n",
       "      <td>Aaron Nee, Adam Nee</td>\n",
       "      <td>1.929077e+08</td>\n",
       "    </tr>\n",
       "    <tr>\n",
       "      <th>4</th>\n",
       "      <td>Adam McKay</td>\n",
       "      <td>7.250336e+08</td>\n",
       "    </tr>\n",
       "  </tbody>\n",
       "</table>\n",
       "</div>"
      ],
      "text/plain": [
       "                                  director_imdb  global_gross\n",
       "0                               \"Gavin OConnor\"  1.551600e+08\n",
       "1                   Aaron Blaise, Robert Walker  2.503978e+08\n",
       "2  Aaron Horvath, Michael Jelenic, Pierre Leduc  1.362038e+09\n",
       "3                           Aaron Nee, Adam Nee  1.929077e+08\n",
       "4                                    Adam McKay  7.250336e+08"
      ]
     },
     "execution_count": 767,
     "metadata": {},
     "output_type": "execute_result"
    }
   ],
   "source": [
    "# select the directors and total earnings\n",
    "direcs = finale[['director_imdb', 'global_gross']].dropna()\n",
    "# group by director(s) and get the sum of all of their films\n",
    "grpby = direcs.groupby(by='director_imdb').agg(np.sum).reset_index()\n",
    "grpby.head()"
   ]
  },
  {
   "cell_type": "code",
   "execution_count": 768,
   "id": "4f0bc88d",
   "metadata": {},
   "outputs": [],
   "source": [
    "# get the top 15 directors by the total earnings of their blockbuster films\n",
    "top15 = grpby.sort_values(by='global_gross', ascending=False)[:15]"
   ]
  },
  {
   "cell_type": "code",
   "execution_count": 769,
   "id": "b6bd6733",
   "metadata": {},
   "outputs": [
    {
     "data": {
      "image/png": "[encoded data removed]",
      "text/plain": [
       "<Figure size 640x480 with 1 Axes>"
      ]
     },
     "metadata": {},
     "output_type": "display_data"
    }
   ],
   "source": [
    "# plot a horizontal bar chart that shows each of the top 15 directors with their \n",
    "# respective films' total earnings\n",
    "plt.title('Highest Earning Directors')\n",
    "plt.xlabel('Total Earnings ($bil)')\n",
    "plt.barh(y=top15.director_imdb, width=top15.global_gross, color='black')\n",
    "plt.xticks(range(0, 10**10, 10**9), [f'{x:,}' for x in range(10)])\n",
    "plt.show()"
   ]
  },
  {
   "cell_type": "markdown",
   "id": "1f7a2e75",
   "metadata": {},
   "source": [
    "From this list of the highest earings directors, we can see that Steven Spielberg, James Cameron, and the Russo Brothers all have films that have earned more than \\\\$6bil total. This is of course not a robust list, as only the top ~1000 highest-earning films are considered in this dataset. "
   ]
  },
  {
   "cell_type": "markdown",
   "id": "f738ecd7",
   "metadata": {},
   "source": [
    "### Step 7: Budget vs. Global Earnings Ratio"
   ]
  },
  {
   "cell_type": "code",
   "execution_count": 770,
   "id": "5c81cf5b",
   "metadata": {},
   "outputs": [],
   "source": [
    "# get the titles, budget and earnings for each film\n",
    "bvge = finale[['title_imdb', 'budget', 'global_gross']].dropna()"
   ]
  },
  {
   "cell_type": "code",
   "execution_count": 771,
   "id": "b7993125",
   "metadata": {},
   "outputs": [],
   "source": [
    "# create a column that calculates the ratio of a films earnings to its budget\n",
    "bvge['ratio'] = bvge.global_gross / bvge.budget"
   ]
  },
  {
   "cell_type": "code",
   "execution_count": 794,
   "id": "ceeab3e6",
   "metadata": {},
   "outputs": [],
   "source": [
    "# sort each of the two datasets by the films with the highest ratio and the lowest ratio\n",
    "topfilm = bvge.sort_values(by='ratio', ascending=False)\n",
    "botfilm = bvge.sort_values(by='ratio', ascending=True)"
   ]
  },
  {
   "cell_type": "code",
   "execution_count": 796,
   "id": "c54dd582",
   "metadata": {},
   "outputs": [
    {
     "data": {
      "image/png": "[encoded data removed]",
      "text/plain": [
       "<Figure size 640x480 with 1 Axes>"
      ]
     },
     "metadata": {},
     "output_type": "display_data"
    }
   ],
   "source": [
    "# plot a horizontal bar graph of the films with the highest ratio\n",
    "plt.title('Highest Earning Films by Ratio')\n",
    "plt.xlabel('Earnings / Budget ($)')\n",
    "plt.barh(y=topfilm[:10].title_imdb, width=topfilm[:10].ratio, color='orange')\n",
    "plt.show()"
   ]
  },
  {
   "cell_type": "code",
   "execution_count": 801,
   "id": "21789ce0",
   "metadata": {},
   "outputs": [
    {
     "data": {
      "image/png": "[encoded data removed]",
      "text/plain": [
       "<Figure size 640x480 with 1 Axes>"
      ]
     },
     "metadata": {},
     "output_type": "display_data"
    }
   ],
   "source": [
    "# plot a horizontal bar graph of the films with the lowest ratio\n",
    "plt.title('Lowest Earning Films by Ratio')\n",
    "plt.xlabel('Earnings / Budget ($)')\n",
    "plt.barh(y=botfilm[:10].title_imdb, width=botfilm[:10].ratio, color='lightblue')\n",
    "plt.show()"
   ]
  },
  {
   "cell_type": "code",
   "execution_count": 808,
   "id": "23ebd744",
   "metadata": {},
   "outputs": [
    {
     "data": {
      "image/png": "[encoded data removed]",
      "text/plain": [
       "<Figure size 640x480 with 1 Axes>"
      ]
     },
     "metadata": {},
     "output_type": "display_data"
    }
   ],
   "source": [
    "# display a histogram of the earnings ratios\n",
    "plt.title('Histogram of Earnings Ratios')\n",
    "plt.xlabel('Earnings / Budget ($)')\n",
    "plt.ylabel('Count')\n",
    "# omit the top 10 films by ratio, as they are significant outliers that would skew the scale of the graph\n",
    "plt.hist(topfilm.ratio[10:], bins=100, color='darkgreen')\n",
    "plt.show()"
   ]
  },
  {
   "cell_type": "markdown",
   "id": "bf8d0fb0",
   "metadata": {},
   "source": [
    "As is clearly seen by the first plot, the Blair Witch Project is a significant outlier with its earnings ratio of over 4000 to 1. This film is notable for its guerilla marketing tactics, becoming a blockbuster despite its bare-bones budget. Additionally, several older films (e.g. Bambi, Snow White, Gone with the Wind) had significantly higher earnings ratios than average. This is most likely due to older films tending to have significantly lower budgets compared to how many people saw them at the time.  \n",
    "\n",
    "As for the films with the lowest ratio, we can see that there are only a few films that failed to earn as much as their budget - The Marvels, Evan Almighty, and Jack the Giant Slayer. Despite their low earnings, they still made the list of top 1000 highest earning films. Even though they earned a substantial sum of money at the box office, these profits were simply outweighed by their massive budgets. \n",
    "\n",
    "Taking a look at the histogram for these ratios, we see that the vast majority of blockbuster films earn somewhere between 1-5x their budget. "
   ]
  },
  {
   "cell_type": "markdown",
   "id": "f7238e00",
   "metadata": {},
   "source": [
    "## Final Thoughts and Implications"
   ]
  },
  {
   "cell_type": "markdown",
   "id": "562e4e3a",
   "metadata": {},
   "source": [
    "This project looked at the top 1000 highest earning films, how much they earn, how critics view them, and what factors could contribute to them becoming blockbusters. First, a flat file containing over 140,000 films was extracted and cleaned from the Rotten Tomatoes (RT) database. Subsequently, website data from boxofficemojo (subordinate to IMDB) was used to produce a dataset of the top 1000 highest-earning films. This dataset was further supplemented by making calls to the IMDB API. Once movie data was gathered from both the IMDB and RT databases into dataframes, all this data was merged and added to an SQLite database. \n",
    "\t\n",
    "    \n",
    "The Rotten Tomatoes data was filtered significantly, as only a small fraction of the films and TV shows in the dataset were relevant to the project at hand. The IMDB data was overall easier to work with and more robust, as the API was able to find the appropriate film given a search query for the majority of queries. One of the biggest challenges in the project was merging the IMDB data and Rotten Tomatoes data together. For a large portion of films, there were significant stylistic differences in how their titles were presented – e.g. using different special characters, including the director in the title, and including a preamble. It was decided that the easiest way would be to find commonalities between IMDB and RT that would describe a film without needing the title. The easiest way to do this was to use the release date of the film along with its runtime. This is because it would be very unlikely for a film to be released on the same day, be the same length and earn a high amount.  This ended up being somewhat effective, as over half of the top 1000 films were able to be merged correctly despite the differences in title conventions. \n",
    "    \n",
    "    \n",
    "Rotten Tomatoes data was gathered via a third-party source (Kaggle), with the contributor of the dataset ensuring ethical web-scraping practices were applied to retrieve the data.  IMDB data was primarily extracted via the python Cinemagoer module, which is a means of making requests to the IMDB site through an API. IMDB guidelines state that scraped data cannot be used for commercial gain, so as this is simply an educational project, this would not have applied. Additionally, due to discrepancies between the information contained in the Rotten Tomatoes and IMDB datasets, it would be difficult to make conclusive assertions from the data gathered."
   ]
  },
  {
   "cell_type": "code",
   "execution_count": null,
   "id": "7d5fabec",
   "metadata": {},
   "outputs": [],
   "source": []
  }
 ],
 "metadata": {
  "kernelspec": {
   "display_name": "Python 3 (ipykernel)",
   "language": "python",
   "name": "python3"
  },
  "language_info": {
   "codemirror_mode": {
    "name": "ipython",
    "version": 3
   },
   "file_extension": ".py",
   "mimetype": "text/x-python",
   "name": "python",
   "nbconvert_exporter": "python",
   "pygments_lexer": "ipython3",
   "version": "3.11.5"
  }
 },
 "nbformat": 4,
 "nbformat_minor": 5
}
